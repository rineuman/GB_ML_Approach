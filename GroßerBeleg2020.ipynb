{
  "nbformat": 4,
  "nbformat_minor": 0,
  "metadata": {
    "colab": {
      "name": "GroßerBeleg2020.ipynb",
      "provenance": [],
      "collapsed_sections": [],
      "authorship_tag": "ABX9TyOjF4dyYp7QOsPz9bUh4LOA",
      "include_colab_link": true
    },
    "kernelspec": {
      "name": "python3",
      "display_name": "Python 3"
    }
  },
  "cells": [
    {
      "cell_type": "markdown",
      "metadata": {
        "id": "view-in-github",
        "colab_type": "text"
      },
      "source": [
        "<a href=\"https://colab.research.google.com/github/rineuman/GB_ML_Approach/blob/master/Gro%C3%9FerBeleg2020.ipynb\" target=\"_parent\"><img src=\"https://colab.research.google.com/assets/colab-badge.svg\" alt=\"Open In Colab\"/></a>"
      ]
    },
    {
      "cell_type": "markdown",
      "metadata": {
        "id": "VpX0S7Mip7kn",
        "colab_type": "text"
      },
      "source": [
        "INSTALL LIBRARIES"
      ]
    },
    {
      "cell_type": "code",
      "metadata": {
        "id": "BzkUOWAwkqvZ",
        "colab_type": "code",
        "colab": {
          "base_uri": "https://localhost:8080/",
          "height": 35
        },
        "outputId": "93d5e55b-98e5-417d-a560-5316c5dbbabc"
      },
      "source": [
        "%tensorflow_version 1.x"
      ],
      "execution_count": 1,
      "outputs": [
        {
          "output_type": "stream",
          "text": [
            "TensorFlow 1.x selected.\n"
          ],
          "name": "stdout"
        }
      ]
    },
    {
      "cell_type": "code",
      "metadata": {
        "id": "oJ93DjwArpsZ",
        "colab_type": "code",
        "colab": {
          "base_uri": "https://localhost:8080/",
          "height": 125
        },
        "outputId": "53cd2eab-2aa2-4554-8381-e01e2a0884b5"
      },
      "source": [
        "!pip install q keras==2.1"
      ],
      "execution_count": 2,
      "outputs": [
        {
          "output_type": "stream",
          "text": [
            "Requirement already satisfied: q in /usr/local/lib/python3.6/dist-packages (2.6)\n",
            "Requirement already satisfied: keras==2.1 in /usr/local/lib/python3.6/dist-packages (2.1.0)\n",
            "Requirement already satisfied: numpy>=1.9.1 in /usr/local/lib/python3.6/dist-packages (from keras==2.1) (1.18.4)\n",
            "Requirement already satisfied: pyyaml in /usr/local/lib/python3.6/dist-packages (from keras==2.1) (3.13)\n",
            "Requirement already satisfied: scipy>=0.14 in /usr/local/lib/python3.6/dist-packages (from keras==2.1) (1.4.1)\n",
            "Requirement already satisfied: six>=1.9.0 in /usr/local/lib/python3.6/dist-packages (from keras==2.1) (1.12.0)\n"
          ],
          "name": "stdout"
        }
      ]
    },
    {
      "cell_type": "code",
      "metadata": {
        "id": "wbXZOTOOrW5J",
        "colab_type": "code",
        "colab": {}
      },
      "source": [
        ""
      ],
      "execution_count": 0,
      "outputs": []
    },
    {
      "cell_type": "code",
      "metadata": {
        "id": "FjczNeUln0YW",
        "colab_type": "code",
        "colab": {
          "base_uri": "https://localhost:8080/",
          "height": 557
        },
        "outputId": "9d5a0363-6302-4d4f-da0b-363e7a7122c9"
      },
      "source": [
        "!pip install imgaug\n",
        "!pip install Cython\n",
        "!pip install pycocotools\n",
        "!pip install kaggle"
      ],
      "execution_count": 3,
      "outputs": [
        {
          "output_type": "stream",
          "text": [
            "Requirement already satisfied: imgaug in /usr/local/lib/python3.6/dist-packages (0.2.9)\n",
            "Requirement already satisfied: Pillow in /usr/local/lib/python3.6/dist-packages (from imgaug) (7.0.0)\n",
            "Requirement already satisfied: six in /usr/local/lib/python3.6/dist-packages (from imgaug) (1.12.0)\n",
            "Requirement already satisfied: scikit-image>=0.11.0 in /usr/local/lib/python3.6/dist-packages (from imgaug) (0.16.2)\n",
            "Requirement already satisfied: matplotlib in /usr/local/lib/python3.6/dist-packages (from imgaug) (3.2.1)\n",
            "Requirement already satisfied: opencv-python in /usr/local/lib/python3.6/dist-packages (from imgaug) (4.1.2.30)\n",
            "Requirement already satisfied: imageio in /usr/local/lib/python3.6/dist-packages (from imgaug) (2.4.1)\n",
            "Requirement already satisfied: Shapely in /usr/local/lib/python3.6/dist-packages (from imgaug) (1.7.0)\n",
            "Requirement already satisfied: scipy in /usr/local/lib/python3.6/dist-packages (from imgaug) (1.4.1)\n",
            "Requirement already satisfied: numpy>=1.15.0 in /usr/local/lib/python3.6/dist-packages (from imgaug) (1.18.4)\n",
            "Requirement already satisfied: networkx>=2.0 in /usr/local/lib/python3.6/dist-packages (from scikit-image>=0.11.0->imgaug) (2.4)\n",
            "Requirement already satisfied: PyWavelets>=0.4.0 in /usr/local/lib/python3.6/dist-packages (from scikit-image>=0.11.0->imgaug) (1.1.1)\n",
            "Requirement already satisfied: cycler>=0.10 in /usr/local/lib/python3.6/dist-packages (from matplotlib->imgaug) (0.10.0)\n",
            "Requirement already satisfied: python-dateutil>=2.1 in /usr/local/lib/python3.6/dist-packages (from matplotlib->imgaug) (2.8.1)\n",
            "Requirement already satisfied: pyparsing!=2.0.4,!=2.1.2,!=2.1.6,>=2.0.1 in /usr/local/lib/python3.6/dist-packages (from matplotlib->imgaug) (2.4.7)\n",
            "Requirement already satisfied: kiwisolver>=1.0.1 in /usr/local/lib/python3.6/dist-packages (from matplotlib->imgaug) (1.2.0)\n",
            "Requirement already satisfied: decorator>=4.3.0 in /usr/local/lib/python3.6/dist-packages (from networkx>=2.0->scikit-image>=0.11.0->imgaug) (4.4.2)\n",
            "Requirement already satisfied: Cython in /usr/local/lib/python3.6/dist-packages (0.29.19)\n",
            "Requirement already satisfied: pycocotools in /usr/local/lib/python3.6/dist-packages (2.0.0)\n",
            "Requirement already satisfied: kaggle in /usr/local/lib/python3.6/dist-packages (1.5.6)\n",
            "Requirement already satisfied: certifi in /usr/local/lib/python3.6/dist-packages (from kaggle) (2020.4.5.1)\n",
            "Requirement already satisfied: urllib3<1.25,>=1.21.1 in /usr/local/lib/python3.6/dist-packages (from kaggle) (1.24.3)\n",
            "Requirement already satisfied: python-dateutil in /usr/local/lib/python3.6/dist-packages (from kaggle) (2.8.1)\n",
            "Requirement already satisfied: python-slugify in /usr/local/lib/python3.6/dist-packages (from kaggle) (4.0.0)\n",
            "Requirement already satisfied: six>=1.10 in /usr/local/lib/python3.6/dist-packages (from kaggle) (1.12.0)\n",
            "Requirement already satisfied: tqdm in /usr/local/lib/python3.6/dist-packages (from kaggle) (4.41.1)\n",
            "Requirement already satisfied: requests in /usr/local/lib/python3.6/dist-packages (from kaggle) (2.23.0)\n",
            "Requirement already satisfied: text-unidecode>=1.3 in /usr/local/lib/python3.6/dist-packages (from python-slugify->kaggle) (1.3)\n",
            "Requirement already satisfied: idna<3,>=2.5 in /usr/local/lib/python3.6/dist-packages (from requests->kaggle) (2.9)\n",
            "Requirement already satisfied: chardet<4,>=3.0.2 in /usr/local/lib/python3.6/dist-packages (from requests->kaggle) (3.0.4)\n"
          ],
          "name": "stdout"
        }
      ]
    },
    {
      "cell_type": "markdown",
      "metadata": {
        "id": "DauP4U4kqK5a",
        "colab_type": "text"
      },
      "source": [
        "CLONE MATTERPORT REPOSITORY"
      ]
    },
    {
      "cell_type": "code",
      "metadata": {
        "id": "Bs8vM7mZqGQG",
        "colab_type": "code",
        "colab": {
          "base_uri": "https://localhost:8080/",
          "height": 35
        },
        "outputId": "95935e64-cfec-467d-bf27-c6c52e62568c"
      },
      "source": [
        "!git clone https://github.com/matterport/Mask_RCNN"
      ],
      "execution_count": 4,
      "outputs": [
        {
          "output_type": "stream",
          "text": [
            "fatal: destination path 'Mask_RCNN' already exists and is not an empty directory.\n"
          ],
          "name": "stdout"
        }
      ]
    },
    {
      "cell_type": "code",
      "metadata": {
        "id": "-KlLr8Wdb_13",
        "colab_type": "code",
        "colab": {
          "base_uri": "https://localhost:8080/",
          "height": 35
        },
        "outputId": "45ae2b57-af8f-4229-921c-628c42ae5526"
      },
      "source": [
        "! pwd"
      ],
      "execution_count": 5,
      "outputs": [
        {
          "output_type": "stream",
          "text": [
            "/content\n"
          ],
          "name": "stdout"
        }
      ]
    },
    {
      "cell_type": "code",
      "metadata": {
        "id": "jbFSv_YqqNg4",
        "colab_type": "code",
        "colab": {}
      },
      "source": [
        "import os \n",
        "os.chdir('Mask_RCNN')"
      ],
      "execution_count": 0,
      "outputs": []
    },
    {
      "cell_type": "code",
      "metadata": {
        "id": "DBn7gVtjbQhd",
        "colab_type": "code",
        "colab": {
          "base_uri": "https://localhost:8080/",
          "height": 35
        },
        "outputId": "0df93a5e-7867-4afc-95ba-58f20b974f4f"
      },
      "source": [
        "!git clone https://github.com/rineuman/barrierDataset.git"
      ],
      "execution_count": 7,
      "outputs": [
        {
          "output_type": "stream",
          "text": [
            "fatal: destination path 'barrierDataset' already exists and is not an empty directory.\n"
          ],
          "name": "stdout"
        }
      ]
    },
    {
      "cell_type": "code",
      "metadata": {
        "id": "PsgW9H4SbHsT",
        "colab_type": "code",
        "colab": {}
      },
      "source": [
        "os.chdir('samples')"
      ],
      "execution_count": 0,
      "outputs": []
    },
    {
      "cell_type": "code",
      "metadata": {
        "id": "EuaQ0Yr2q3NI",
        "colab_type": "code",
        "colab": {
          "base_uri": "https://localhost:8080/",
          "height": 35
        },
        "outputId": "dbed17e1-868e-4eb3-a0f9-1b4fa57490d4"
      },
      "source": [
        "import sys\n",
        "import random\n",
        "import math\n",
        "import re\n",
        "import time\n",
        "import json\n",
        "import skimage.draw\n",
        "import numpy as np\n",
        "import cv2\n",
        "import matplotlib\n",
        "import matplotlib.pyplot as plt\n",
        "\n",
        "# Root directory of the project\n",
        "ROOT_DIR = os.path.abspath(\"../\")\n",
        "\n",
        "# Import Mask RCNN\n",
        "sys.path.append(ROOT_DIR)  # To find local version of the library\n",
        "from mrcnn.config import Config\n",
        "from mrcnn import utils\n",
        "import mrcnn.model as modellib\n",
        "from mrcnn import visualize\n",
        "from mrcnn.model import log\n",
        "\n",
        "%matplotlib inline \n",
        "\n",
        "# Directory to save logs and trained model\n",
        "MODEL_DIR = os.path.join(ROOT_DIR, \"logs\")\n",
        "\n",
        "# Local path to trained weights file\n",
        "COCO_MODEL_PATH = os.path.join(ROOT_DIR, \"mask_rcnn_coco.h5\")\n",
        "# Download COCO trained weights from Releases if needed\n",
        "if not os.path.exists(COCO_MODEL_PATH):\n",
        "    utils.download_trained_weights(COCO_MODEL_PATH)\n",
        "\n",
        "# Directory of images to run detection on\n",
        "IMAGE_DIR = os.path.join(ROOT_DIR, \"barrierDataset/val\")"
      ],
      "execution_count": 9,
      "outputs": [
        {
          "output_type": "stream",
          "text": [
            "Using TensorFlow backend.\n"
          ],
          "name": "stderr"
        }
      ]
    },
    {
      "cell_type": "markdown",
      "metadata": {
        "id": "6WEwSblUtME_",
        "colab_type": "text"
      },
      "source": [
        "CONFIGURATION"
      ]
    },
    {
      "cell_type": "code",
      "metadata": {
        "id": "UPzlNYsRr3ZS",
        "colab_type": "code",
        "colab": {
          "base_uri": "https://localhost:8080/",
          "height": 953
        },
        "outputId": "1d8a07cb-9838-4a4e-f368-b7f7408d9d05"
      },
      "source": [
        "class BarrierConfig(Config):\n",
        "    \"\"\"Configuration for training on the toy shapes dataset.\n",
        "    Derives from the base Config class and overrides values specific\n",
        "    to the toy shapes dataset.\n",
        "    \"\"\"\n",
        "    # Give the configuration a recognizable name\n",
        "    NAME = \"barriers\"\n",
        "\n",
        "    # Train on 1 GPU and 8 images per GPU. We can put multiple images on each\n",
        "    # GPU because the images are small. Batch size is 8 (GPUs * images/GPU).\n",
        "    GPU_COUNT = 1\n",
        "    IMAGES_PER_GPU = 1\n",
        "\n",
        "    # Number of classes (including background)\n",
        "    NUM_CLASSES = 1 + 3  # background + 3 barriers\n",
        "\n",
        "    # Use small images for faster training. Set the limits of the small side\n",
        "    # the large side, and that determines the image shape.\n",
        "    # IMAGE_MIN_DIM = 128\n",
        "    # IMAGE_MAX_DIM = 128\n",
        "\n",
        "    # Use smaller anchors because our image and objects are small\n",
        "    # RPN_ANCHOR_SCALES = (8, 16, 32, 64, 128)  # anchor side in pixels\n",
        "\n",
        "    # Reduce training ROIs per image because the images are small and have\n",
        "    # few objects. Aim to allow ROI sampling to pick 33% positive ROIs.\n",
        "    # TRAIN_ROIS_PER_IMAGE = 32\n",
        "\n",
        "    # Use a small epoch since the data is simple\n",
        "    STEPS_PER_EPOCH = 100\n",
        "\n",
        "    # use small validation steps since the epoch is small\n",
        "    # VALIDATION_STEPS = 5\n",
        "    \n",
        "config = BarrierConfig()\n",
        "config.display()"
      ],
      "execution_count": 10,
      "outputs": [
        {
          "output_type": "stream",
          "text": [
            "\n",
            "Configurations:\n",
            "BACKBONE                       resnet101\n",
            "BACKBONE_STRIDES               [4, 8, 16, 32, 64]\n",
            "BATCH_SIZE                     1\n",
            "BBOX_STD_DEV                   [0.1 0.1 0.2 0.2]\n",
            "COMPUTE_BACKBONE_SHAPE         None\n",
            "DETECTION_MAX_INSTANCES        100\n",
            "DETECTION_MIN_CONFIDENCE       0.7\n",
            "DETECTION_NMS_THRESHOLD        0.3\n",
            "FPN_CLASSIF_FC_LAYERS_SIZE     1024\n",
            "GPU_COUNT                      1\n",
            "GRADIENT_CLIP_NORM             5.0\n",
            "IMAGES_PER_GPU                 1\n",
            "IMAGE_CHANNEL_COUNT            3\n",
            "IMAGE_MAX_DIM                  1024\n",
            "IMAGE_META_SIZE                16\n",
            "IMAGE_MIN_DIM                  800\n",
            "IMAGE_MIN_SCALE                0\n",
            "IMAGE_RESIZE_MODE              square\n",
            "IMAGE_SHAPE                    [1024 1024    3]\n",
            "LEARNING_MOMENTUM              0.9\n",
            "LEARNING_RATE                  0.001\n",
            "LOSS_WEIGHTS                   {'rpn_class_loss': 1.0, 'rpn_bbox_loss': 1.0, 'mrcnn_class_loss': 1.0, 'mrcnn_bbox_loss': 1.0, 'mrcnn_mask_loss': 1.0}\n",
            "MASK_POOL_SIZE                 14\n",
            "MASK_SHAPE                     [28, 28]\n",
            "MAX_GT_INSTANCES               100\n",
            "MEAN_PIXEL                     [123.7 116.8 103.9]\n",
            "MINI_MASK_SHAPE                (56, 56)\n",
            "NAME                           barriers\n",
            "NUM_CLASSES                    4\n",
            "POOL_SIZE                      7\n",
            "POST_NMS_ROIS_INFERENCE        1000\n",
            "POST_NMS_ROIS_TRAINING         2000\n",
            "PRE_NMS_LIMIT                  6000\n",
            "ROI_POSITIVE_RATIO             0.33\n",
            "RPN_ANCHOR_RATIOS              [0.5, 1, 2]\n",
            "RPN_ANCHOR_SCALES              (32, 64, 128, 256, 512)\n",
            "RPN_ANCHOR_STRIDE              1\n",
            "RPN_BBOX_STD_DEV               [0.1 0.1 0.2 0.2]\n",
            "RPN_NMS_THRESHOLD              0.7\n",
            "RPN_TRAIN_ANCHORS_PER_IMAGE    256\n",
            "STEPS_PER_EPOCH                100\n",
            "TOP_DOWN_PYRAMID_SIZE          256\n",
            "TRAIN_BN                       False\n",
            "TRAIN_ROIS_PER_IMAGE           200\n",
            "USE_MINI_MASK                  True\n",
            "USE_RPN_ROIS                   True\n",
            "VALIDATION_STEPS               50\n",
            "WEIGHT_DECAY                   0.0001\n",
            "\n",
            "\n"
          ],
          "name": "stdout"
        }
      ]
    },
    {
      "cell_type": "markdown",
      "metadata": {
        "id": "ewQJZpEYuJl3",
        "colab_type": "text"
      },
      "source": [
        "DATASET"
      ]
    },
    {
      "cell_type": "code",
      "metadata": {
        "id": "vAqjdUq6uLRT",
        "colab_type": "code",
        "colab": {}
      },
      "source": [
        "class BarrierDataset(utils.Dataset):\n",
        "    \"\"\"Generates the shapes synthetic dataset. The dataset consists of simple\n",
        "    shapes (triangles, squares, circles) placed randomly on a blank surface.\n",
        "    The images are generated on the fly. No file access required.\n",
        "    \"\"\"\n",
        "\n",
        "    def load_barrier(self, dataset_dir, subset):\n",
        "        \"\"\"Generate the requested number of synthetic images.\n",
        "        count: number of images to generate.\n",
        "        height, width: the size of the generated images.\n",
        "        \"\"\"\n",
        "        # Add classes\n",
        "        self.add_class(\"barrier\", 1, \"door\")\n",
        "        self.add_class(\"barrier\", 2, \"stair\")\n",
        "        self.add_class(\"barrier\", 3, \"lift\")\n",
        "\n",
        "         # Train or validation dataset?\n",
        "        assert subset in [\"train\", \"val\"]\n",
        "        dataset_dir = os.path.join(dataset_dir, subset)\n",
        "\n",
        "        # Load annotations\n",
        "        # VGG Image Annotator saves each image in the form:\n",
        "        # { 'filename': '28503151_5b5b7ec140_b.jpg',\n",
        "        #   'regions': {\n",
        "        #       '0': {\n",
        "        #           'region_attributes': {},\n",
        "        #           'shape_attributes': {\n",
        "        #               'all_points_x': [...],\n",
        "        #               'all_points_y': [...],\n",
        "        #               'name': 'polygon'}},\n",
        "        #       ... more regions ...\n",
        "        #   },\n",
        "        #   'size': 100202\n",
        "        # }\n",
        "        # We mostly care about the x and y coordinates of each region\n",
        "        annotations1 = json.load(open(os.path.join(dataset_dir, \"via_export_json.json\")))\n",
        "        # print(annotations1)\n",
        "        annotations = list(annotations1.values())  # don't need the dict keys\n",
        "\n",
        "        # The VIA tool saves images in the JSON even if they don't have any\n",
        "        # annotations. Skip unannotated images.\n",
        "        annotations = [a for a in annotations if a['regions']]\n",
        "\n",
        "        # Add images\n",
        "        for a in annotations:\n",
        "            print(a)\n",
        "            # Get the x, y coordinaets of points of the polygons that make up\n",
        "            # the outline of each object instance. There are stores in the\n",
        "            # shape_attributes (see json format above)\n",
        "            polygons = [r['shape_attributes'] for r in a['regions']]\n",
        "            barriers = [r['region_attributes']for r in a['regions']]\n",
        "            print(barriers)\n",
        "\n",
        "            # load_mask() needs the image size to convert polygons to masks.\n",
        "            # Unfortunately, VIA doesn't include it in JSON, so we must read\n",
        "            # the image. This is only managable since the dataset is tiny.\n",
        "            image_path = os.path.join(dataset_dir, a['filename'])\n",
        "            image = skimage.io.imread(image_path)\n",
        "            height, width = image.shape[:2]\n",
        "\n",
        "            self.add_image(\n",
        "                \"barrier\",  ## for a single class just add the name here\n",
        "                image_id=a['filename'],  # use file name as a unique image id\n",
        "                path=image_path,\n",
        "                width=width, height=height,\n",
        "                polygons=polygons)\n",
        "\n",
        "    def image_reference(self, image_id):\n",
        "        \"\"\"Return the shapes data of the image.\"\"\"\n",
        "        print(self.image_info)\n",
        "        info = self.image_info[image_id]\n",
        "        if info[\"source\"] == \"barrier\":\n",
        "            return info[\"path\"]\n",
        "        else:\n",
        "            super(self.__class__).image_reference(self, image_id)\n",
        "\n",
        "    def load_mask(self, image_id):\n",
        "        \"\"\"Generate instance masks for an image.\n",
        "       Returns:\n",
        "        masks: A bool array of shape [height, width, instance count] with\n",
        "            one mask per instance.\n",
        "        class_ids: a 1D array of class IDs of the instance masks.\n",
        "        \"\"\"\n",
        "        # If not a bottle dataset image, delegate to parent class.\n",
        "        image_info = self.image_info[image_id]\n",
        "        if image_info[\"source\"] != \"barrier\":\n",
        "            return super(self.__class__, self).load_mask(image_id)\n",
        "\n",
        "        # Convert polygons to a bitmap mask of shape\n",
        "        # [height, width, instance_count]\n",
        "        info = self.image_info[image_id]\n",
        "        mask = np.zeros([info[\"height\"], info[\"width\"], len(info[\"polygons\"])],\n",
        "                        dtype=np.uint8)\n",
        "        for i, p in enumerate(info[\"polygons\"]):\n",
        "            # Get indexes of pixels inside the polygon and set them to 1\n",
        "            rr, cc = skimage.draw.polygon(p['y'], p['x'])\n",
        "            mask[rr, cc, i] = 1\n",
        "\n",
        "        # Return mask, and array of class IDs of each instance. Since we have\n",
        "        # one class ID only, we return an array of 1s\n",
        "        return mask.astype(np.bool), np.ones([mask.shape[-1]], dtype=np.int32)"
      ],
      "execution_count": 0,
      "outputs": []
    },
    {
      "cell_type": "markdown",
      "metadata": {
        "id": "RKFQ59i1NwfH",
        "colab_type": "text"
      },
      "source": [
        "Extra functions\n"
      ]
    },
    {
      "cell_type": "code",
      "metadata": {
        "id": "1p-B82mVNqF2",
        "colab_type": "code",
        "colab": {}
      },
      "source": [
        "def color_splash(image, mask):\n",
        "    \"\"\"Apply color splash effect.\n",
        "    image: RGB image [height, width, 3]\n",
        "    mask: instance segmentation mask [height, width, instance count]\n",
        "    Returns result image.\n",
        "    \"\"\"\n",
        "    # Make a grayscale copy of the image. The grayscale copy still\n",
        "    # has 3 RGB channels, though.\n",
        "    gray = skimage.color.gray2rgb(skimage.color.rgb2gray(image)) * 255\n",
        "    # We're treating all instances as one, so collapse the mask into one layer\n",
        "    mask = (np.sum(mask, -1, keepdims=True) >= 1)\n",
        "    # Copy color pixels from the original color image where mask is set\n",
        "    if mask.shape[0] > 0:\n",
        "        splash = np.where(mask, image, gray).astype(np.uint8)\n",
        "    else:\n",
        "        splash = gray\n",
        "    return splash\n",
        "\n",
        "\n",
        "def detect_and_color_splash(model, image_path=None, video_path=None):\n",
        "    assert image_path or video_path\n",
        "\n",
        "    # Image or video?\n",
        "    if image_path:\n",
        "        # Run model detection and generate the color splash effect\n",
        "        print(\"Running on {}\".format(args.image))\n",
        "        # Read image\n",
        "        image = skimage.io.imread(args.image)\n",
        "        # Detect objects\n",
        "        r = model.detect([image], verbose=1)[0]\n",
        "        # Color splash\n",
        "        splash = color_splash(image, r['masks'])\n",
        "        # Save output\n",
        "        file_name = \"splash_{:%Y%m%dT%H%M%S}.png\".format(datetime.datetime.now())\n",
        "        skimage.io.imsave(file_name, splash)\n",
        "    elif video_path:\n",
        "        import cv2\n",
        "        # Video capture\n",
        "        vcapture = cv2.VideoCapture(video_path)\n",
        "        width = int(vcapture.get(cv2.CAP_PROP_FRAME_WIDTH))\n",
        "        height = int(vcapture.get(cv2.CAP_PROP_FRAME_HEIGHT))\n",
        "        fps = vcapture.get(cv2.CAP_PROP_FPS)\n",
        "\n",
        "        # Define codec and create video writer\n",
        "        file_name = \"splash_{:%Y%m%dT%H%M%S}.avi\".format(datetime.datetime.now())\n",
        "        vwriter = cv2.VideoWriter(file_name,\n",
        "                                  cv2.VideoWriter_fourcc(*'MJPG'),\n",
        "                                  fps, (width, height))\n",
        "\n",
        "        count = 0\n",
        "        success = True\n",
        "        while success:\n",
        "            print(\"frame: \", count)\n",
        "            # Read next image\n",
        "            success, image = vcapture.read()\n",
        "            if success:\n",
        "                # OpenCV returns images as BGR, convert to RGB\n",
        "                image = image[..., ::-1]\n",
        "                # Detect objects\n",
        "                r = model.detect([image], verbose=0)[0]\n",
        "                # Color splash\n",
        "                splash = color_splash(image, r['masks'])\n",
        "                # RGB -> BGR to save image to video\n",
        "                splash = splash[..., ::-1]\n",
        "                # Add image to video writer\n",
        "                vwriter.write(splash)\n",
        "                count += 1\n",
        "        vwriter.release()\n",
        "    print(\"Saved to \", file_name)"
      ],
      "execution_count": 0,
      "outputs": []
    },
    {
      "cell_type": "markdown",
      "metadata": {
        "id": "VvtdDOAsNzn-",
        "colab_type": "text"
      },
      "source": [
        "Train\n"
      ]
    },
    {
      "cell_type": "code",
      "metadata": {
        "id": "G--k4iFvuRC5",
        "colab_type": "code",
        "colab": {
          "base_uri": "https://localhost:8080/",
          "height": 433
        },
        "outputId": "4889d0b9-6cc0-4b85-f388-30fb86b464b6"
      },
      "source": [
        "# Training dataset\n",
        "dataset_train = BarrierDataset()\n",
        "dataset_train.load_barrier(\"/content/Mask_RCNN/barrierDataset\", \"train\")\n",
        "dataset_train.prepare()\n",
        "\n",
        "# Validation dataset\n",
        "dataset_val = BarrierDataset()\n",
        "dataset_val.load_barrier(\"/content/Mask_RCNN/barrierDataset\", \"val\")\n",
        "dataset_val.prepare()"
      ],
      "execution_count": 13,
      "outputs": [
        {
          "output_type": "stream",
          "text": [
            "{'filename': 'FP_Watzke_Pieschen_CamScanner_mobil.jpg', 'size': 544893, 'regions': [{'shape_attributes': {'name': 'polygon', 'all_points_x': [206, 448, 443, 301, 292, 190], 'all_points_y': [201, 201, 294, 292, 502, 507]}, 'region_attributes': {'barrier': 'stair'}}, {'shape_attributes': {'name': 'polygon', 'all_points_x': [517, 545, 552, 505, 483], 'all_points_y': [358, 391, 443, 441, 386]}, 'region_attributes': {'barrier': 'stair'}}, {'shape_attributes': {'name': 'polygon', 'all_points_x': [185, 24, 21, 180], 'all_points_y': [585, 585, 898, 901]}, 'region_attributes': {'barrier': 'stair'}}, {'shape_attributes': {'name': 'polygon', 'all_points_x': [249, 180, 185, 251], 'all_points_y': [732, 730, 792, 794]}, 'region_attributes': {'barrier': 'door'}}, {'shape_attributes': {'name': 'polygon', 'all_points_x': [526, 403, 403, 540], 'all_points_y': [839, 839, 910, 915]}, 'region_attributes': {'barrier': 'door'}}, {'shape_attributes': {'name': 'polygon', 'all_points_x': [768, 891, 886, 763], 'all_points_y': [924, 924, 851, 846]}, 'region_attributes': {'barrier': 'door'}}, {'shape_attributes': {'name': 'polygon', 'all_points_x': [386, 507, 507, 398], 'all_points_y': [1434, 1429, 1484, 1486]}, 'region_attributes': {'barrier': 'door'}}, {'shape_attributes': {'name': 'polygon', 'all_points_x': [751, 870, 867, 749], 'all_points_y': [1431, 1431, 1500, 1498]}, 'region_attributes': {'barrier': 'door'}}, {'shape_attributes': {'name': 'polygon', 'all_points_x': [1185, 1183, 1294, 1292], 'all_points_y': [1469, 1541, 1541, 1469]}, 'region_attributes': {'barrier': 'door'}}, {'shape_attributes': {'name': 'polygon', 'all_points_x': [1152, 1076, 1083, 1145], 'all_points_y': [1346, 1344, 1450, 1458]}, 'region_attributes': {'barrier': 'door'}}, {'shape_attributes': {'name': 'polygon', 'all_points_x': [766, 841, 917, 839], 'all_points_y': [1811, 1894, 1818, 1751]}, 'region_attributes': {'barrier': 'stair'}}, {'shape_attributes': {'name': 'rect', 'x': 1687, 'y': 865, 'width': 57, 'height': 71}, 'region_attributes': {'barrier': 'door'}}, {'shape_attributes': {'name': 'rect', 'x': 1770, 'y': 860, 'width': 64, 'height': 78}, 'region_attributes': {'barrier': 'door'}}, {'shape_attributes': {'name': 'rect', 'x': 1602, 'y': 419, 'width': 81, 'height': 114}, 'region_attributes': {'barrier': 'door'}}, {'shape_attributes': {'name': 'rect', 'x': 2171, 'y': 600, 'width': 69, 'height': 88}, 'region_attributes': {'barrier': 'door'}}, {'shape_attributes': {'name': 'polygon', 'all_points_x': [2344, 2557, 2524, 2311], 'all_points_y': [486, 517, 678, 645]}, 'region_attributes': {'barrier': 'stair'}}, {'shape_attributes': {'name': 'polygon', 'all_points_x': [2823, 2801, 2721, 2744], 'all_points_y': [446, 550, 540, 429]}, 'region_attributes': {'barrier': 'stair'}}, {'shape_attributes': {'name': 'polygon', 'all_points_x': [1870, 2022, 2003, 1844], 'all_points_y': [154, 182, 256, 232]}, 'region_attributes': {'barrier': 'stair'}}, {'shape_attributes': {'name': 'polygon', 'all_points_x': [2368, 2169, 2169, 2368], 'all_points_y': [1232, 1225, 1282, 1292]}, 'region_attributes': {'barrier': 'stair'}}, {'shape_attributes': {'name': 'rect', 'x': 1455, 'y': 1185, 'width': 119, 'height': 55}, 'region_attributes': {'barrier': 'door'}}, {'shape_attributes': {'name': 'rect', 'x': 1699, 'y': 1194, 'width': 104, 'height': 50}, 'region_attributes': {'barrier': 'door'}}, {'shape_attributes': {'name': 'rect', 'x': 1996, 'y': 813, 'width': 81, 'height': 71}, 'region_attributes': {'barrier': 'door'}}, {'shape_attributes': {'name': 'rect', 'x': 2323, 'y': 784, 'width': 64, 'height': 85}, 'region_attributes': {'barrier': 'door'}}, {'shape_attributes': {'name': 'rect', 'x': 2406, 'y': 808, 'width': 66, 'height': 73}, 'region_attributes': {'barrier': 'door'}}, {'shape_attributes': {'name': 'rect', 'x': 2486, 'y': 815, 'width': 62, 'height': 73}, 'region_attributes': {'barrier': 'door'}}, {'shape_attributes': {'name': 'rect', 'x': 2571, 'y': 711, 'width': 76, 'height': 78}, 'region_attributes': {'barrier': 'door'}}, {'shape_attributes': {'name': 'rect', 'x': 2358, 'y': 666, 'width': 55, 'height': 73}, 'region_attributes': {'barrier': 'door'}}, {'shape_attributes': {'name': 'rect', 'x': 1474, 'y': 1477, 'width': 71, 'height': 71}, 'region_attributes': {'barrier': 'door'}}, {'shape_attributes': {'name': 'rect', 'x': 1979, 'y': 1166, 'width': 71, 'height': 69}, 'region_attributes': {'barrier': 'door'}}, {'shape_attributes': {'name': 'rect', 'x': 2095, 'y': 853, 'width': 31, 'height': 130}, 'region_attributes': {'barrier': 'door'}}, {'shape_attributes': {'name': 'rect', 'x': 2121, 'y': 787, 'width': 192, 'height': 218}, 'region_attributes': {'barrier': 'lift'}}, {'shape_attributes': {'name': 'polygon', 'all_points_x': [1676, 1858, 1858, 1666], 'all_points_y': [308, 341, 450, 415]}, 'region_attributes': {'barrier': 'stair'}}, {'shape_attributes': {'name': 'polygon', 'all_points_x': [1958, 2015, 2114, 2116, 2036, 2022, 1962], 'all_points_y': [455, 472, 415, 391, 389, 377, 360]}, 'region_attributes': {'barrier': 'stair'}}, {'shape_attributes': {'name': 'polygon', 'all_points_x': [2519, 2593, 2583, 2515], 'all_points_y': [346, 358, 405, 398]}, 'region_attributes': {'barrier': 'stair'}}, {'shape_attributes': {'name': 'polygon', 'all_points_x': [2678, 2654, 2714, 2735], 'all_points_y': [415, 521, 538, 429]}, 'region_attributes': {'barrier': 'door'}}, {'shape_attributes': {'name': 'polygon', 'all_points_x': [2614, 2593, 2650, 2673], 'all_points_y': [529, 593, 616, 552]}, 'region_attributes': {'barrier': 'door'}}], 'file_attributes': {}}\n",
            "[{'barrier': 'stair'}, {'barrier': 'stair'}, {'barrier': 'stair'}, {'barrier': 'door'}, {'barrier': 'door'}, {'barrier': 'door'}, {'barrier': 'door'}, {'barrier': 'door'}, {'barrier': 'door'}, {'barrier': 'door'}, {'barrier': 'stair'}, {'barrier': 'door'}, {'barrier': 'door'}, {'barrier': 'door'}, {'barrier': 'door'}, {'barrier': 'stair'}, {'barrier': 'stair'}, {'barrier': 'stair'}, {'barrier': 'stair'}, {'barrier': 'door'}, {'barrier': 'door'}, {'barrier': 'door'}, {'barrier': 'door'}, {'barrier': 'door'}, {'barrier': 'door'}, {'barrier': 'door'}, {'barrier': 'door'}, {'barrier': 'door'}, {'barrier': 'door'}, {'barrier': 'door'}, {'barrier': 'lift'}, {'barrier': 'stair'}, {'barrier': 'stair'}, {'barrier': 'stair'}, {'barrier': 'door'}, {'barrier': 'door'}]\n",
            "{'filename': 'FP_Societatstheater_3_CamScanner_mobil.jpg', 'size': 374638, 'regions': [{'shape_attributes': {'name': 'rect', 'x': 707, 'y': 166, 'width': 251, 'height': 149}, 'region_attributes': {'barrier': 'door'}}, {'shape_attributes': {'name': 'rect', 'x': 369, 'y': 394, 'width': 115, 'height': 124}, 'region_attributes': {'barrier': 'door'}}, {'shape_attributes': {'name': 'rect', 'x': 516, 'y': 518, 'width': 83, 'height': 89}, 'region_attributes': {'barrier': 'door'}}, {'shape_attributes': {'name': 'rect', 'x': 1189, 'y': 514, 'width': 107, 'height': 94}, 'region_attributes': {'barrier': 'door'}}, {'shape_attributes': {'name': 'rect', 'x': 200, 'y': 509, 'width': 124, 'height': 121}, 'region_attributes': {'barrier': 'door'}}, {'shape_attributes': {'name': 'rect', 'x': 1374, 'y': 1289, 'width': 141, 'height': 215}, 'region_attributes': {'barrier': 'door'}}, {'shape_attributes': {'name': 'rect', 'x': 1287, 'y': 1019, 'width': 115, 'height': 196}, 'region_attributes': {'barrier': 'door'}}, {'shape_attributes': {'name': 'rect', 'x': 2789, 'y': 430, 'width': 109, 'height': 121}, 'region_attributes': {'barrier': 'door'}}, {'shape_attributes': {'name': 'rect', 'x': 2610, 'y': 416, 'width': 89, 'height': 70}, 'region_attributes': {'barrier': 'door'}}, {'shape_attributes': {'name': 'rect', 'x': 2534, 'y': 428, 'width': 81, 'height': 87}, 'region_attributes': {'barrier': 'door'}}, {'shape_attributes': {'name': 'rect', 'x': 2276, 'y': 1097, 'width': 100, 'height': 104}, 'region_attributes': {'barrier': 'door'}}, {'shape_attributes': {'name': 'rect', 'x': 1300, 'y': 1585, 'width': 130, 'height': 215}, 'region_attributes': {'barrier': 'door'}}, {'shape_attributes': {'name': 'rect', 'x': 1585, 'y': 249, 'width': 89, 'height': 85}, 'region_attributes': {'barrier': 'door'}}, {'shape_attributes': {'name': 'rect', 'x': 1281, 'y': 326, 'width': 100, 'height': 92}, 'region_attributes': {'barrier': 'door'}}, {'shape_attributes': {'name': 'rect', 'x': 1125, 'y': 311, 'width': 89, 'height': 79}, 'region_attributes': {'barrier': 'door'}}, {'shape_attributes': {'name': 'rect', 'x': 1351, 'y': 816, 'width': 83, 'height': 130}, 'region_attributes': {'barrier': 'door'}}, {'shape_attributes': {'name': 'rect', 'x': 1458, 'y': 961, 'width': 158, 'height': 98}, 'region_attributes': {'barrier': 'door'}}, {'shape_attributes': {'name': 'polygon', 'all_points_x': [4, 153, 143, 149, 156, 251, 264, 2], 'all_points_y': [637, 646, 388, 388, 641, 648, 256, 262]}, 'region_attributes': {'barrier': 'stair'}}, {'shape_attributes': {'name': 'polygon', 'all_points_x': [1530, 1409, 1404, 1524], 'all_points_y': [786, 791, 514, 520]}, 'region_attributes': {'barrier': 'stair'}}, {'shape_attributes': {'name': 'polygon', 'all_points_x': [1558, 1564, 1664, 1658], 'all_points_y': [520, 780, 769, 516]}, 'region_attributes': {'barrier': 'stair'}}, {'shape_attributes': {'name': 'polygon', 'all_points_x': [2777, 2828, 2821, 2870, 2870, 2772], 'all_points_y': [980, 980, 812, 812, 654, 665]}, 'region_attributes': {'barrier': 'stair'}}, {'shape_attributes': {'name': 'polygon', 'all_points_x': [2887, 2962, 2953, 2881], 'all_points_y': [731, 739, 639, 656]}, 'region_attributes': {'barrier': 'stair'}}, {'shape_attributes': {'name': 'rect', 'x': 1726, 'y': 563, 'width': 107, 'height': 130}, 'region_attributes': {'barrier': 'lift'}}], 'file_attributes': {}}\n",
            "[{'barrier': 'door'}, {'barrier': 'door'}, {'barrier': 'door'}, {'barrier': 'door'}, {'barrier': 'door'}, {'barrier': 'door'}, {'barrier': 'door'}, {'barrier': 'door'}, {'barrier': 'door'}, {'barrier': 'door'}, {'barrier': 'door'}, {'barrier': 'door'}, {'barrier': 'door'}, {'barrier': 'door'}, {'barrier': 'door'}, {'barrier': 'door'}, {'barrier': 'door'}, {'barrier': 'stair'}, {'barrier': 'stair'}, {'barrier': 'stair'}, {'barrier': 'stair'}, {'barrier': 'stair'}, {'barrier': 'lift'}]\n",
            "{'filename': 'FP_FitX_CamScanner_mobil.jpg', 'size': 40635, 'regions': [{'shape_attributes': {'name': 'rect', 'x': 591, 'y': 124, 'width': 25, 'height': 22}, 'region_attributes': {'barrier': 'stair'}}, {'shape_attributes': {'name': 'rect', 'x': 433, 'y': 196, 'width': 21, 'height': 45}, 'region_attributes': {'barrier': 'stair'}}, {'shape_attributes': {'name': 'rect', 'x': 405, 'y': 537, 'width': 21, 'height': 25}, 'region_attributes': {'barrier': 'stair'}}, {'shape_attributes': {'name': 'rect', 'x': 109, 'y': 553, 'width': 25, 'height': 24}, 'region_attributes': {'barrier': 'stair'}}, {'shape_attributes': {'name': 'rect', 'x': 107, 'y': 188, 'width': 30, 'height': 23}, 'region_attributes': {'barrier': 'stair'}}, {'shape_attributes': {'name': 'rect', 'x': 271, 'y': 116, 'width': 18, 'height': 13}, 'region_attributes': {'barrier': 'door'}}, {'shape_attributes': {'name': 'rect', 'x': 275, 'y': 129, 'width': 12, 'height': 21}, 'region_attributes': {'barrier': 'door'}}, {'shape_attributes': {'name': 'rect', 'x': 581, 'y': 53, 'width': 19, 'height': 13}, 'region_attributes': {'barrier': 'door'}}, {'shape_attributes': {'name': 'rect', 'x': 556, 'y': 106, 'width': 11, 'height': 14}, 'region_attributes': {'barrier': 'door'}}, {'shape_attributes': {'name': 'rect', 'x': 358, 'y': 255, 'width': 12, 'height': 20}, 'region_attributes': {'barrier': 'door'}}, {'shape_attributes': {'name': 'rect', 'x': 355, 'y': 212, 'width': 14, 'height': 23}, 'region_attributes': {'barrier': 'door'}}, {'shape_attributes': {'name': 'rect', 'x': 382, 'y': 523, 'width': 12, 'height': 15}, 'region_attributes': {'barrier': 'door'}}, {'shape_attributes': {'name': 'rect', 'x': 62, 'y': 565, 'width': 20, 'height': 15}, 'region_attributes': {'barrier': 'door'}}, {'shape_attributes': {'name': 'rect', 'x': 53, 'y': 371, 'width': 24, 'height': 18}, 'region_attributes': {'barrier': 'door'}}, {'shape_attributes': {'name': 'rect', 'x': 138, 'y': 318, 'width': 16, 'height': 13}, 'region_attributes': {'barrier': 'door'}}, {'shape_attributes': {'name': 'rect', 'x': 82, 'y': 339, 'width': 17, 'height': 14}, 'region_attributes': {'barrier': 'door'}}, {'shape_attributes': {'name': 'rect', 'x': 274, 'y': 334, 'width': 17, 'height': 31}, 'region_attributes': {'barrier': 'door'}}, {'shape_attributes': {'name': 'rect', 'x': 288, 'y': 521, 'width': 12, 'height': 10}, 'region_attributes': {'barrier': 'door'}}, {'shape_attributes': {'name': 'rect', 'x': 337, 'y': 523, 'width': 17, 'height': 14}, 'region_attributes': {'barrier': 'door'}}], 'file_attributes': {}}\n",
            "[{'barrier': 'stair'}, {'barrier': 'stair'}, {'barrier': 'stair'}, {'barrier': 'stair'}, {'barrier': 'stair'}, {'barrier': 'door'}, {'barrier': 'door'}, {'barrier': 'door'}, {'barrier': 'door'}, {'barrier': 'door'}, {'barrier': 'door'}, {'barrier': 'door'}, {'barrier': 'door'}, {'barrier': 'door'}, {'barrier': 'door'}, {'barrier': 'door'}, {'barrier': 'door'}, {'barrier': 'door'}, {'barrier': 'door'}]\n",
            "{'filename': 'FP_Club_Mensa_A2_1-250_CamScanner_mobil.jpg', 'size': 236959, 'regions': [{'shape_attributes': {'name': 'rect', 'x': 672, 'y': 254, 'width': 76, 'height': 80}, 'region_attributes': {'barrier': 'lift'}}, {'shape_attributes': {'name': 'rect', 'x': 778, 'y': 249, 'width': 66, 'height': 89}, 'region_attributes': {'barrier': 'lift'}}, {'shape_attributes': {'name': 'rect', 'x': 399, 'y': 528, 'width': 78, 'height': 99}, 'region_attributes': {'barrier': 'lift'}}, {'shape_attributes': {'name': 'rect', 'x': 1287, 'y': 313, 'width': 68, 'height': 74}, 'region_attributes': {'barrier': 'door'}}, {'shape_attributes': {'name': 'rect', 'x': 1363, 'y': 302, 'width': 46, 'height': 91}, 'region_attributes': {'barrier': 'door'}}, {'shape_attributes': {'name': 'rect', 'x': 2423, 'y': 731, 'width': 55, 'height': 122}, 'region_attributes': {'barrier': 'door'}}, {'shape_attributes': {'name': 'rect', 'x': 2424, 'y': 1027, 'width': 72, 'height': 66}, 'region_attributes': {'barrier': 'door'}}, {'shape_attributes': {'name': 'rect', 'x': 315, 'y': 494, 'width': 53, 'height': 38}, 'region_attributes': {'barrier': 'door'}}, {'shape_attributes': {'name': 'rect', 'x': 351, 'y': 283, 'width': 59, 'height': 61}, 'region_attributes': {'barrier': 'door'}}, {'shape_attributes': {'name': 'rect', 'x': 374, 'y': 93, 'width': 44, 'height': 49}, 'region_attributes': {'barrier': 'door'}}, {'shape_attributes': {'name': 'rect', 'x': 366, 'y': 180, 'width': 55, 'height': 61}, 'region_attributes': {'barrier': 'door'}}, {'shape_attributes': {'name': 'rect', 'x': 245, 'y': 57, 'width': 42, 'height': 42}, 'region_attributes': {'barrier': 'door'}}, {'shape_attributes': {'name': 'rect', 'x': 2442, 'y': 469, 'width': 89, 'height': 169}, 'region_attributes': {'barrier': 'stair'}}, {'shape_attributes': {'name': 'rect', 'x': 2620, 'y': 469, 'width': 87, 'height': 182}, 'region_attributes': {'barrier': 'stair'}}, {'shape_attributes': {'name': 'rect', 'x': 2531, 'y': 370, 'width': 85, 'height': 106}, 'region_attributes': {'barrier': 'stair'}}, {'shape_attributes': {'name': 'rect', 'x': 511, 'y': 509, 'width': 133, 'height': 97}, 'region_attributes': {'barrier': 'stair'}}, {'shape_attributes': {'name': 'rect', 'x': 640, 'y': 380, 'width': 308, 'height': 131}, 'region_attributes': {'barrier': 'stair'}}, {'shape_attributes': {'name': 'rect', 'x': 944, 'y': 513, 'width': 137, 'height': 49}, 'region_attributes': {'barrier': 'stair'}}], 'file_attributes': {}}\n",
            "[{'barrier': 'lift'}, {'barrier': 'lift'}, {'barrier': 'lift'}, {'barrier': 'door'}, {'barrier': 'door'}, {'barrier': 'door'}, {'barrier': 'door'}, {'barrier': 'door'}, {'barrier': 'door'}, {'barrier': 'door'}, {'barrier': 'door'}, {'barrier': 'door'}, {'barrier': 'stair'}, {'barrier': 'stair'}, {'barrier': 'stair'}, {'barrier': 'stair'}, {'barrier': 'stair'}, {'barrier': 'stair'}]\n",
            "{'filename': 'FP_12_CamScanner_mobil.jpg', 'size': 440091, 'regions': [{'shape_attributes': {'name': 'polygon', 'all_points_x': [2142, 2054, 2065, 2102, 2098, 2135], 'all_points_y': [254, 258, 317, 320, 276, 280]}, 'region_attributes': {'barrier': 'stair'}}, {'shape_attributes': {'name': 'polygon', 'all_points_x': [1977, 1980, 2024, 2024], 'all_points_y': [59, 188, 191, 48]}, 'region_attributes': {'barrier': 'stair'}}, {'shape_attributes': {'name': 'polygon', 'all_points_x': [1071, 1141, 1145, 1093, 1067], 'all_points_y': [2433, 2433, 2481, 2481, 2426]}, 'region_attributes': {'barrier': 'stair'}}, {'shape_attributes': {'name': 'polygon', 'all_points_x': [2069, 2135, 2131, 2098, 2102, 2058], 'all_points_y': [2091, 2098, 2076, 2072, 2032, 2032]}, 'region_attributes': {'barrier': 'stair'}}, {'shape_attributes': {'name': 'rect', 'x': 1929, 'y': 920, 'width': 40, 'height': 33}, 'region_attributes': {'barrier': 'door'}}, {'shape_attributes': {'name': 'rect', 'x': 1918, 'y': 1031, 'width': 48, 'height': 48}, 'region_attributes': {'barrier': 'door'}}, {'shape_attributes': {'name': 'rect', 'x': 2017, 'y': 902, 'width': 52, 'height': 48}, 'region_attributes': {'barrier': 'door'}}, {'shape_attributes': {'name': 'rect', 'x': 2017, 'y': 732, 'width': 44, 'height': 55}, 'region_attributes': {'barrier': 'door'}}, {'shape_attributes': {'name': 'rect', 'x': 2017, 'y': 486, 'width': 44, 'height': 44}, 'region_attributes': {'barrier': 'door'}}, {'shape_attributes': {'name': 'rect', 'x': 1167, 'y': 357, 'width': 33, 'height': 48}, 'region_attributes': {'barrier': 'door'}}, {'shape_attributes': {'name': 'rect', 'x': 1388, 'y': 353, 'width': 77, 'height': 59}, 'region_attributes': {'barrier': 'door'}}, {'shape_attributes': {'name': 'rect', 'x': 1623, 'y': 368, 'width': 55, 'height': 52}, 'region_attributes': {'barrier': 'door'}}, {'shape_attributes': {'name': 'rect', 'x': 1870, 'y': 368, 'width': 63, 'height': 59}, 'region_attributes': {'barrier': 'door'}}, {'shape_attributes': {'name': 'rect', 'x': 1248, 'y': 2451, 'width': 66, 'height': 33}, 'region_attributes': {'barrier': 'lift'}}, {'shape_attributes': {'name': 'rect', 'x': 1248, 'y': 2514, 'width': 70, 'height': 52}, 'region_attributes': {'barrier': 'lift'}}], 'file_attributes': {}}\n",
            "[{'barrier': 'stair'}, {'barrier': 'stair'}, {'barrier': 'stair'}, {'barrier': 'stair'}, {'barrier': 'door'}, {'barrier': 'door'}, {'barrier': 'door'}, {'barrier': 'door'}, {'barrier': 'door'}, {'barrier': 'door'}, {'barrier': 'door'}, {'barrier': 'door'}, {'barrier': 'door'}, {'barrier': 'lift'}, {'barrier': 'lift'}]\n",
            "{'filename': 'FP_5_CamScanner_mobil.jpg', 'size': 330287, 'regions': [{'shape_attributes': {'name': 'rect', 'x': 651, 'y': 852, 'width': 91, 'height': 60}, 'region_attributes': {'barrier': 'lift'}}, {'shape_attributes': {'name': 'rect', 'x': 654, 'y': 948, 'width': 91, 'height': 60}, 'region_attributes': {'barrier': 'lift'}}, {'shape_attributes': {'name': 'rect', 'x': 1987, 'y': 576, 'width': 57, 'height': 62}, 'region_attributes': {'barrier': 'door'}}, {'shape_attributes': {'name': 'rect', 'x': 1992, 'y': 724, 'width': 47, 'height': 55}, 'region_attributes': {'barrier': 'door'}}, {'shape_attributes': {'name': 'rect', 'x': 1531, 'y': 1604, 'width': 68, 'height': 55}, 'region_attributes': {'barrier': 'door'}}, {'shape_attributes': {'name': 'rect', 'x': 1500, 'y': 1732, 'width': 65, 'height': 68}, 'region_attributes': {'barrier': 'door'}}, {'shape_attributes': {'name': 'rect', 'x': 492, 'y': 1758, 'width': 81, 'height': 52}, 'region_attributes': {'barrier': 'door'}}, {'shape_attributes': {'name': 'rect', 'x': 339, 'y': 1622, 'width': 60, 'height': 55}, 'region_attributes': {'barrier': 'door'}}, {'shape_attributes': {'name': 'rect', 'x': 945, 'y': 846, 'width': 146, 'height': 78}, 'region_attributes': {'barrier': 'stair'}}, {'shape_attributes': {'name': 'rect', 'x': 943, 'y': 945, 'width': 138, 'height': 73}, 'region_attributes': {'barrier': 'stair'}}, {'shape_attributes': {'name': 'circle', 'cx': 1820, 'cy': 1156, 'r': 75}, 'region_attributes': {'barrier': 'stair'}}, {'shape_attributes': {'name': 'polygon', 'all_points_x': [2120, 2237, 2229, 2167, 2159, 2128], 'all_points_y': [1950, 1953, 1844, 1846, 1815, 1825]}, 'region_attributes': {'barrier': 'stair'}}, {'shape_attributes': {'name': 'polygon', 'all_points_x': [896, 997, 1003, 984, 982, 917, 917, 898], 'all_points_y': [141, 143, 289, 281, 245, 242, 294, 286]}, 'region_attributes': {'barrier': 'stair'}}], 'file_attributes': {}}\n",
            "[{'barrier': 'lift'}, {'barrier': 'lift'}, {'barrier': 'door'}, {'barrier': 'door'}, {'barrier': 'door'}, {'barrier': 'door'}, {'barrier': 'door'}, {'barrier': 'door'}, {'barrier': 'stair'}, {'barrier': 'stair'}, {'barrier': 'stair'}, {'barrier': 'stair'}, {'barrier': 'stair'}]\n",
            "{'filename': 'FP_3_CamScanner_mobil.jpg', 'size': 395073, 'regions': [{'shape_attributes': {'name': 'polygon', 'all_points_x': [771, 829, 823, 808, 811, 777], 'all_points_y': [202, 208, 245, 245, 320, 323]}, 'region_attributes': {'barrier': 'stair'}}, {'shape_attributes': {'name': 'polygon', 'all_points_x': [753, 823, 872, 756], 'all_points_y': [1123, 1120, 1198, 1210]}, 'region_attributes': {'barrier': 'stair'}}, {'shape_attributes': {'name': 'polygon', 'all_points_x': [2159, 2266, 2272, 2041, 2038, 2107, 2110, 2180], 'all_points_y': [2243, 2249, 2078, 2067, 2090, 2084, 2116, 2116]}, 'region_attributes': {'barrier': 'stair'}}, {'shape_attributes': {'name': 'polygon', 'all_points_x': [1822, 1891, 1833, 1772, 1755, 1822], 'all_points_y': [1357, 1311, 1270, 1308, 1360, 1351]}, 'region_attributes': {'barrier': 'stair'}}, {'shape_attributes': {'name': 'rect', 'x': 488, 'y': 1019, 'width': 104, 'height': 64}, 'region_attributes': {'barrier': 'lift'}}, {'shape_attributes': {'name': 'rect', 'x': 485, 'y': 1129, 'width': 107, 'height': 61}, 'region_attributes': {'barrier': 'lift'}}, {'shape_attributes': {'name': 'rect', 'x': 655, 'y': 1654, 'width': 92, 'height': 69}, 'region_attributes': {'barrier': 'door'}}, {'shape_attributes': {'name': 'rect', 'x': 2041, 'y': 846, 'width': 64, 'height': 52}, 'region_attributes': {'barrier': 'door'}}, {'shape_attributes': {'name': 'rect', 'x': 1345, 'y': 355, 'width': 75, 'height': 52}, 'region_attributes': {'barrier': 'door'}}, {'shape_attributes': {'name': 'rect', 'x': 598, 'y': 346, 'width': 72, 'height': 69}, 'region_attributes': {'barrier': 'door'}}, {'shape_attributes': {'name': 'rect', 'x': 387, 'y': 557, 'width': 55, 'height': 46}, 'region_attributes': {'barrier': 'door'}}, {'shape_attributes': {'name': 'rect', 'x': 950, 'y': 1836, 'width': 66, 'height': 72}, 'region_attributes': {'barrier': 'door'}}], 'file_attributes': {}}\n",
            "[{'barrier': 'stair'}, {'barrier': 'stair'}, {'barrier': 'stair'}, {'barrier': 'stair'}, {'barrier': 'lift'}, {'barrier': 'lift'}, {'barrier': 'door'}, {'barrier': 'door'}, {'barrier': 'door'}, {'barrier': 'door'}, {'barrier': 'door'}, {'barrier': 'door'}]\n",
            "{'filename': 'FP_1_CamScanner_mobil.jpg', 'size': 219409, 'regions': [{'shape_attributes': {'name': 'rect', 'x': 1429, 'y': 35, 'width': 32, 'height': 123}, 'region_attributes': {'barrier': 'stair'}}, {'shape_attributes': {'name': 'rect', 'x': 1486, 'y': 1605, 'width': 56, 'height': 58}, 'region_attributes': {'barrier': 'stair'}}, {'shape_attributes': {'name': 'rect', 'x': 656, 'y': 450, 'width': 35, 'height': 56}, 'region_attributes': {'barrier': 'stair'}}, {'shape_attributes': {'name': 'rect', 'x': 1499, 'y': 197, 'width': 71, 'height': 17}, 'region_attributes': {'barrier': 'stair'}}, {'shape_attributes': {'name': 'rect', 'x': 1492, 'y': 225, 'width': 43, 'height': 28}, 'region_attributes': {'barrier': 'stair'}}, {'shape_attributes': {'name': 'rect', 'x': 1135, 'y': 388, 'width': 37, 'height': 28}, 'region_attributes': {'barrier': 'door'}}, {'shape_attributes': {'name': 'rect', 'x': 1382, 'y': 827, 'width': 45, 'height': 37}, 'region_attributes': {'barrier': 'door'}}, {'shape_attributes': {'name': 'rect', 'x': 1590, 'y': 1490, 'width': 19, 'height': 28}, 'region_attributes': {'barrier': 'door'}}, {'shape_attributes': {'name': 'rect', 'x': 795, 'y': 1105, 'width': 43, 'height': 41}, 'region_attributes': {'barrier': 'door'}}, {'shape_attributes': {'name': 'rect', 'x': 747, 'y': 1317, 'width': 63, 'height': 37}, 'region_attributes': {'barrier': 'door'}}], 'file_attributes': {}}\n",
            "[{'barrier': 'stair'}, {'barrier': 'stair'}, {'barrier': 'stair'}, {'barrier': 'stair'}, {'barrier': 'stair'}, {'barrier': 'door'}, {'barrier': 'door'}, {'barrier': 'door'}, {'barrier': 'door'}, {'barrier': 'door'}]\n",
            "{'filename': 'FP_ClubMensa_1_CamScanner_mobil.jpg', 'size': 242314, 'regions': [{'shape_attributes': {'name': 'rect', 'x': 633, 'y': 405, 'width': 325, 'height': 134}, 'region_attributes': {'barrier': 'stair'}}, {'shape_attributes': {'name': 'rect', 'x': 516, 'y': 533, 'width': 134, 'height': 94}, 'region_attributes': {'barrier': 'stair'}}, {'shape_attributes': {'name': 'rect', 'x': 944, 'y': 533, 'width': 140, 'height': 67}, 'region_attributes': {'barrier': 'stair'}}, {'shape_attributes': {'name': 'rect', 'x': 680, 'y': 283, 'width': 67, 'height': 76}, 'region_attributes': {'barrier': 'lift'}}, {'shape_attributes': {'name': 'rect', 'x': 778, 'y': 277, 'width': 75, 'height': 88}, 'region_attributes': {'barrier': 'lift'}}, {'shape_attributes': {'name': 'rect', 'x': 2450, 'y': 493, 'width': 84, 'height': 180}, 'region_attributes': {'barrier': 'stair'}}, {'shape_attributes': {'name': 'rect', 'x': 2546, 'y': 396, 'width': 88, 'height': 111}, 'region_attributes': {'barrier': 'stair'}}, {'shape_attributes': {'name': 'rect', 'x': 2626, 'y': 493, 'width': 94, 'height': 185}, 'region_attributes': {'barrier': 'stair'}}, {'shape_attributes': {'name': 'rect', 'x': 1057, 'y': 713, 'width': 69, 'height': 109}, 'region_attributes': {'barrier': 'door'}}, {'shape_attributes': {'name': 'rect', 'x': 1290, 'y': 333, 'width': 71, 'height': 78}, 'region_attributes': {'barrier': 'door'}}, {'shape_attributes': {'name': 'rect', 'x': 1370, 'y': 334, 'width': 59, 'height': 76}, 'region_attributes': {'barrier': 'door'}}, {'shape_attributes': {'name': 'rect', 'x': 2431, 'y': 768, 'width': 65, 'height': 103}, 'region_attributes': {'barrier': 'door'}}, {'shape_attributes': {'name': 'rect', 'x': 312, 'y': 657, 'width': 59, 'height': 55}, 'region_attributes': {'barrier': 'door'}}, {'shape_attributes': {'name': 'rect', 'x': 224, 'y': 661, 'width': 67, 'height': 46}, 'region_attributes': {'barrier': 'door'}}, {'shape_attributes': {'name': 'rect', 'x': 226, 'y': 401, 'width': 73, 'height': 50}, 'region_attributes': {'barrier': 'door'}}, {'shape_attributes': {'name': 'rect', 'x': 239, 'y': 76, 'width': 57, 'height': 48}, 'region_attributes': {'barrier': 'door'}}, {'shape_attributes': {'name': 'rect', 'x': 243, 'y': 120, 'width': 52, 'height': 54}, 'region_attributes': {'barrier': 'door'}}, {'shape_attributes': {'name': 'rect', 'x': 365, 'y': 117, 'width': 57, 'height': 48}, 'region_attributes': {'barrier': 'door'}}, {'shape_attributes': {'name': 'rect', 'x': 365, 'y': 164, 'width': 55, 'height': 50}, 'region_attributes': {'barrier': 'door'}}, {'shape_attributes': {'name': 'rect', 'x': 367, 'y': 210, 'width': 46, 'height': 48}, 'region_attributes': {'barrier': 'door'}}, {'shape_attributes': {'name': 'rect', 'x': 367, 'y': 262, 'width': 46, 'height': 48}, 'region_attributes': {'barrier': 'door'}}, {'shape_attributes': {'name': 'rect', 'x': 885, 'y': 210, 'width': 57, 'height': 67}, 'region_attributes': {'barrier': 'door'}}, {'shape_attributes': {'name': 'rect', 'x': 956, 'y': 204, 'width': 71, 'height': 73}, 'region_attributes': {'barrier': 'door'}}, {'shape_attributes': {'name': 'rect', 'x': 2439, 'y': 1051, 'width': 76, 'height': 78}, 'region_attributes': {'barrier': 'door'}}, {'shape_attributes': {'name': 'rect', 'x': 398, 'y': 554, 'width': 80, 'height': 96}, 'region_attributes': {'barrier': 'lift'}}, {'shape_attributes': {'name': 'rect', 'x': 1269, 'y': 763, 'width': 48, 'height': 111}, 'region_attributes': {'barrier': 'door'}}, {'shape_attributes': {'name': 'rect', 'x': 1273, 'y': 870, 'width': 36, 'height': 59}, 'region_attributes': {'barrier': 'door'}}], 'file_attributes': {}}\n",
            "[{'barrier': 'stair'}, {'barrier': 'stair'}, {'barrier': 'stair'}, {'barrier': 'lift'}, {'barrier': 'lift'}, {'barrier': 'stair'}, {'barrier': 'stair'}, {'barrier': 'stair'}, {'barrier': 'door'}, {'barrier': 'door'}, {'barrier': 'door'}, {'barrier': 'door'}, {'barrier': 'door'}, {'barrier': 'door'}, {'barrier': 'door'}, {'barrier': 'door'}, {'barrier': 'door'}, {'barrier': 'door'}, {'barrier': 'door'}, {'barrier': 'door'}, {'barrier': 'door'}, {'barrier': 'door'}, {'barrier': 'door'}, {'barrier': 'door'}, {'barrier': 'lift'}, {'barrier': 'door'}, {'barrier': 'door'}]\n",
            "{'filename': 'FP_Societatstheater_3_CamScanner_mobil.jpg', 'size': 374638, 'regions': [{'shape_attributes': {'name': 'rect', 'x': 1595, 'y': 250, 'width': 81, 'height': 79}, 'region_attributes': {'barrier': 'door'}}, {'shape_attributes': {'name': 'rect', 'x': 1276, 'y': 317, 'width': 107, 'height': 89}, 'region_attributes': {'barrier': 'door'}}, {'shape_attributes': {'name': 'rect', 'x': 1125, 'y': 313, 'width': 101, 'height': 81}, 'region_attributes': {'barrier': 'door'}}, {'shape_attributes': {'name': 'rect', 'x': 1191, 'y': 511, 'width': 101, 'height': 107}, 'region_attributes': {'barrier': 'door'}}, {'shape_attributes': {'name': 'rect', 'x': 692, 'y': 162, 'width': 262, 'height': 162}, 'region_attributes': {'barrier': 'door'}}, {'shape_attributes': {'name': 'rect', 'x': 365, 'y': 402, 'width': 119, 'height': 107}, 'region_attributes': {'barrier': 'door'}}, {'shape_attributes': {'name': 'rect', 'x': 515, 'y': 521, 'width': 91, 'height': 87}, 'region_attributes': {'barrier': 'door'}}, {'shape_attributes': {'name': 'rect', 'x': 1355, 'y': 810, 'width': 87, 'height': 129}, 'region_attributes': {'barrier': 'door'}}, {'shape_attributes': {'name': 'rect', 'x': 1288, 'y': 1015, 'width': 131, 'height': 204}, 'region_attributes': {'barrier': 'door'}}, {'shape_attributes': {'name': 'rect', 'x': 1415, 'y': 1286, 'width': 107, 'height': 218}, 'region_attributes': {'barrier': 'door'}}, {'shape_attributes': {'name': 'rect', 'x': 1797, 'y': 773, 'width': 89, 'height': 164}, 'region_attributes': {'barrier': 'door'}}, {'shape_attributes': {'name': 'rect', 'x': 1706, 'y': 999, 'width': 89, 'height': 77}, 'region_attributes': {'barrier': 'door'}}, {'shape_attributes': {'name': 'rect', 'x': 2277, 'y': 1094, 'width': 105, 'height': 121}, 'region_attributes': {'barrier': 'door'}}, {'shape_attributes': {'name': 'rect', 'x': 2392, 'y': 505, 'width': 113, 'height': 61}, 'region_attributes': {'barrier': 'door'}}, {'shape_attributes': {'name': 'polygon', 'all_points_x': [2776, 2776, 2830, 2824, 2877, 2875, 2778], 'all_points_y': [656, 979, 979, 810, 808, 642, 654]}, 'region_attributes': {'barrier': 'stair'}}, {'shape_attributes': {'name': 'polygon', 'all_points_x': [2960, 2883, 2893, 2960], 'all_points_y': [662, 662, 769, 769]}, 'region_attributes': {'barrier': 'stair'}}, {'shape_attributes': {'name': 'polygon', 'all_points_x': [2703, 2709, 2776, 2782], 'all_points_y': [430, 515, 509, 428]}, 'region_attributes': {'barrier': 'stair'}}, {'shape_attributes': {'name': 'rect', 'x': 4, 'y': 361, 'width': 145, 'height': 289}, 'region_attributes': {'barrier': 'stair'}}, {'shape_attributes': {'name': 'rect', 'x': 155, 'y': 468, 'width': 119, 'height': 168}, 'region_attributes': {'barrier': 'stair'}}, {'shape_attributes': {'name': 'rect', 'x': 1399, 'y': 517, 'width': 127, 'height': 266}, 'region_attributes': {'barrier': 'stair'}}, {'shape_attributes': {'name': 'rect', 'x': 1550, 'y': 517, 'width': 117, 'height': 254}, 'region_attributes': {'barrier': 'stair'}}, {'shape_attributes': {'name': 'rect', 'x': 1730, 'y': 553, 'width': 103, 'height': 147}, 'region_attributes': {'barrier': 'lift'}}, {'shape_attributes': {'name': 'rect', 'x': 1462, 'y': 965, 'width': 159, 'height': 91}, 'region_attributes': {'barrier': 'door'}}, {'shape_attributes': {'name': 'rect', 'x': 373, 'y': 616, 'width': 117, 'height': 59}, 'region_attributes': {'barrier': 'door'}}, {'shape_attributes': {'name': 'rect', 'x': 1300, 'y': 1575, 'width': 137, 'height': 232}, 'region_attributes': {'barrier': 'door'}}], 'file_attributes': {}}\n",
            "[{'barrier': 'door'}, {'barrier': 'door'}, {'barrier': 'door'}, {'barrier': 'door'}, {'barrier': 'door'}, {'barrier': 'door'}, {'barrier': 'door'}, {'barrier': 'door'}, {'barrier': 'door'}, {'barrier': 'door'}, {'barrier': 'door'}, {'barrier': 'door'}, {'barrier': 'door'}, {'barrier': 'door'}, {'barrier': 'stair'}, {'barrier': 'stair'}, {'barrier': 'stair'}, {'barrier': 'stair'}, {'barrier': 'stair'}, {'barrier': 'stair'}, {'barrier': 'stair'}, {'barrier': 'lift'}, {'barrier': 'door'}, {'barrier': 'door'}, {'barrier': 'door'}]\n",
            "{'filename': 'FP_SchuleReinhardsgrimma_2_CamScanner_mobil.jpg', 'size': 48125, 'regions': [{'shape_attributes': {'name': 'rect', 'x': 343, 'y': 210, 'width': 34, 'height': 34}, 'region_attributes': {'barrier': 'door'}}, {'shape_attributes': {'name': 'rect', 'x': 314, 'y': 180, 'width': 29, 'height': 33}, 'region_attributes': {'barrier': 'door'}}, {'shape_attributes': {'name': 'rect', 'x': 287, 'y': 273, 'width': 60, 'height': 33}, 'region_attributes': {'barrier': 'door'}}, {'shape_attributes': {'name': 'rect', 'x': 259, 'y': 319, 'width': 39, 'height': 32}, 'region_attributes': {'barrier': 'door'}}, {'shape_attributes': {'name': 'rect', 'x': 261, 'y': 420, 'width': 40, 'height': 31}, 'region_attributes': {'barrier': 'door'}}, {'shape_attributes': {'name': 'rect', 'x': 340, 'y': 409, 'width': 38, 'height': 33}, 'region_attributes': {'barrier': 'door'}}, {'shape_attributes': {'name': 'rect', 'x': 342, 'y': 523, 'width': 34, 'height': 35}, 'region_attributes': {'barrier': 'door'}}, {'shape_attributes': {'name': 'rect', 'x': 338, 'y': 322, 'width': 37, 'height': 32}, 'region_attributes': {'barrier': 'door'}}, {'shape_attributes': {'name': 'rect', 'x': 267, 'y': 620, 'width': 39, 'height': 24}, 'region_attributes': {'barrier': 'door'}}, {'shape_attributes': {'name': 'rect', 'x': 345, 'y': 638, 'width': 34, 'height': 29}, 'region_attributes': {'barrier': 'door'}}, {'shape_attributes': {'name': 'rect', 'x': 399, 'y': 150, 'width': 31, 'height': 35}, 'region_attributes': {'barrier': 'door'}}, {'shape_attributes': {'name': 'rect', 'x': 249, 'y': 158, 'width': 23, 'height': 21}, 'region_attributes': {'barrier': 'door'}}, {'shape_attributes': {'name': 'rect', 'x': 259, 'y': 66, 'width': 34, 'height': 35}, 'region_attributes': {'barrier': 'door'}}, {'shape_attributes': {'name': 'rect', 'x': 219, 'y': 158, 'width': 26, 'height': 20}, 'region_attributes': {'barrier': 'door'}}, {'shape_attributes': {'name': 'circle', 'cx': 319, 'cy': 743, 'r': 34}, 'region_attributes': {'barrier': 'stair'}}, {'shape_attributes': {'name': 'rect', 'x': 559, 'y': 657, 'width': 62, 'height': 25}, 'region_attributes': {'barrier': 'stair'}}, {'shape_attributes': {'name': 'rect', 'x': 626, 'y': 620, 'width': 31, 'height': 37}, 'region_attributes': {'barrier': 'stair'}}, {'shape_attributes': {'name': 'rect', 'x': 555, 'y': 698, 'width': 65, 'height': 22}, 'region_attributes': {'barrier': 'stair'}}, {'shape_attributes': {'name': 'rect', 'x': 46, 'y': 90, 'width': 43, 'height': 41}, 'region_attributes': {'barrier': 'lift'}}], 'file_attributes': {}}\n",
            "[{'barrier': 'door'}, {'barrier': 'door'}, {'barrier': 'door'}, {'barrier': 'door'}, {'barrier': 'door'}, {'barrier': 'door'}, {'barrier': 'door'}, {'barrier': 'door'}, {'barrier': 'door'}, {'barrier': 'door'}, {'barrier': 'door'}, {'barrier': 'door'}, {'barrier': 'door'}, {'barrier': 'door'}, {'barrier': 'stair'}, {'barrier': 'stair'}, {'barrier': 'stair'}, {'barrier': 'stair'}, {'barrier': 'lift'}]\n"
          ],
          "name": "stdout"
        }
      ]
    },
    {
      "cell_type": "code",
      "metadata": {
        "id": "LtgLf149uUzX",
        "colab_type": "code",
        "colab": {
          "base_uri": "https://localhost:8080/",
          "height": 412
        },
        "outputId": "086dd37a-67dc-471f-d283-abb414cdf28a"
      },
      "source": [
        "# Load and display random samples\n",
        "image_ids = np.random.choice(dataset_train.image_ids, 4)\n",
        "for image_id in image_ids:\n",
        "    image = dataset_train.load_image(image_id)\n",
        "    mask, class_ids = dataset_train.load_mask(image_id)\n",
        "    visualize.display_top_masks(image, mask, class_ids, dataset_train.class_names)"
      ],
      "execution_count": 14,
      "outputs": [
        {
          "output_type": "error",
          "ename": "OverflowError",
          "evalue": "ignored",
          "traceback": [
            "\u001b[0;31m---------------------------------------------------------------------------\u001b[0m",
            "\u001b[0;31mOverflowError\u001b[0m                             Traceback (most recent call last)",
            "\u001b[0;32m<ipython-input-14-c1112cd25aac>\u001b[0m in \u001b[0;36m<module>\u001b[0;34m()\u001b[0m\n\u001b[1;32m      3\u001b[0m \u001b[0;32mfor\u001b[0m \u001b[0mimage_id\u001b[0m \u001b[0;32min\u001b[0m \u001b[0mimage_ids\u001b[0m\u001b[0;34m:\u001b[0m\u001b[0;34m\u001b[0m\u001b[0;34m\u001b[0m\u001b[0m\n\u001b[1;32m      4\u001b[0m     \u001b[0mimage\u001b[0m \u001b[0;34m=\u001b[0m \u001b[0mdataset_train\u001b[0m\u001b[0;34m.\u001b[0m\u001b[0mload_image\u001b[0m\u001b[0;34m(\u001b[0m\u001b[0mimage_id\u001b[0m\u001b[0;34m)\u001b[0m\u001b[0;34m\u001b[0m\u001b[0;34m\u001b[0m\u001b[0m\n\u001b[0;32m----> 5\u001b[0;31m     \u001b[0mmask\u001b[0m\u001b[0;34m,\u001b[0m \u001b[0mclass_ids\u001b[0m \u001b[0;34m=\u001b[0m \u001b[0mdataset_train\u001b[0m\u001b[0;34m.\u001b[0m\u001b[0mload_mask\u001b[0m\u001b[0;34m(\u001b[0m\u001b[0mimage_id\u001b[0m\u001b[0;34m)\u001b[0m\u001b[0;34m\u001b[0m\u001b[0;34m\u001b[0m\u001b[0m\n\u001b[0m\u001b[1;32m      6\u001b[0m     \u001b[0mvisualize\u001b[0m\u001b[0;34m.\u001b[0m\u001b[0mdisplay_top_masks\u001b[0m\u001b[0;34m(\u001b[0m\u001b[0mimage\u001b[0m\u001b[0;34m,\u001b[0m \u001b[0mmask\u001b[0m\u001b[0;34m,\u001b[0m \u001b[0mclass_ids\u001b[0m\u001b[0;34m,\u001b[0m \u001b[0mdataset_train\u001b[0m\u001b[0;34m.\u001b[0m\u001b[0mclass_names\u001b[0m\u001b[0;34m)\u001b[0m\u001b[0;34m\u001b[0m\u001b[0;34m\u001b[0m\u001b[0m\n",
            "\u001b[0;32m<ipython-input-11-9a180a0f6e01>\u001b[0m in \u001b[0;36mload_mask\u001b[0;34m(self, image_id)\u001b[0m\n\u001b[1;32m     94\u001b[0m         \u001b[0;32mfor\u001b[0m \u001b[0mi\u001b[0m\u001b[0;34m,\u001b[0m \u001b[0mp\u001b[0m \u001b[0;32min\u001b[0m \u001b[0menumerate\u001b[0m\u001b[0;34m(\u001b[0m\u001b[0minfo\u001b[0m\u001b[0;34m[\u001b[0m\u001b[0;34m\"polygons\"\u001b[0m\u001b[0;34m]\u001b[0m\u001b[0;34m)\u001b[0m\u001b[0;34m:\u001b[0m\u001b[0;34m\u001b[0m\u001b[0;34m\u001b[0m\u001b[0m\n\u001b[1;32m     95\u001b[0m             \u001b[0;31m# Get indexes of pixels inside the polygon and set them to 1\u001b[0m\u001b[0;34m\u001b[0m\u001b[0;34m\u001b[0m\u001b[0;34m\u001b[0m\u001b[0m\n\u001b[0;32m---> 96\u001b[0;31m             \u001b[0mrr\u001b[0m\u001b[0;34m,\u001b[0m \u001b[0mcc\u001b[0m \u001b[0;34m=\u001b[0m \u001b[0mskimage\u001b[0m\u001b[0;34m.\u001b[0m\u001b[0mdraw\u001b[0m\u001b[0;34m.\u001b[0m\u001b[0mpolygon\u001b[0m\u001b[0;34m(\u001b[0m\u001b[0mp\u001b[0m\u001b[0;34m[\u001b[0m\u001b[0;34m'y'\u001b[0m\u001b[0;34m]\u001b[0m\u001b[0;34m,\u001b[0m \u001b[0mp\u001b[0m\u001b[0;34m[\u001b[0m\u001b[0;34m'x'\u001b[0m\u001b[0;34m]\u001b[0m\u001b[0;34m)\u001b[0m\u001b[0;34m\u001b[0m\u001b[0;34m\u001b[0m\u001b[0m\n\u001b[0m\u001b[1;32m     97\u001b[0m             \u001b[0mmask\u001b[0m\u001b[0;34m[\u001b[0m\u001b[0mrr\u001b[0m\u001b[0;34m,\u001b[0m \u001b[0mcc\u001b[0m\u001b[0;34m,\u001b[0m \u001b[0mi\u001b[0m\u001b[0;34m]\u001b[0m \u001b[0;34m=\u001b[0m \u001b[0;36m1\u001b[0m\u001b[0;34m\u001b[0m\u001b[0;34m\u001b[0m\u001b[0m\n\u001b[1;32m     98\u001b[0m \u001b[0;34m\u001b[0m\u001b[0m\n",
            "\u001b[0;32m/usr/local/lib/python3.6/dist-packages/skimage/draw/draw.py\u001b[0m in \u001b[0;36mpolygon\u001b[0;34m(r, c, shape)\u001b[0m\n\u001b[1;32m    458\u001b[0m \u001b[0;34m\u001b[0m\u001b[0m\n\u001b[1;32m    459\u001b[0m     \"\"\"\n\u001b[0;32m--> 460\u001b[0;31m     \u001b[0;32mreturn\u001b[0m \u001b[0m_polygon\u001b[0m\u001b[0;34m(\u001b[0m\u001b[0mr\u001b[0m\u001b[0;34m,\u001b[0m \u001b[0mc\u001b[0m\u001b[0;34m,\u001b[0m \u001b[0mshape\u001b[0m\u001b[0;34m)\u001b[0m\u001b[0;34m\u001b[0m\u001b[0;34m\u001b[0m\u001b[0m\n\u001b[0m\u001b[1;32m    461\u001b[0m \u001b[0;34m\u001b[0m\u001b[0m\n\u001b[1;32m    462\u001b[0m \u001b[0;34m\u001b[0m\u001b[0m\n",
            "\u001b[0;32mskimage/draw/_draw.pyx\u001b[0m in \u001b[0;36mskimage.draw._draw._polygon\u001b[0;34m()\u001b[0m\n",
            "\u001b[0;31mOverflowError\u001b[0m: Python int too large to convert to C ssize_t"
          ]
        }
      ]
    },
    {
      "cell_type": "markdown",
      "metadata": {
        "id": "uFg7A2bFuWYK",
        "colab_type": "text"
      },
      "source": [
        "CREATE MODEL"
      ]
    },
    {
      "cell_type": "code",
      "metadata": {
        "id": "QIf2AuVkuaat",
        "colab_type": "code",
        "colab": {
          "base_uri": "https://localhost:8080/",
          "height": 505
        },
        "outputId": "e51c9f86-049b-4ff4-e5db-cc4c7a165dbe"
      },
      "source": [
        "# Create model in training mode\n",
        "model = modellib.MaskRCNN(mode=\"training\", config=config,\n",
        "                          model_dir=MODEL_DIR)"
      ],
      "execution_count": 15,
      "outputs": [
        {
          "output_type": "stream",
          "text": [
            "WARNING:tensorflow:From /usr/local/lib/python3.6/dist-packages/keras/backend/tensorflow_backend.py:492: The name tf.placeholder is deprecated. Please use tf.compat.v1.placeholder instead.\n",
            "\n",
            "WARNING:tensorflow:From /usr/local/lib/python3.6/dist-packages/keras/backend/tensorflow_backend.py:63: The name tf.get_default_graph is deprecated. Please use tf.compat.v1.get_default_graph instead.\n",
            "\n",
            "WARNING:tensorflow:From /usr/local/lib/python3.6/dist-packages/keras/backend/tensorflow_backend.py:3630: The name tf.random_uniform is deprecated. Please use tf.random.uniform instead.\n",
            "\n",
            "WARNING:tensorflow:From /usr/local/lib/python3.6/dist-packages/keras/backend/tensorflow_backend.py:3458: The name tf.nn.max_pool is deprecated. Please use tf.nn.max_pool2d instead.\n",
            "\n",
            "WARNING:tensorflow:From /usr/local/lib/python3.6/dist-packages/keras/backend/tensorflow_backend.py:1822: The name tf.image.resize_nearest_neighbor is deprecated. Please use tf.compat.v1.image.resize_nearest_neighbor instead.\n",
            "\n",
            "WARNING:tensorflow:From /usr/local/lib/python3.6/dist-packages/keras/backend/tensorflow_backend.py:1208: calling reduce_max_v1 (from tensorflow.python.ops.math_ops) with keep_dims is deprecated and will be removed in a future version.\n",
            "Instructions for updating:\n",
            "keep_dims is deprecated, use keepdims instead\n",
            "WARNING:tensorflow:From /usr/local/lib/python3.6/dist-packages/keras/backend/tensorflow_backend.py:1242: calling reduce_sum_v1 (from tensorflow.python.ops.math_ops) with keep_dims is deprecated and will be removed in a future version.\n",
            "Instructions for updating:\n",
            "keep_dims is deprecated, use keepdims instead\n",
            "WARNING:tensorflow:From /tensorflow-1.15.2/python3.6/tensorflow_core/python/ops/array_ops.py:1475: where (from tensorflow.python.ops.array_ops) is deprecated and will be removed in a future version.\n",
            "Instructions for updating:\n",
            "Use tf.where in 2.0, which has the same broadcast rule as np.where\n",
            "WARNING:tensorflow:From /content/Mask_RCNN/mrcnn/model.py:558: The name tf.random_shuffle is deprecated. Please use tf.random.shuffle instead.\n",
            "\n",
            "WARNING:tensorflow:From /content/Mask_RCNN/mrcnn/utils.py:202: The name tf.log is deprecated. Please use tf.math.log instead.\n",
            "\n",
            "WARNING:tensorflow:From /content/Mask_RCNN/mrcnn/model.py:600: calling crop_and_resize_v1 (from tensorflow.python.ops.image_ops_impl) with box_ind is deprecated and will be removed in a future version.\n",
            "Instructions for updating:\n",
            "box_ind is deprecated, use box_indices instead\n"
          ],
          "name": "stdout"
        }
      ]
    },
    {
      "cell_type": "code",
      "metadata": {
        "id": "q4iVzvkjuccX",
        "colab_type": "code",
        "colab": {
          "base_uri": "https://localhost:8080/",
          "height": 253
        },
        "outputId": "d54db93b-0d86-4a19-ca41-cd2587bc8df9"
      },
      "source": [
        "# Which weights to start with?\n",
        "init_with = \"coco\"  # imagenet, coco, or last\n",
        "\n",
        "if init_with == \"imagenet\":\n",
        "    model.load_weights(model.get_imagenet_weights(), by_name=True)\n",
        "elif init_with == \"coco\":\n",
        "    # Load weights trained on MS COCO, but skip layers that\n",
        "    # are different due to the different number of classes\n",
        "    # See README for instructions to download the COCO weights\n",
        "    model.load_weights(COCO_MODEL_PATH, by_name=True,\n",
        "                       exclude=[\"mrcnn_class_logits\", \"mrcnn_bbox_fc\", \n",
        "                                \"mrcnn_bbox\", \"mrcnn_mask\"])\n",
        "elif init_with == \"last\":\n",
        "    # Load the last model you trained and continue training\n",
        "    model.load_weights(model.find_last(), by_name=True)"
      ],
      "execution_count": 16,
      "outputs": [
        {
          "output_type": "stream",
          "text": [
            "WARNING:tensorflow:From /usr/local/lib/python3.6/dist-packages/keras/backend/tensorflow_backend.py:158: The name tf.get_default_session is deprecated. Please use tf.compat.v1.get_default_session instead.\n",
            "\n",
            "WARNING:tensorflow:From /usr/local/lib/python3.6/dist-packages/keras/backend/tensorflow_backend.py:163: The name tf.ConfigProto is deprecated. Please use tf.compat.v1.ConfigProto instead.\n",
            "\n",
            "WARNING:tensorflow:From /usr/local/lib/python3.6/dist-packages/keras/backend/tensorflow_backend.py:168: The name tf.Session is deprecated. Please use tf.compat.v1.Session instead.\n",
            "\n",
            "WARNING:tensorflow:From /usr/local/lib/python3.6/dist-packages/keras/backend/tensorflow_backend.py:172: The name tf.global_variables is deprecated. Please use tf.compat.v1.global_variables instead.\n",
            "\n",
            "WARNING:tensorflow:From /usr/local/lib/python3.6/dist-packages/keras/backend/tensorflow_backend.py:181: The name tf.is_variable_initialized is deprecated. Please use tf.compat.v1.is_variable_initialized instead.\n",
            "\n",
            "WARNING:tensorflow:From /usr/local/lib/python3.6/dist-packages/keras/backend/tensorflow_backend.py:188: The name tf.variables_initializer is deprecated. Please use tf.compat.v1.variables_initializer instead.\n",
            "\n"
          ],
          "name": "stdout"
        }
      ]
    },
    {
      "cell_type": "markdown",
      "metadata": {
        "id": "715Nr9I3ufhx",
        "colab_type": "text"
      },
      "source": [
        "TRAINING"
      ]
    },
    {
      "cell_type": "code",
      "metadata": {
        "id": "Gv4eBr6auhYd",
        "colab_type": "code",
        "colab": {
          "base_uri": "https://localhost:8080/",
          "height": 1000
        },
        "outputId": "bc1b976a-fc6b-4cc7-b9ed-ba4f8cd8a64d"
      },
      "source": [
        "# Train the head branches\n",
        "# Passing layers=\"heads\" freezes all layers except the head\n",
        "# layers. You can also pass a regular expression to select\n",
        "# which layers to train by name pattern.\n",
        "model.train(dataset_train, dataset_val, \n",
        "            learning_rate=config.LEARNING_RATE, \n",
        "            epochs=1, \n",
        "            layers='heads')"
      ],
      "execution_count": 17,
      "outputs": [
        {
          "output_type": "stream",
          "text": [
            "\n",
            "Starting at epoch 0. LR=0.001\n",
            "\n",
            "Checkpoint Path: /content/Mask_RCNN/logs/barriers20200608T1128/mask_rcnn_barriers_{epoch:04d}.h5\n",
            "Selecting layers to train\n",
            "fpn_c5p5               (Conv2D)\n",
            "fpn_c4p4               (Conv2D)\n",
            "fpn_c3p3               (Conv2D)\n",
            "fpn_c2p2               (Conv2D)\n",
            "fpn_p5                 (Conv2D)\n",
            "fpn_p2                 (Conv2D)\n",
            "fpn_p3                 (Conv2D)\n",
            "fpn_p4                 (Conv2D)\n",
            "In model:  rpn_model\n",
            "    rpn_conv_shared        (Conv2D)\n",
            "    rpn_class_raw          (Conv2D)\n",
            "    rpn_bbox_pred          (Conv2D)\n",
            "mrcnn_mask_conv1       (TimeDistributed)\n",
            "mrcnn_mask_bn1         (TimeDistributed)\n",
            "mrcnn_mask_conv2       (TimeDistributed)\n",
            "mrcnn_mask_bn2         (TimeDistributed)\n",
            "mrcnn_class_conv1      (TimeDistributed)\n",
            "mrcnn_class_bn1        (TimeDistributed)\n",
            "mrcnn_mask_conv3       (TimeDistributed)\n",
            "mrcnn_mask_bn3         (TimeDistributed)\n",
            "mrcnn_class_conv2      (TimeDistributed)\n",
            "mrcnn_class_bn2        (TimeDistributed)\n",
            "mrcnn_mask_conv4       (TimeDistributed)\n",
            "mrcnn_mask_bn4         (TimeDistributed)\n",
            "mrcnn_bbox_fc          (TimeDistributed)\n",
            "mrcnn_mask_deconv      (TimeDistributed)\n",
            "mrcnn_class_logits     (TimeDistributed)\n",
            "mrcnn_mask             (TimeDistributed)\n",
            "WARNING:tensorflow:From /usr/local/lib/python3.6/dist-packages/keras/optimizers.py:711: The name tf.train.Optimizer is deprecated. Please use tf.compat.v1.train.Optimizer instead.\n",
            "\n"
          ],
          "name": "stdout"
        },
        {
          "output_type": "stream",
          "text": [
            "/tensorflow-1.15.2/python3.6/tensorflow_core/python/framework/indexed_slices.py:424: UserWarning: Converting sparse IndexedSlices to a dense Tensor of unknown shape. This may consume a large amount of memory.\n",
            "  \"Converting sparse IndexedSlices to a dense Tensor of unknown shape. \"\n",
            "/tensorflow-1.15.2/python3.6/tensorflow_core/python/framework/indexed_slices.py:424: UserWarning: Converting sparse IndexedSlices to a dense Tensor of unknown shape. This may consume a large amount of memory.\n",
            "  \"Converting sparse IndexedSlices to a dense Tensor of unknown shape. \"\n",
            "/tensorflow-1.15.2/python3.6/tensorflow_core/python/framework/indexed_slices.py:424: UserWarning: Converting sparse IndexedSlices to a dense Tensor of unknown shape. This may consume a large amount of memory.\n",
            "  \"Converting sparse IndexedSlices to a dense Tensor of unknown shape. \"\n"
          ],
          "name": "stderr"
        },
        {
          "output_type": "stream",
          "text": [
            "WARNING:tensorflow:From /usr/local/lib/python3.6/dist-packages/keras/backend/tensorflow_backend.py:953: The name tf.assign_add is deprecated. Please use tf.compat.v1.assign_add instead.\n",
            "\n",
            "WARNING:tensorflow:From /usr/local/lib/python3.6/dist-packages/keras/backend/tensorflow_backend.py:675: calling Constant.__init__ (from tensorflow.python.ops.init_ops) with dtype is deprecated and will be removed in a future version.\n",
            "Instructions for updating:\n",
            "Call initializer instance with the dtype argument instead of passing it to the constructor\n",
            "WARNING:tensorflow:From /usr/local/lib/python3.6/dist-packages/keras/backend/tensorflow_backend.py:940: The name tf.assign is deprecated. Please use tf.compat.v1.assign instead.\n",
            "\n",
            "WARNING:tensorflow:From /usr/local/lib/python3.6/dist-packages/keras/callbacks.py:705: The name tf.summary.merge_all is deprecated. Please use tf.compat.v1.summary.merge_all instead.\n",
            "\n",
            "WARNING:tensorflow:From /usr/local/lib/python3.6/dist-packages/keras/callbacks.py:708: The name tf.summary.FileWriter is deprecated. Please use tf.compat.v1.summary.FileWriter instead.\n",
            "\n"
          ],
          "name": "stdout"
        },
        {
          "output_type": "stream",
          "text": [
            "/usr/local/lib/python3.6/dist-packages/keras/engine/training.py:2039: UserWarning: Using a generator with `use_multiprocessing=True` and multiple workers may duplicate your data. Please consider using the`keras.utils.Sequence class.\n",
            "  UserWarning('Using a generator with `use_multiprocessing=True`'\n"
          ],
          "name": "stderr"
        },
        {
          "output_type": "stream",
          "text": [
            "Epoch 1/1\n"
          ],
          "name": "stdout"
        },
        {
          "output_type": "stream",
          "text": [
            "ERROR:root:Error processing image {'id': 'FP_1_CamScanner_mobil.jpg', 'source': 'barrier', 'path': '/content/Mask_RCNN/barrierDataset/train/FP_1_CamScanner_mobil.jpg', 'width': 1776, 'height': 1924, 'polygons': [{'name': 'rect', 'x': 1429, 'y': 35, 'width': 32, 'height': 123}, {'name': 'rect', 'x': 1486, 'y': 1605, 'width': 56, 'height': 58}, {'name': 'rect', 'x': 656, 'y': 450, 'width': 35, 'height': 56}, {'name': 'rect', 'x': 1499, 'y': 197, 'width': 71, 'height': 17}, {'name': 'rect', 'x': 1492, 'y': 225, 'width': 43, 'height': 28}, {'name': 'rect', 'x': 1135, 'y': 388, 'width': 37, 'height': 28}, {'name': 'rect', 'x': 1382, 'y': 827, 'width': 45, 'height': 37}, {'name': 'rect', 'x': 1590, 'y': 1490, 'width': 19, 'height': 28}, {'name': 'rect', 'x': 795, 'y': 1105, 'width': 43, 'height': 41}, {'name': 'rect', 'x': 747, 'y': 1317, 'width': 63, 'height': 37}]}\n",
            "Traceback (most recent call last):\n",
            "  File \"/content/Mask_RCNN/mrcnn/model.py\", line 1709, in data_generator\n",
            "    use_mini_mask=config.USE_MINI_MASK)\n",
            "  File \"/content/Mask_RCNN/mrcnn/model.py\", line 1212, in load_image_gt\n",
            "    mask, class_ids = dataset.load_mask(image_id)\n",
            "  File \"<ipython-input-11-9a180a0f6e01>\", line 96, in load_mask\n",
            "    rr, cc = skimage.draw.polygon(p['y'], p['x'])\n",
            "  File \"/usr/local/lib/python3.6/dist-packages/skimage/draw/draw.py\", line 460, in polygon\n",
            "    return _polygon(r, c, shape)\n",
            "  File \"skimage/draw/_draw.pyx\", line 217, in skimage.draw._draw._polygon\n",
            "OverflowError: Python int too large to convert to C ssize_t\n",
            "ERROR:root:Error processing image {'id': 'FP_3_CamScanner_mobil.jpg', 'source': 'barrier', 'path': '/content/Mask_RCNN/barrierDataset/train/FP_3_CamScanner_mobil.jpg', 'width': 2448, 'height': 2564, 'polygons': [{'name': 'polygon', 'all_points_x': [771, 829, 823, 808, 811, 777], 'all_points_y': [202, 208, 245, 245, 320, 323]}, {'name': 'polygon', 'all_points_x': [753, 823, 872, 756], 'all_points_y': [1123, 1120, 1198, 1210]}, {'name': 'polygon', 'all_points_x': [2159, 2266, 2272, 2041, 2038, 2107, 2110, 2180], 'all_points_y': [2243, 2249, 2078, 2067, 2090, 2084, 2116, 2116]}, {'name': 'polygon', 'all_points_x': [1822, 1891, 1833, 1772, 1755, 1822], 'all_points_y': [1357, 1311, 1270, 1308, 1360, 1351]}, {'name': 'rect', 'x': 488, 'y': 1019, 'width': 104, 'height': 64}, {'name': 'rect', 'x': 485, 'y': 1129, 'width': 107, 'height': 61}, {'name': 'rect', 'x': 655, 'y': 1654, 'width': 92, 'height': 69}, {'name': 'rect', 'x': 2041, 'y': 846, 'width': 64, 'height': 52}, {'name': 'rect', 'x': 1345, 'y': 355, 'width': 75, 'height': 52}, {'name': 'rect', 'x': 598, 'y': 346, 'width': 72, 'height': 69}, {'name': 'rect', 'x': 387, 'y': 557, 'width': 55, 'height': 46}, {'name': 'rect', 'x': 950, 'y': 1836, 'width': 66, 'height': 72}]}\n",
            "Traceback (most recent call last):\n",
            "  File \"/content/Mask_RCNN/mrcnn/model.py\", line 1709, in data_generator\n",
            "    use_mini_mask=config.USE_MINI_MASK)\n",
            "  File \"/content/Mask_RCNN/mrcnn/model.py\", line 1212, in load_image_gt\n",
            "    mask, class_ids = dataset.load_mask(image_id)\n",
            "  File \"<ipython-input-11-9a180a0f6e01>\", line 96, in load_mask\n",
            "    rr, cc = skimage.draw.polygon(p['y'], p['x'])\n",
            "KeyError: 'y'\n",
            "ERROR:root:Error processing image {'id': 'FP_Societatstheater_3_CamScanner_mobil.jpg', 'source': 'barrier', 'path': '/content/Mask_RCNN/barrierDataset/train/FP_Societatstheater_3_CamScanner_mobil.jpg', 'width': 2996, 'height': 1892, 'polygons': [{'name': 'rect', 'x': 707, 'y': 166, 'width': 251, 'height': 149}, {'name': 'rect', 'x': 369, 'y': 394, 'width': 115, 'height': 124}, {'name': 'rect', 'x': 516, 'y': 518, 'width': 83, 'height': 89}, {'name': 'rect', 'x': 1189, 'y': 514, 'width': 107, 'height': 94}, {'name': 'rect', 'x': 200, 'y': 509, 'width': 124, 'height': 121}, {'name': 'rect', 'x': 1374, 'y': 1289, 'width': 141, 'height': 215}, {'name': 'rect', 'x': 1287, 'y': 1019, 'width': 115, 'height': 196}, {'name': 'rect', 'x': 2789, 'y': 430, 'width': 109, 'height': 121}, {'name': 'rect', 'x': 2610, 'y': 416, 'width': 89, 'height': 70}, {'name': 'rect', 'x': 2534, 'y': 428, 'width': 81, 'height': 87}, {'name': 'rect', 'x': 2276, 'y': 1097, 'width': 100, 'height': 104}, {'name': 'rect', 'x': 1300, 'y': 1585, 'width': 130, 'height': 215}, {'name': 'rect', 'x': 1585, 'y': 249, 'width': 89, 'height': 85}, {'name': 'rect', 'x': 1281, 'y': 326, 'width': 100, 'height': 92}, {'name': 'rect', 'x': 1125, 'y': 311, 'width': 89, 'height': 79}, {'name': 'rect', 'x': 1351, 'y': 816, 'width': 83, 'height': 130}, {'name': 'rect', 'x': 1458, 'y': 961, 'width': 158, 'height': 98}, {'name': 'polygon', 'all_points_x': [4, 153, 143, 149, 156, 251, 264, 2], 'all_points_y': [637, 646, 388, 388, 641, 648, 256, 262]}, {'name': 'polygon', 'all_points_x': [1530, 1409, 1404, 1524], 'all_points_y': [786, 791, 514, 520]}, {'name': 'polygon', 'all_points_x': [1558, 1564, 1664, 1658], 'all_points_y': [520, 780, 769, 516]}, {'name': 'polygon', 'all_points_x': [2777, 2828, 2821, 2870, 2870, 2772], 'all_points_y': [980, 980, 812, 812, 654, 665]}, {'name': 'polygon', 'all_points_x': [2887, 2962, 2953, 2881], 'all_points_y': [731, 739, 639, 656]}, {'name': 'rect', 'x': 1726, 'y': 563, 'width': 107, 'height': 130}]}\n",
            "Traceback (most recent call last):\n",
            "  File \"/content/Mask_RCNN/mrcnn/model.py\", line 1709, in data_generator\n",
            "    use_mini_mask=config.USE_MINI_MASK)\n",
            "  File \"/content/Mask_RCNN/mrcnn/model.py\", line 1212, in load_image_gt\n",
            "    mask, class_ids = dataset.load_mask(image_id)\n",
            "  File \"<ipython-input-11-9a180a0f6e01>\", line 96, in load_mask\n",
            "    rr, cc = skimage.draw.polygon(p['y'], p['x'])\n",
            "  File \"/usr/local/lib/python3.6/dist-packages/skimage/draw/draw.py\", line 460, in polygon\n",
            "    return _polygon(r, c, shape)\n",
            "  File \"skimage/draw/_draw.pyx\", line 217, in skimage.draw._draw._polygon\n",
            "OverflowError: Python int too large to convert to C ssize_t\n",
            "ERROR:root:Error processing image {'id': 'FP_12_CamScanner_mobil.jpg', 'source': 'barrier', 'path': '/content/Mask_RCNN/barrierDataset/train/FP_12_CamScanner_mobil.jpg', 'width': 2444, 'height': 3268, 'polygons': [{'name': 'polygon', 'all_points_x': [2142, 2054, 2065, 2102, 2098, 2135], 'all_points_y': [254, 258, 317, 320, 276, 280]}, {'name': 'polygon', 'all_points_x': [1977, 1980, 2024, 2024], 'all_points_y': [59, 188, 191, 48]}, {'name': 'polygon', 'all_points_x': [1071, 1141, 1145, 1093, 1067], 'all_points_y': [2433, 2433, 2481, 2481, 2426]}, {'name': 'polygon', 'all_points_x': [2069, 2135, 2131, 2098, 2102, 2058], 'all_points_y': [2091, 2098, 2076, 2072, 2032, 2032]}, {'name': 'rect', 'x': 1929, 'y': 920, 'width': 40, 'height': 33}, {'name': 'rect', 'x': 1918, 'y': 1031, 'width': 48, 'height': 48}, {'name': 'rect', 'x': 2017, 'y': 902, 'width': 52, 'height': 48}, {'name': 'rect', 'x': 2017, 'y': 732, 'width': 44, 'height': 55}, {'name': 'rect', 'x': 2017, 'y': 486, 'width': 44, 'height': 44}, {'name': 'rect', 'x': 1167, 'y': 357, 'width': 33, 'height': 48}, {'name': 'rect', 'x': 1388, 'y': 353, 'width': 77, 'height': 59}, {'name': 'rect', 'x': 1623, 'y': 368, 'width': 55, 'height': 52}, {'name': 'rect', 'x': 1870, 'y': 368, 'width': 63, 'height': 59}, {'name': 'rect', 'x': 1248, 'y': 2451, 'width': 66, 'height': 33}, {'name': 'rect', 'x': 1248, 'y': 2514, 'width': 70, 'height': 52}]}\n",
            "Traceback (most recent call last):\n",
            "  File \"/content/Mask_RCNN/mrcnn/model.py\", line 1709, in data_generator\n",
            "    use_mini_mask=config.USE_MINI_MASK)\n",
            "  File \"/content/Mask_RCNN/mrcnn/model.py\", line 1212, in load_image_gt\n",
            "    mask, class_ids = dataset.load_mask(image_id)\n",
            "  File \"<ipython-input-11-9a180a0f6e01>\", line 96, in load_mask\n",
            "    rr, cc = skimage.draw.polygon(p['y'], p['x'])\n",
            "KeyError: 'y'\n",
            "ERROR:root:Error processing image {'id': 'FP_12_CamScanner_mobil.jpg', 'source': 'barrier', 'path': '/content/Mask_RCNN/barrierDataset/train/FP_12_CamScanner_mobil.jpg', 'width': 2444, 'height': 3268, 'polygons': [{'name': 'polygon', 'all_points_x': [2142, 2054, 2065, 2102, 2098, 2135], 'all_points_y': [254, 258, 317, 320, 276, 280]}, {'name': 'polygon', 'all_points_x': [1977, 1980, 2024, 2024], 'all_points_y': [59, 188, 191, 48]}, {'name': 'polygon', 'all_points_x': [1071, 1141, 1145, 1093, 1067], 'all_points_y': [2433, 2433, 2481, 2481, 2426]}, {'name': 'polygon', 'all_points_x': [2069, 2135, 2131, 2098, 2102, 2058], 'all_points_y': [2091, 2098, 2076, 2072, 2032, 2032]}, {'name': 'rect', 'x': 1929, 'y': 920, 'width': 40, 'height': 33}, {'name': 'rect', 'x': 1918, 'y': 1031, 'width': 48, 'height': 48}, {'name': 'rect', 'x': 2017, 'y': 902, 'width': 52, 'height': 48}, {'name': 'rect', 'x': 2017, 'y': 732, 'width': 44, 'height': 55}, {'name': 'rect', 'x': 2017, 'y': 486, 'width': 44, 'height': 44}, {'name': 'rect', 'x': 1167, 'y': 357, 'width': 33, 'height': 48}, {'name': 'rect', 'x': 1388, 'y': 353, 'width': 77, 'height': 59}, {'name': 'rect', 'x': 1623, 'y': 368, 'width': 55, 'height': 52}, {'name': 'rect', 'x': 1870, 'y': 368, 'width': 63, 'height': 59}, {'name': 'rect', 'x': 1248, 'y': 2451, 'width': 66, 'height': 33}, {'name': 'rect', 'x': 1248, 'y': 2514, 'width': 70, 'height': 52}]}\n",
            "Traceback (most recent call last):\n",
            "  File \"/content/Mask_RCNN/mrcnn/model.py\", line 1709, in data_generator\n",
            "    use_mini_mask=config.USE_MINI_MASK)\n",
            "  File \"/content/Mask_RCNN/mrcnn/model.py\", line 1212, in load_image_gt\n",
            "    mask, class_ids = dataset.load_mask(image_id)\n",
            "  File \"<ipython-input-11-9a180a0f6e01>\", line 96, in load_mask\n",
            "    rr, cc = skimage.draw.polygon(p['y'], p['x'])\n",
            "KeyError: 'y'\n",
            "ERROR:root:Error processing image {'id': 'FP_5_CamScanner_mobil.jpg', 'source': 'barrier', 'path': '/content/Mask_RCNN/barrierDataset/train/FP_5_CamScanner_mobil.jpg', 'width': 2276, 'height': 2312, 'polygons': [{'name': 'rect', 'x': 651, 'y': 852, 'width': 91, 'height': 60}, {'name': 'rect', 'x': 654, 'y': 948, 'width': 91, 'height': 60}, {'name': 'rect', 'x': 1987, 'y': 576, 'width': 57, 'height': 62}, {'name': 'rect', 'x': 1992, 'y': 724, 'width': 47, 'height': 55}, {'name': 'rect', 'x': 1531, 'y': 1604, 'width': 68, 'height': 55}, {'name': 'rect', 'x': 1500, 'y': 1732, 'width': 65, 'height': 68}, {'name': 'rect', 'x': 492, 'y': 1758, 'width': 81, 'height': 52}, {'name': 'rect', 'x': 339, 'y': 1622, 'width': 60, 'height': 55}, {'name': 'rect', 'x': 945, 'y': 846, 'width': 146, 'height': 78}, {'name': 'rect', 'x': 943, 'y': 945, 'width': 138, 'height': 73}, {'name': 'circle', 'cx': 1820, 'cy': 1156, 'r': 75}, {'name': 'polygon', 'all_points_x': [2120, 2237, 2229, 2167, 2159, 2128], 'all_points_y': [1950, 1953, 1844, 1846, 1815, 1825]}, {'name': 'polygon', 'all_points_x': [896, 997, 1003, 984, 982, 917, 917, 898], 'all_points_y': [141, 143, 289, 281, 245, 242, 294, 286]}]}\n",
            "Traceback (most recent call last):\n",
            "  File \"/content/Mask_RCNN/mrcnn/model.py\", line 1709, in data_generator\n",
            "    use_mini_mask=config.USE_MINI_MASK)\n",
            "  File \"/content/Mask_RCNN/mrcnn/model.py\", line 1212, in load_image_gt\n",
            "    mask, class_ids = dataset.load_mask(image_id)\n",
            "  File \"<ipython-input-11-9a180a0f6e01>\", line 96, in load_mask\n",
            "    rr, cc = skimage.draw.polygon(p['y'], p['x'])\n",
            "  File \"/usr/local/lib/python3.6/dist-packages/skimage/draw/draw.py\", line 460, in polygon\n",
            "    return _polygon(r, c, shape)\n",
            "  File \"skimage/draw/_draw.pyx\", line 217, in skimage.draw._draw._polygon\n",
            "OverflowError: Python int too large to convert to C ssize_t\n",
            "ERROR:root:Error processing image {'id': 'FP_Watzke_Pieschen_CamScanner_mobil.jpg', 'source': 'barrier', 'path': '/content/Mask_RCNN/barrierDataset/train/FP_Watzke_Pieschen_CamScanner_mobil.jpg', 'width': 3036, 'height': 2220, 'polygons': [{'name': 'polygon', 'all_points_x': [206, 448, 443, 301, 292, 190], 'all_points_y': [201, 201, 294, 292, 502, 507]}, {'name': 'polygon', 'all_points_x': [517, 545, 552, 505, 483], 'all_points_y': [358, 391, 443, 441, 386]}, {'name': 'polygon', 'all_points_x': [185, 24, 21, 180], 'all_points_y': [585, 585, 898, 901]}, {'name': 'polygon', 'all_points_x': [249, 180, 185, 251], 'all_points_y': [732, 730, 792, 794]}, {'name': 'polygon', 'all_points_x': [526, 403, 403, 540], 'all_points_y': [839, 839, 910, 915]}, {'name': 'polygon', 'all_points_x': [768, 891, 886, 763], 'all_points_y': [924, 924, 851, 846]}, {'name': 'polygon', 'all_points_x': [386, 507, 507, 398], 'all_points_y': [1434, 1429, 1484, 1486]}, {'name': 'polygon', 'all_points_x': [751, 870, 867, 749], 'all_points_y': [1431, 1431, 1500, 1498]}, {'name': 'polygon', 'all_points_x': [1185, 1183, 1294, 1292], 'all_points_y': [1469, 1541, 1541, 1469]}, {'name': 'polygon', 'all_points_x': [1152, 1076, 1083, 1145], 'all_points_y': [1346, 1344, 1450, 1458]}, {'name': 'polygon', 'all_points_x': [766, 841, 917, 839], 'all_points_y': [1811, 1894, 1818, 1751]}, {'name': 'rect', 'x': 1687, 'y': 865, 'width': 57, 'height': 71}, {'name': 'rect', 'x': 1770, 'y': 860, 'width': 64, 'height': 78}, {'name': 'rect', 'x': 1602, 'y': 419, 'width': 81, 'height': 114}, {'name': 'rect', 'x': 2171, 'y': 600, 'width': 69, 'height': 88}, {'name': 'polygon', 'all_points_x': [2344, 2557, 2524, 2311], 'all_points_y': [486, 517, 678, 645]}, {'name': 'polygon', 'all_points_x': [2823, 2801, 2721, 2744], 'all_points_y': [446, 550, 540, 429]}, {'name': 'polygon', 'all_points_x': [1870, 2022, 2003, 1844], 'all_points_y': [154, 182, 256, 232]}, {'name': 'polygon', 'all_points_x': [2368, 2169, 2169, 2368], 'all_points_y': [1232, 1225, 1282, 1292]}, {'name': 'rect', 'x': 1455, 'y': 1185, 'width': 119, 'height': 55}, {'name': 'rect', 'x': 1699, 'y': 1194, 'width': 104, 'height': 50}, {'name': 'rect', 'x': 1996, 'y': 813, 'width': 81, 'height': 71}, {'name': 'rect', 'x': 2323, 'y': 784, 'width': 64, 'height': 85}, {'name': 'rect', 'x': 2406, 'y': 808, 'width': 66, 'height': 73}, {'name': 'rect', 'x': 2486, 'y': 815, 'width': 62, 'height': 73}, {'name': 'rect', 'x': 2571, 'y': 711, 'width': 76, 'height': 78}, {'name': 'rect', 'x': 2358, 'y': 666, 'width': 55, 'height': 73}, {'name': 'rect', 'x': 1474, 'y': 1477, 'width': 71, 'height': 71}, {'name': 'rect', 'x': 1979, 'y': 1166, 'width': 71, 'height': 69}, {'name': 'rect', 'x': 2095, 'y': 853, 'width': 31, 'height': 130}, {'name': 'rect', 'x': 2121, 'y': 787, 'width': 192, 'height': 218}, {'name': 'polygon', 'all_points_x': [1676, 1858, 1858, 1666], 'all_points_y': [308, 341, 450, 415]}, {'name': 'polygon', 'all_points_x': [1958, 2015, 2114, 2116, 2036, 2022, 1962], 'all_points_y': [455, 472, 415, 391, 389, 377, 360]}, {'name': 'polygon', 'all_points_x': [2519, 2593, 2583, 2515], 'all_points_y': [346, 358, 405, 398]}, {'name': 'polygon', 'all_points_x': [2678, 2654, 2714, 2735], 'all_points_y': [415, 521, 538, 429]}, {'name': 'polygon', 'all_points_x': [2614, 2593, 2650, 2673], 'all_points_y': [529, 593, 616, 552]}]}\n",
            "Traceback (most recent call last):\n",
            "  File \"/content/Mask_RCNN/mrcnn/model.py\", line 1709, in data_generator\n",
            "    use_mini_mask=config.USE_MINI_MASK)\n",
            "  File \"/content/Mask_RCNN/mrcnn/model.py\", line 1212, in load_image_gt\n",
            "    mask, class_ids = dataset.load_mask(image_id)\n",
            "  File \"<ipython-input-11-9a180a0f6e01>\", line 96, in load_mask\n",
            "    rr, cc = skimage.draw.polygon(p['y'], p['x'])\n",
            "KeyError: 'y'\n",
            "ERROR:root:Error processing image {'id': 'FP_Club_Mensa_A2_1-250_CamScanner_mobil.jpg', 'source': 'barrier', 'path': '/content/Mask_RCNN/barrierDataset/train/FP_Club_Mensa_A2_1-250_CamScanner_mobil.jpg', 'width': 3032, 'height': 1368, 'polygons': [{'name': 'rect', 'x': 672, 'y': 254, 'width': 76, 'height': 80}, {'name': 'rect', 'x': 778, 'y': 249, 'width': 66, 'height': 89}, {'name': 'rect', 'x': 399, 'y': 528, 'width': 78, 'height': 99}, {'name': 'rect', 'x': 1287, 'y': 313, 'width': 68, 'height': 74}, {'name': 'rect', 'x': 1363, 'y': 302, 'width': 46, 'height': 91}, {'name': 'rect', 'x': 2423, 'y': 731, 'width': 55, 'height': 122}, {'name': 'rect', 'x': 2424, 'y': 1027, 'width': 72, 'height': 66}, {'name': 'rect', 'x': 315, 'y': 494, 'width': 53, 'height': 38}, {'name': 'rect', 'x': 351, 'y': 283, 'width': 59, 'height': 61}, {'name': 'rect', 'x': 374, 'y': 93, 'width': 44, 'height': 49}, {'name': 'rect', 'x': 366, 'y': 180, 'width': 55, 'height': 61}, {'name': 'rect', 'x': 245, 'y': 57, 'width': 42, 'height': 42}, {'name': 'rect', 'x': 2442, 'y': 469, 'width': 89, 'height': 169}, {'name': 'rect', 'x': 2620, 'y': 469, 'width': 87, 'height': 182}, {'name': 'rect', 'x': 2531, 'y': 370, 'width': 85, 'height': 106}, {'name': 'rect', 'x': 511, 'y': 509, 'width': 133, 'height': 97}, {'name': 'rect', 'x': 640, 'y': 380, 'width': 308, 'height': 131}, {'name': 'rect', 'x': 944, 'y': 513, 'width': 137, 'height': 49}]}\n",
            "Traceback (most recent call last):\n",
            "  File \"/content/Mask_RCNN/mrcnn/model.py\", line 1709, in data_generator\n",
            "    use_mini_mask=config.USE_MINI_MASK)\n",
            "  File \"/content/Mask_RCNN/mrcnn/model.py\", line 1212, in load_image_gt\n",
            "    mask, class_ids = dataset.load_mask(image_id)\n",
            "  File \"<ipython-input-11-9a180a0f6e01>\", line 96, in load_mask\n",
            "    rr, cc = skimage.draw.polygon(p['y'], p['x'])\n",
            "  File \"/usr/local/lib/python3.6/dist-packages/skimage/draw/draw.py\", line 460, in polygon\n",
            "    return _polygon(r, c, shape)\n",
            "  File \"skimage/draw/_draw.pyx\", line 217, in skimage.draw._draw._polygon\n",
            "OverflowError: Python int too large to convert to C ssize_t\n",
            "ERROR:root:Error processing image {'id': 'FP_FitX_CamScanner_mobil.jpg', 'source': 'barrier', 'path': '/content/Mask_RCNN/barrierDataset/train/FP_FitX_CamScanner_mobil.jpg', 'width': 628, 'height': 624, 'polygons': [{'name': 'rect', 'x': 591, 'y': 124, 'width': 25, 'height': 22}, {'name': 'rect', 'x': 433, 'y': 196, 'width': 21, 'height': 45}, {'name': 'rect', 'x': 405, 'y': 537, 'width': 21, 'height': 25}, {'name': 'rect', 'x': 109, 'y': 553, 'width': 25, 'height': 24}, {'name': 'rect', 'x': 107, 'y': 188, 'width': 30, 'height': 23}, {'name': 'rect', 'x': 271, 'y': 116, 'width': 18, 'height': 13}, {'name': 'rect', 'x': 275, 'y': 129, 'width': 12, 'height': 21}, {'name': 'rect', 'x': 581, 'y': 53, 'width': 19, 'height': 13}, {'name': 'rect', 'x': 556, 'y': 106, 'width': 11, 'height': 14}, {'name': 'rect', 'x': 358, 'y': 255, 'width': 12, 'height': 20}, {'name': 'rect', 'x': 355, 'y': 212, 'width': 14, 'height': 23}, {'name': 'rect', 'x': 382, 'y': 523, 'width': 12, 'height': 15}, {'name': 'rect', 'x': 62, 'y': 565, 'width': 20, 'height': 15}, {'name': 'rect', 'x': 53, 'y': 371, 'width': 24, 'height': 18}, {'name': 'rect', 'x': 138, 'y': 318, 'width': 16, 'height': 13}, {'name': 'rect', 'x': 82, 'y': 339, 'width': 17, 'height': 14}, {'name': 'rect', 'x': 274, 'y': 334, 'width': 17, 'height': 31}, {'name': 'rect', 'x': 288, 'y': 521, 'width': 12, 'height': 10}, {'name': 'rect', 'x': 337, 'y': 523, 'width': 17, 'height': 14}]}\n",
            "Traceback (most recent call last):\n",
            "  File \"/content/Mask_RCNN/mrcnn/model.py\", line 1709, in data_generator\n",
            "    use_mini_mask=config.USE_MINI_MASK)\n",
            "  File \"/content/Mask_RCNN/mrcnn/model.py\", line 1212, in load_image_gt\n",
            "    mask, class_ids = dataset.load_mask(image_id)\n",
            "  File \"<ipython-input-11-9a180a0f6e01>\", line 96, in load_mask\n",
            "    rr, cc = skimage.draw.polygon(p['y'], p['x'])\n",
            "  File \"/usr/local/lib/python3.6/dist-packages/skimage/draw/draw.py\", line 460, in polygon\n",
            "    return _polygon(r, c, shape)\n",
            "  File \"skimage/draw/_draw.pyx\", line 217, in skimage.draw._draw._polygon\n",
            "OverflowError: Python int too large to convert to C ssize_t\n",
            "Process Process-2:\n"
          ],
          "name": "stderr"
        },
        {
          "output_type": "error",
          "ename": "StopIteration",
          "evalue": "ignored",
          "traceback": [
            "\u001b[0;31m---------------------------------------------------------------------------\u001b[0m",
            "\u001b[0;31mStopIteration\u001b[0m                             Traceback (most recent call last)",
            "\u001b[0;32m<ipython-input-17-83fb3ae74319>\u001b[0m in \u001b[0;36m<module>\u001b[0;34m()\u001b[0m\n\u001b[1;32m      6\u001b[0m             \u001b[0mlearning_rate\u001b[0m\u001b[0;34m=\u001b[0m\u001b[0mconfig\u001b[0m\u001b[0;34m.\u001b[0m\u001b[0mLEARNING_RATE\u001b[0m\u001b[0;34m,\u001b[0m\u001b[0;34m\u001b[0m\u001b[0;34m\u001b[0m\u001b[0m\n\u001b[1;32m      7\u001b[0m             \u001b[0mepochs\u001b[0m\u001b[0;34m=\u001b[0m\u001b[0;36m1\u001b[0m\u001b[0;34m,\u001b[0m\u001b[0;34m\u001b[0m\u001b[0;34m\u001b[0m\u001b[0m\n\u001b[0;32m----> 8\u001b[0;31m             layers='heads')\n\u001b[0m",
            "\u001b[0;32m/content/Mask_RCNN/mrcnn/model.py\u001b[0m in \u001b[0;36mtrain\u001b[0;34m(self, train_dataset, val_dataset, learning_rate, epochs, layers, augmentation, custom_callbacks, no_augmentation_sources)\u001b[0m\n\u001b[1;32m   2372\u001b[0m             \u001b[0mmax_queue_size\u001b[0m\u001b[0;34m=\u001b[0m\u001b[0;36m100\u001b[0m\u001b[0;34m,\u001b[0m\u001b[0;34m\u001b[0m\u001b[0;34m\u001b[0m\u001b[0m\n\u001b[1;32m   2373\u001b[0m             \u001b[0mworkers\u001b[0m\u001b[0;34m=\u001b[0m\u001b[0mworkers\u001b[0m\u001b[0;34m,\u001b[0m\u001b[0;34m\u001b[0m\u001b[0;34m\u001b[0m\u001b[0m\n\u001b[0;32m-> 2374\u001b[0;31m             \u001b[0muse_multiprocessing\u001b[0m\u001b[0;34m=\u001b[0m\u001b[0;32mTrue\u001b[0m\u001b[0;34m,\u001b[0m\u001b[0;34m\u001b[0m\u001b[0;34m\u001b[0m\u001b[0m\n\u001b[0m\u001b[1;32m   2375\u001b[0m         )\n\u001b[1;32m   2376\u001b[0m         \u001b[0mself\u001b[0m\u001b[0;34m.\u001b[0m\u001b[0mepoch\u001b[0m \u001b[0;34m=\u001b[0m \u001b[0mmax\u001b[0m\u001b[0;34m(\u001b[0m\u001b[0mself\u001b[0m\u001b[0;34m.\u001b[0m\u001b[0mepoch\u001b[0m\u001b[0;34m,\u001b[0m \u001b[0mepochs\u001b[0m\u001b[0;34m)\u001b[0m\u001b[0;34m\u001b[0m\u001b[0;34m\u001b[0m\u001b[0m\n",
            "\u001b[0;32m/usr/local/lib/python3.6/dist-packages/keras/legacy/interfaces.py\u001b[0m in \u001b[0;36mwrapper\u001b[0;34m(*args, **kwargs)\u001b[0m\n\u001b[1;32m     85\u001b[0m                 warnings.warn('Update your `' + object_name +\n\u001b[1;32m     86\u001b[0m                               '` call to the Keras 2 API: ' + signature, stacklevel=2)\n\u001b[0;32m---> 87\u001b[0;31m             \u001b[0;32mreturn\u001b[0m \u001b[0mfunc\u001b[0m\u001b[0;34m(\u001b[0m\u001b[0;34m*\u001b[0m\u001b[0margs\u001b[0m\u001b[0;34m,\u001b[0m \u001b[0;34m**\u001b[0m\u001b[0mkwargs\u001b[0m\u001b[0;34m)\u001b[0m\u001b[0;34m\u001b[0m\u001b[0;34m\u001b[0m\u001b[0m\n\u001b[0m\u001b[1;32m     88\u001b[0m         \u001b[0mwrapper\u001b[0m\u001b[0;34m.\u001b[0m\u001b[0m_original_function\u001b[0m \u001b[0;34m=\u001b[0m \u001b[0mfunc\u001b[0m\u001b[0;34m\u001b[0m\u001b[0;34m\u001b[0m\u001b[0m\n\u001b[1;32m     89\u001b[0m         \u001b[0;32mreturn\u001b[0m \u001b[0mwrapper\u001b[0m\u001b[0;34m\u001b[0m\u001b[0;34m\u001b[0m\u001b[0m\n",
            "\u001b[0;32m/usr/local/lib/python3.6/dist-packages/keras/engine/training.py\u001b[0m in \u001b[0;36mfit_generator\u001b[0;34m(self, generator, steps_per_epoch, epochs, verbose, callbacks, validation_data, validation_steps, class_weight, max_queue_size, workers, use_multiprocessing, shuffle, initial_epoch)\u001b[0m\n\u001b[1;32m   2063\u001b[0m                 \u001b[0mbatch_index\u001b[0m \u001b[0;34m=\u001b[0m \u001b[0;36m0\u001b[0m\u001b[0;34m\u001b[0m\u001b[0;34m\u001b[0m\u001b[0m\n\u001b[1;32m   2064\u001b[0m                 \u001b[0;32mwhile\u001b[0m \u001b[0msteps_done\u001b[0m \u001b[0;34m<\u001b[0m \u001b[0msteps_per_epoch\u001b[0m\u001b[0;34m:\u001b[0m\u001b[0;34m\u001b[0m\u001b[0;34m\u001b[0m\u001b[0m\n\u001b[0;32m-> 2065\u001b[0;31m                     \u001b[0mgenerator_output\u001b[0m \u001b[0;34m=\u001b[0m \u001b[0mnext\u001b[0m\u001b[0;34m(\u001b[0m\u001b[0moutput_generator\u001b[0m\u001b[0;34m)\u001b[0m\u001b[0;34m\u001b[0m\u001b[0;34m\u001b[0m\u001b[0m\n\u001b[0m\u001b[1;32m   2066\u001b[0m \u001b[0;34m\u001b[0m\u001b[0m\n\u001b[1;32m   2067\u001b[0m                     \u001b[0;32mif\u001b[0m \u001b[0;32mnot\u001b[0m \u001b[0mhasattr\u001b[0m\u001b[0;34m(\u001b[0m\u001b[0mgenerator_output\u001b[0m\u001b[0;34m,\u001b[0m \u001b[0;34m'__len__'\u001b[0m\u001b[0;34m)\u001b[0m\u001b[0;34m:\u001b[0m\u001b[0;34m\u001b[0m\u001b[0;34m\u001b[0m\u001b[0m\n",
            "\u001b[0;31mStopIteration\u001b[0m: "
          ]
        }
      ]
    },
    {
      "cell_type": "code",
      "metadata": {
        "id": "jmlJ9GQpuoSj",
        "colab_type": "code",
        "colab": {
          "base_uri": "https://localhost:8080/",
          "height": 1000
        },
        "outputId": "643b2748-9762-4d85-b1c7-b5541c34f9f2"
      },
      "source": [
        "# Fine tune all layers\n",
        "# Passing layers=\"all\" trains all layers. You can also \n",
        "# pass a regular expression to select which layers to\n",
        "# train by name pattern.\n",
        "model.train(dataset_train, dataset_val, \n",
        "            learning_rate=config.LEARNING_RATE / 10,\n",
        "            epochs=2, \n",
        "            layers=\"all\")"
      ],
      "execution_count": 18,
      "outputs": [
        {
          "output_type": "stream",
          "text": [
            "\n",
            "Starting at epoch 0. LR=0.0001\n",
            "\n",
            "Checkpoint Path: /content/Mask_RCNN/logs/barriers20200608T1128/mask_rcnn_barriers_{epoch:04d}.h5\n",
            "Selecting layers to train\n",
            "conv1                  (Conv2D)\n",
            "bn_conv1               (BatchNorm)\n",
            "res2a_branch2a         (Conv2D)\n",
            "bn2a_branch2a          (BatchNorm)\n",
            "res2a_branch2b         (Conv2D)\n",
            "bn2a_branch2b          (BatchNorm)\n",
            "res2a_branch2c         (Conv2D)\n",
            "res2a_branch1          (Conv2D)\n",
            "bn2a_branch2c          (BatchNorm)\n",
            "bn2a_branch1           (BatchNorm)\n",
            "res2b_branch2a         (Conv2D)\n",
            "bn2b_branch2a          (BatchNorm)\n",
            "res2b_branch2b         (Conv2D)\n",
            "bn2b_branch2b          (BatchNorm)\n",
            "res2b_branch2c         (Conv2D)\n",
            "bn2b_branch2c          (BatchNorm)\n",
            "res2c_branch2a         (Conv2D)\n",
            "bn2c_branch2a          (BatchNorm)\n",
            "res2c_branch2b         (Conv2D)\n",
            "bn2c_branch2b          (BatchNorm)\n",
            "res2c_branch2c         (Conv2D)\n",
            "bn2c_branch2c          (BatchNorm)\n",
            "res3a_branch2a         (Conv2D)\n",
            "bn3a_branch2a          (BatchNorm)\n",
            "res3a_branch2b         (Conv2D)\n",
            "bn3a_branch2b          (BatchNorm)\n",
            "res3a_branch2c         (Conv2D)\n",
            "res3a_branch1          (Conv2D)\n",
            "bn3a_branch2c          (BatchNorm)\n",
            "bn3a_branch1           (BatchNorm)\n",
            "res3b_branch2a         (Conv2D)\n",
            "bn3b_branch2a          (BatchNorm)\n",
            "res3b_branch2b         (Conv2D)\n",
            "bn3b_branch2b          (BatchNorm)\n",
            "res3b_branch2c         (Conv2D)\n",
            "bn3b_branch2c          (BatchNorm)\n",
            "res3c_branch2a         (Conv2D)\n",
            "bn3c_branch2a          (BatchNorm)\n",
            "res3c_branch2b         (Conv2D)\n",
            "bn3c_branch2b          (BatchNorm)\n",
            "res3c_branch2c         (Conv2D)\n",
            "bn3c_branch2c          (BatchNorm)\n",
            "res3d_branch2a         (Conv2D)\n",
            "bn3d_branch2a          (BatchNorm)\n",
            "res3d_branch2b         (Conv2D)\n",
            "bn3d_branch2b          (BatchNorm)\n",
            "res3d_branch2c         (Conv2D)\n",
            "bn3d_branch2c          (BatchNorm)\n",
            "res4a_branch2a         (Conv2D)\n",
            "bn4a_branch2a          (BatchNorm)\n",
            "res4a_branch2b         (Conv2D)\n",
            "bn4a_branch2b          (BatchNorm)\n",
            "res4a_branch2c         (Conv2D)\n",
            "res4a_branch1          (Conv2D)\n",
            "bn4a_branch2c          (BatchNorm)\n",
            "bn4a_branch1           (BatchNorm)\n",
            "res4b_branch2a         (Conv2D)\n",
            "bn4b_branch2a          (BatchNorm)\n",
            "res4b_branch2b         (Conv2D)\n",
            "bn4b_branch2b          (BatchNorm)\n",
            "res4b_branch2c         (Conv2D)\n",
            "bn4b_branch2c          (BatchNorm)\n",
            "res4c_branch2a         (Conv2D)\n",
            "bn4c_branch2a          (BatchNorm)\n",
            "res4c_branch2b         (Conv2D)\n",
            "bn4c_branch2b          (BatchNorm)\n",
            "res4c_branch2c         (Conv2D)\n",
            "bn4c_branch2c          (BatchNorm)\n",
            "res4d_branch2a         (Conv2D)\n",
            "bn4d_branch2a          (BatchNorm)\n",
            "res4d_branch2b         (Conv2D)\n",
            "bn4d_branch2b          (BatchNorm)\n",
            "res4d_branch2c         (Conv2D)\n",
            "bn4d_branch2c          (BatchNorm)\n",
            "res4e_branch2a         (Conv2D)\n",
            "bn4e_branch2a          (BatchNorm)\n",
            "res4e_branch2b         (Conv2D)\n",
            "bn4e_branch2b          (BatchNorm)\n",
            "res4e_branch2c         (Conv2D)\n",
            "bn4e_branch2c          (BatchNorm)\n",
            "res4f_branch2a         (Conv2D)\n",
            "bn4f_branch2a          (BatchNorm)\n",
            "res4f_branch2b         (Conv2D)\n",
            "bn4f_branch2b          (BatchNorm)\n",
            "res4f_branch2c         (Conv2D)\n",
            "bn4f_branch2c          (BatchNorm)\n",
            "res4g_branch2a         (Conv2D)\n",
            "bn4g_branch2a          (BatchNorm)\n",
            "res4g_branch2b         (Conv2D)\n",
            "bn4g_branch2b          (BatchNorm)\n",
            "res4g_branch2c         (Conv2D)\n",
            "bn4g_branch2c          (BatchNorm)\n",
            "res4h_branch2a         (Conv2D)\n",
            "bn4h_branch2a          (BatchNorm)\n",
            "res4h_branch2b         (Conv2D)\n",
            "bn4h_branch2b          (BatchNorm)\n",
            "res4h_branch2c         (Conv2D)\n",
            "bn4h_branch2c          (BatchNorm)\n",
            "res4i_branch2a         (Conv2D)\n",
            "bn4i_branch2a          (BatchNorm)\n",
            "res4i_branch2b         (Conv2D)\n",
            "bn4i_branch2b          (BatchNorm)\n",
            "res4i_branch2c         (Conv2D)\n",
            "bn4i_branch2c          (BatchNorm)\n",
            "res4j_branch2a         (Conv2D)\n",
            "bn4j_branch2a          (BatchNorm)\n",
            "res4j_branch2b         (Conv2D)\n",
            "bn4j_branch2b          (BatchNorm)\n",
            "res4j_branch2c         (Conv2D)\n",
            "bn4j_branch2c          (BatchNorm)\n",
            "res4k_branch2a         (Conv2D)\n",
            "bn4k_branch2a          (BatchNorm)\n",
            "res4k_branch2b         (Conv2D)\n",
            "bn4k_branch2b          (BatchNorm)\n",
            "res4k_branch2c         (Conv2D)\n",
            "bn4k_branch2c          (BatchNorm)\n",
            "res4l_branch2a         (Conv2D)\n",
            "bn4l_branch2a          (BatchNorm)\n",
            "res4l_branch2b         (Conv2D)\n",
            "bn4l_branch2b          (BatchNorm)\n",
            "res4l_branch2c         (Conv2D)\n",
            "bn4l_branch2c          (BatchNorm)\n",
            "res4m_branch2a         (Conv2D)\n",
            "bn4m_branch2a          (BatchNorm)\n",
            "res4m_branch2b         (Conv2D)\n",
            "bn4m_branch2b          (BatchNorm)\n",
            "res4m_branch2c         (Conv2D)\n",
            "bn4m_branch2c          (BatchNorm)\n",
            "res4n_branch2a         (Conv2D)\n",
            "bn4n_branch2a          (BatchNorm)\n",
            "res4n_branch2b         (Conv2D)\n",
            "bn4n_branch2b          (BatchNorm)\n",
            "res4n_branch2c         (Conv2D)\n",
            "bn4n_branch2c          (BatchNorm)\n",
            "res4o_branch2a         (Conv2D)\n",
            "bn4o_branch2a          (BatchNorm)\n",
            "res4o_branch2b         (Conv2D)\n",
            "bn4o_branch2b          (BatchNorm)\n",
            "res4o_branch2c         (Conv2D)\n",
            "bn4o_branch2c          (BatchNorm)\n",
            "res4p_branch2a         (Conv2D)\n",
            "bn4p_branch2a          (BatchNorm)\n",
            "res4p_branch2b         (Conv2D)\n",
            "bn4p_branch2b          (BatchNorm)\n",
            "res4p_branch2c         (Conv2D)\n",
            "bn4p_branch2c          (BatchNorm)\n",
            "res4q_branch2a         (Conv2D)\n",
            "bn4q_branch2a          (BatchNorm)\n",
            "res4q_branch2b         (Conv2D)\n",
            "bn4q_branch2b          (BatchNorm)\n",
            "res4q_branch2c         (Conv2D)\n",
            "bn4q_branch2c          (BatchNorm)\n",
            "res4r_branch2a         (Conv2D)\n",
            "bn4r_branch2a          (BatchNorm)\n",
            "res4r_branch2b         (Conv2D)\n",
            "bn4r_branch2b          (BatchNorm)\n",
            "res4r_branch2c         (Conv2D)\n",
            "bn4r_branch2c          (BatchNorm)\n",
            "res4s_branch2a         (Conv2D)\n",
            "bn4s_branch2a          (BatchNorm)\n",
            "res4s_branch2b         (Conv2D)\n",
            "bn4s_branch2b          (BatchNorm)\n",
            "res4s_branch2c         (Conv2D)\n",
            "bn4s_branch2c          (BatchNorm)\n",
            "res4t_branch2a         (Conv2D)\n",
            "bn4t_branch2a          (BatchNorm)\n",
            "res4t_branch2b         (Conv2D)\n",
            "bn4t_branch2b          (BatchNorm)\n",
            "res4t_branch2c         (Conv2D)\n",
            "bn4t_branch2c          (BatchNorm)\n",
            "res4u_branch2a         (Conv2D)\n",
            "bn4u_branch2a          (BatchNorm)\n",
            "res4u_branch2b         (Conv2D)\n",
            "bn4u_branch2b          (BatchNorm)\n",
            "res4u_branch2c         (Conv2D)\n",
            "bn4u_branch2c          (BatchNorm)\n",
            "res4v_branch2a         (Conv2D)\n",
            "bn4v_branch2a          (BatchNorm)\n",
            "res4v_branch2b         (Conv2D)\n",
            "bn4v_branch2b          (BatchNorm)\n",
            "res4v_branch2c         (Conv2D)\n",
            "bn4v_branch2c          (BatchNorm)\n",
            "res4w_branch2a         (Conv2D)\n",
            "bn4w_branch2a          (BatchNorm)\n",
            "res4w_branch2b         (Conv2D)\n",
            "bn4w_branch2b          (BatchNorm)\n",
            "res4w_branch2c         (Conv2D)\n",
            "bn4w_branch2c          (BatchNorm)\n",
            "res5a_branch2a         (Conv2D)\n",
            "bn5a_branch2a          (BatchNorm)\n",
            "res5a_branch2b         (Conv2D)\n",
            "bn5a_branch2b          (BatchNorm)\n",
            "res5a_branch2c         (Conv2D)\n",
            "res5a_branch1          (Conv2D)\n",
            "bn5a_branch2c          (BatchNorm)\n",
            "bn5a_branch1           (BatchNorm)\n",
            "res5b_branch2a         (Conv2D)\n",
            "bn5b_branch2a          (BatchNorm)\n",
            "res5b_branch2b         (Conv2D)\n",
            "bn5b_branch2b          (BatchNorm)\n",
            "res5b_branch2c         (Conv2D)\n",
            "bn5b_branch2c          (BatchNorm)\n",
            "res5c_branch2a         (Conv2D)\n",
            "bn5c_branch2a          (BatchNorm)\n",
            "res5c_branch2b         (Conv2D)\n",
            "bn5c_branch2b          (BatchNorm)\n",
            "res5c_branch2c         (Conv2D)\n",
            "bn5c_branch2c          (BatchNorm)\n",
            "fpn_c5p5               (Conv2D)\n",
            "fpn_c4p4               (Conv2D)\n",
            "fpn_c3p3               (Conv2D)\n",
            "fpn_c2p2               (Conv2D)\n",
            "fpn_p5                 (Conv2D)\n",
            "fpn_p2                 (Conv2D)\n",
            "fpn_p3                 (Conv2D)\n",
            "fpn_p4                 (Conv2D)\n",
            "In model:  rpn_model\n",
            "    rpn_conv_shared        (Conv2D)\n",
            "    rpn_class_raw          (Conv2D)\n",
            "    rpn_bbox_pred          (Conv2D)\n",
            "mrcnn_mask_conv1       (TimeDistributed)\n",
            "mrcnn_mask_bn1         (TimeDistributed)\n",
            "mrcnn_mask_conv2       (TimeDistributed)\n",
            "mrcnn_mask_bn2         (TimeDistributed)\n",
            "mrcnn_class_conv1      (TimeDistributed)\n",
            "mrcnn_class_bn1        (TimeDistributed)\n",
            "mrcnn_mask_conv3       (TimeDistributed)\n",
            "mrcnn_mask_bn3         (TimeDistributed)\n",
            "mrcnn_class_conv2      (TimeDistributed)\n",
            "mrcnn_class_bn2        (TimeDistributed)\n",
            "mrcnn_mask_conv4       (TimeDistributed)\n",
            "mrcnn_mask_bn4         (TimeDistributed)\n",
            "mrcnn_bbox_fc          (TimeDistributed)\n",
            "mrcnn_mask_deconv      (TimeDistributed)\n",
            "mrcnn_class_logits     (TimeDistributed)\n",
            "mrcnn_mask             (TimeDistributed)\n"
          ],
          "name": "stdout"
        },
        {
          "output_type": "stream",
          "text": [
            "/tensorflow-1.15.2/python3.6/tensorflow_core/python/framework/indexed_slices.py:424: UserWarning: Converting sparse IndexedSlices to a dense Tensor of unknown shape. This may consume a large amount of memory.\n",
            "  \"Converting sparse IndexedSlices to a dense Tensor of unknown shape. \"\n",
            "/tensorflow-1.15.2/python3.6/tensorflow_core/python/framework/indexed_slices.py:424: UserWarning: Converting sparse IndexedSlices to a dense Tensor of unknown shape. This may consume a large amount of memory.\n",
            "  \"Converting sparse IndexedSlices to a dense Tensor of unknown shape. \"\n",
            "/tensorflow-1.15.2/python3.6/tensorflow_core/python/framework/indexed_slices.py:424: UserWarning: Converting sparse IndexedSlices to a dense Tensor of unknown shape. This may consume a large amount of memory.\n",
            "  \"Converting sparse IndexedSlices to a dense Tensor of unknown shape. \"\n",
            "/usr/local/lib/python3.6/dist-packages/keras/engine/training.py:2039: UserWarning: Using a generator with `use_multiprocessing=True` and multiple workers may duplicate your data. Please consider using the`keras.utils.Sequence class.\n",
            "  UserWarning('Using a generator with `use_multiprocessing=True`'\n"
          ],
          "name": "stderr"
        },
        {
          "output_type": "stream",
          "text": [
            "Epoch 1/2\n"
          ],
          "name": "stdout"
        },
        {
          "output_type": "stream",
          "text": [
            "ERROR:root:Error processing image {'id': 'FP_Club_Mensa_A2_1-250_CamScanner_mobil.jpg', 'source': 'barrier', 'path': '/content/Mask_RCNN/barrierDataset/train/FP_Club_Mensa_A2_1-250_CamScanner_mobil.jpg', 'width': 3032, 'height': 1368, 'polygons': [{'name': 'rect', 'x': 672, 'y': 254, 'width': 76, 'height': 80}, {'name': 'rect', 'x': 778, 'y': 249, 'width': 66, 'height': 89}, {'name': 'rect', 'x': 399, 'y': 528, 'width': 78, 'height': 99}, {'name': 'rect', 'x': 1287, 'y': 313, 'width': 68, 'height': 74}, {'name': 'rect', 'x': 1363, 'y': 302, 'width': 46, 'height': 91}, {'name': 'rect', 'x': 2423, 'y': 731, 'width': 55, 'height': 122}, {'name': 'rect', 'x': 2424, 'y': 1027, 'width': 72, 'height': 66}, {'name': 'rect', 'x': 315, 'y': 494, 'width': 53, 'height': 38}, {'name': 'rect', 'x': 351, 'y': 283, 'width': 59, 'height': 61}, {'name': 'rect', 'x': 374, 'y': 93, 'width': 44, 'height': 49}, {'name': 'rect', 'x': 366, 'y': 180, 'width': 55, 'height': 61}, {'name': 'rect', 'x': 245, 'y': 57, 'width': 42, 'height': 42}, {'name': 'rect', 'x': 2442, 'y': 469, 'width': 89, 'height': 169}, {'name': 'rect', 'x': 2620, 'y': 469, 'width': 87, 'height': 182}, {'name': 'rect', 'x': 2531, 'y': 370, 'width': 85, 'height': 106}, {'name': 'rect', 'x': 511, 'y': 509, 'width': 133, 'height': 97}, {'name': 'rect', 'x': 640, 'y': 380, 'width': 308, 'height': 131}, {'name': 'rect', 'x': 944, 'y': 513, 'width': 137, 'height': 49}]}\n",
            "Traceback (most recent call last):\n",
            "  File \"/content/Mask_RCNN/mrcnn/model.py\", line 1709, in data_generator\n",
            "    use_mini_mask=config.USE_MINI_MASK)\n",
            "  File \"/content/Mask_RCNN/mrcnn/model.py\", line 1212, in load_image_gt\n",
            "    mask, class_ids = dataset.load_mask(image_id)\n",
            "  File \"<ipython-input-11-9a180a0f6e01>\", line 96, in load_mask\n",
            "    rr, cc = skimage.draw.polygon(p['y'], p['x'])\n",
            "  File \"/usr/local/lib/python3.6/dist-packages/skimage/draw/draw.py\", line 460, in polygon\n",
            "    return _polygon(r, c, shape)\n",
            "  File \"skimage/draw/_draw.pyx\", line 217, in skimage.draw._draw._polygon\n",
            "OverflowError: Python int too large to convert to C ssize_t\n",
            "ERROR:root:Error processing image {'id': 'FP_1_CamScanner_mobil.jpg', 'source': 'barrier', 'path': '/content/Mask_RCNN/barrierDataset/train/FP_1_CamScanner_mobil.jpg', 'width': 1776, 'height': 1924, 'polygons': [{'name': 'rect', 'x': 1429, 'y': 35, 'width': 32, 'height': 123}, {'name': 'rect', 'x': 1486, 'y': 1605, 'width': 56, 'height': 58}, {'name': 'rect', 'x': 656, 'y': 450, 'width': 35, 'height': 56}, {'name': 'rect', 'x': 1499, 'y': 197, 'width': 71, 'height': 17}, {'name': 'rect', 'x': 1492, 'y': 225, 'width': 43, 'height': 28}, {'name': 'rect', 'x': 1135, 'y': 388, 'width': 37, 'height': 28}, {'name': 'rect', 'x': 1382, 'y': 827, 'width': 45, 'height': 37}, {'name': 'rect', 'x': 1590, 'y': 1490, 'width': 19, 'height': 28}, {'name': 'rect', 'x': 795, 'y': 1105, 'width': 43, 'height': 41}, {'name': 'rect', 'x': 747, 'y': 1317, 'width': 63, 'height': 37}]}\n",
            "Traceback (most recent call last):\n",
            "  File \"/content/Mask_RCNN/mrcnn/model.py\", line 1709, in data_generator\n",
            "    use_mini_mask=config.USE_MINI_MASK)\n",
            "  File \"/content/Mask_RCNN/mrcnn/model.py\", line 1212, in load_image_gt\n",
            "    mask, class_ids = dataset.load_mask(image_id)\n",
            "  File \"<ipython-input-11-9a180a0f6e01>\", line 96, in load_mask\n",
            "    rr, cc = skimage.draw.polygon(p['y'], p['x'])\n",
            "  File \"/usr/local/lib/python3.6/dist-packages/skimage/draw/draw.py\", line 460, in polygon\n",
            "    return _polygon(r, c, shape)\n",
            "  File \"skimage/draw/_draw.pyx\", line 217, in skimage.draw._draw._polygon\n",
            "OverflowError: Python int too large to convert to C ssize_t\n",
            "ERROR:root:Error processing image {'id': 'FP_Watzke_Pieschen_CamScanner_mobil.jpg', 'source': 'barrier', 'path': '/content/Mask_RCNN/barrierDataset/train/FP_Watzke_Pieschen_CamScanner_mobil.jpg', 'width': 3036, 'height': 2220, 'polygons': [{'name': 'polygon', 'all_points_x': [206, 448, 443, 301, 292, 190], 'all_points_y': [201, 201, 294, 292, 502, 507]}, {'name': 'polygon', 'all_points_x': [517, 545, 552, 505, 483], 'all_points_y': [358, 391, 443, 441, 386]}, {'name': 'polygon', 'all_points_x': [185, 24, 21, 180], 'all_points_y': [585, 585, 898, 901]}, {'name': 'polygon', 'all_points_x': [249, 180, 185, 251], 'all_points_y': [732, 730, 792, 794]}, {'name': 'polygon', 'all_points_x': [526, 403, 403, 540], 'all_points_y': [839, 839, 910, 915]}, {'name': 'polygon', 'all_points_x': [768, 891, 886, 763], 'all_points_y': [924, 924, 851, 846]}, {'name': 'polygon', 'all_points_x': [386, 507, 507, 398], 'all_points_y': [1434, 1429, 1484, 1486]}, {'name': 'polygon', 'all_points_x': [751, 870, 867, 749], 'all_points_y': [1431, 1431, 1500, 1498]}, {'name': 'polygon', 'all_points_x': [1185, 1183, 1294, 1292], 'all_points_y': [1469, 1541, 1541, 1469]}, {'name': 'polygon', 'all_points_x': [1152, 1076, 1083, 1145], 'all_points_y': [1346, 1344, 1450, 1458]}, {'name': 'polygon', 'all_points_x': [766, 841, 917, 839], 'all_points_y': [1811, 1894, 1818, 1751]}, {'name': 'rect', 'x': 1687, 'y': 865, 'width': 57, 'height': 71}, {'name': 'rect', 'x': 1770, 'y': 860, 'width': 64, 'height': 78}, {'name': 'rect', 'x': 1602, 'y': 419, 'width': 81, 'height': 114}, {'name': 'rect', 'x': 2171, 'y': 600, 'width': 69, 'height': 88}, {'name': 'polygon', 'all_points_x': [2344, 2557, 2524, 2311], 'all_points_y': [486, 517, 678, 645]}, {'name': 'polygon', 'all_points_x': [2823, 2801, 2721, 2744], 'all_points_y': [446, 550, 540, 429]}, {'name': 'polygon', 'all_points_x': [1870, 2022, 2003, 1844], 'all_points_y': [154, 182, 256, 232]}, {'name': 'polygon', 'all_points_x': [2368, 2169, 2169, 2368], 'all_points_y': [1232, 1225, 1282, 1292]}, {'name': 'rect', 'x': 1455, 'y': 1185, 'width': 119, 'height': 55}, {'name': 'rect', 'x': 1699, 'y': 1194, 'width': 104, 'height': 50}, {'name': 'rect', 'x': 1996, 'y': 813, 'width': 81, 'height': 71}, {'name': 'rect', 'x': 2323, 'y': 784, 'width': 64, 'height': 85}, {'name': 'rect', 'x': 2406, 'y': 808, 'width': 66, 'height': 73}, {'name': 'rect', 'x': 2486, 'y': 815, 'width': 62, 'height': 73}, {'name': 'rect', 'x': 2571, 'y': 711, 'width': 76, 'height': 78}, {'name': 'rect', 'x': 2358, 'y': 666, 'width': 55, 'height': 73}, {'name': 'rect', 'x': 1474, 'y': 1477, 'width': 71, 'height': 71}, {'name': 'rect', 'x': 1979, 'y': 1166, 'width': 71, 'height': 69}, {'name': 'rect', 'x': 2095, 'y': 853, 'width': 31, 'height': 130}, {'name': 'rect', 'x': 2121, 'y': 787, 'width': 192, 'height': 218}, {'name': 'polygon', 'all_points_x': [1676, 1858, 1858, 1666], 'all_points_y': [308, 341, 450, 415]}, {'name': 'polygon', 'all_points_x': [1958, 2015, 2114, 2116, 2036, 2022, 1962], 'all_points_y': [455, 472, 415, 391, 389, 377, 360]}, {'name': 'polygon', 'all_points_x': [2519, 2593, 2583, 2515], 'all_points_y': [346, 358, 405, 398]}, {'name': 'polygon', 'all_points_x': [2678, 2654, 2714, 2735], 'all_points_y': [415, 521, 538, 429]}, {'name': 'polygon', 'all_points_x': [2614, 2593, 2650, 2673], 'all_points_y': [529, 593, 616, 552]}]}\n",
            "Traceback (most recent call last):\n",
            "  File \"/content/Mask_RCNN/mrcnn/model.py\", line 1709, in data_generator\n",
            "    use_mini_mask=config.USE_MINI_MASK)\n",
            "  File \"/content/Mask_RCNN/mrcnn/model.py\", line 1212, in load_image_gt\n",
            "    mask, class_ids = dataset.load_mask(image_id)\n",
            "  File \"<ipython-input-11-9a180a0f6e01>\", line 96, in load_mask\n",
            "    rr, cc = skimage.draw.polygon(p['y'], p['x'])\n",
            "KeyError: 'y'\n",
            "ERROR:root:Error processing image {'id': 'FP_3_CamScanner_mobil.jpg', 'source': 'barrier', 'path': '/content/Mask_RCNN/barrierDataset/train/FP_3_CamScanner_mobil.jpg', 'width': 2448, 'height': 2564, 'polygons': [{'name': 'polygon', 'all_points_x': [771, 829, 823, 808, 811, 777], 'all_points_y': [202, 208, 245, 245, 320, 323]}, {'name': 'polygon', 'all_points_x': [753, 823, 872, 756], 'all_points_y': [1123, 1120, 1198, 1210]}, {'name': 'polygon', 'all_points_x': [2159, 2266, 2272, 2041, 2038, 2107, 2110, 2180], 'all_points_y': [2243, 2249, 2078, 2067, 2090, 2084, 2116, 2116]}, {'name': 'polygon', 'all_points_x': [1822, 1891, 1833, 1772, 1755, 1822], 'all_points_y': [1357, 1311, 1270, 1308, 1360, 1351]}, {'name': 'rect', 'x': 488, 'y': 1019, 'width': 104, 'height': 64}, {'name': 'rect', 'x': 485, 'y': 1129, 'width': 107, 'height': 61}, {'name': 'rect', 'x': 655, 'y': 1654, 'width': 92, 'height': 69}, {'name': 'rect', 'x': 2041, 'y': 846, 'width': 64, 'height': 52}, {'name': 'rect', 'x': 1345, 'y': 355, 'width': 75, 'height': 52}, {'name': 'rect', 'x': 598, 'y': 346, 'width': 72, 'height': 69}, {'name': 'rect', 'x': 387, 'y': 557, 'width': 55, 'height': 46}, {'name': 'rect', 'x': 950, 'y': 1836, 'width': 66, 'height': 72}]}\n",
            "Traceback (most recent call last):\n",
            "  File \"/content/Mask_RCNN/mrcnn/model.py\", line 1709, in data_generator\n",
            "    use_mini_mask=config.USE_MINI_MASK)\n",
            "  File \"/content/Mask_RCNN/mrcnn/model.py\", line 1212, in load_image_gt\n",
            "    mask, class_ids = dataset.load_mask(image_id)\n",
            "  File \"<ipython-input-11-9a180a0f6e01>\", line 96, in load_mask\n",
            "    rr, cc = skimage.draw.polygon(p['y'], p['x'])\n",
            "KeyError: 'y'\n",
            "ERROR:root:Error processing image {'id': 'FP_FitX_CamScanner_mobil.jpg', 'source': 'barrier', 'path': '/content/Mask_RCNN/barrierDataset/train/FP_FitX_CamScanner_mobil.jpg', 'width': 628, 'height': 624, 'polygons': [{'name': 'rect', 'x': 591, 'y': 124, 'width': 25, 'height': 22}, {'name': 'rect', 'x': 433, 'y': 196, 'width': 21, 'height': 45}, {'name': 'rect', 'x': 405, 'y': 537, 'width': 21, 'height': 25}, {'name': 'rect', 'x': 109, 'y': 553, 'width': 25, 'height': 24}, {'name': 'rect', 'x': 107, 'y': 188, 'width': 30, 'height': 23}, {'name': 'rect', 'x': 271, 'y': 116, 'width': 18, 'height': 13}, {'name': 'rect', 'x': 275, 'y': 129, 'width': 12, 'height': 21}, {'name': 'rect', 'x': 581, 'y': 53, 'width': 19, 'height': 13}, {'name': 'rect', 'x': 556, 'y': 106, 'width': 11, 'height': 14}, {'name': 'rect', 'x': 358, 'y': 255, 'width': 12, 'height': 20}, {'name': 'rect', 'x': 355, 'y': 212, 'width': 14, 'height': 23}, {'name': 'rect', 'x': 382, 'y': 523, 'width': 12, 'height': 15}, {'name': 'rect', 'x': 62, 'y': 565, 'width': 20, 'height': 15}, {'name': 'rect', 'x': 53, 'y': 371, 'width': 24, 'height': 18}, {'name': 'rect', 'x': 138, 'y': 318, 'width': 16, 'height': 13}, {'name': 'rect', 'x': 82, 'y': 339, 'width': 17, 'height': 14}, {'name': 'rect', 'x': 274, 'y': 334, 'width': 17, 'height': 31}, {'name': 'rect', 'x': 288, 'y': 521, 'width': 12, 'height': 10}, {'name': 'rect', 'x': 337, 'y': 523, 'width': 17, 'height': 14}]}\n",
            "Traceback (most recent call last):\n",
            "  File \"/content/Mask_RCNN/mrcnn/model.py\", line 1709, in data_generator\n",
            "    use_mini_mask=config.USE_MINI_MASK)\n",
            "  File \"/content/Mask_RCNN/mrcnn/model.py\", line 1212, in load_image_gt\n",
            "    mask, class_ids = dataset.load_mask(image_id)\n",
            "  File \"<ipython-input-11-9a180a0f6e01>\", line 96, in load_mask\n",
            "    rr, cc = skimage.draw.polygon(p['y'], p['x'])\n",
            "  File \"/usr/local/lib/python3.6/dist-packages/skimage/draw/draw.py\", line 460, in polygon\n",
            "    return _polygon(r, c, shape)\n",
            "  File \"skimage/draw/_draw.pyx\", line 217, in skimage.draw._draw._polygon\n",
            "OverflowError: Python int too large to convert to C ssize_t\n",
            "ERROR:root:Error processing image {'id': 'FP_3_CamScanner_mobil.jpg', 'source': 'barrier', 'path': '/content/Mask_RCNN/barrierDataset/train/FP_3_CamScanner_mobil.jpg', 'width': 2448, 'height': 2564, 'polygons': [{'name': 'polygon', 'all_points_x': [771, 829, 823, 808, 811, 777], 'all_points_y': [202, 208, 245, 245, 320, 323]}, {'name': 'polygon', 'all_points_x': [753, 823, 872, 756], 'all_points_y': [1123, 1120, 1198, 1210]}, {'name': 'polygon', 'all_points_x': [2159, 2266, 2272, 2041, 2038, 2107, 2110, 2180], 'all_points_y': [2243, 2249, 2078, 2067, 2090, 2084, 2116, 2116]}, {'name': 'polygon', 'all_points_x': [1822, 1891, 1833, 1772, 1755, 1822], 'all_points_y': [1357, 1311, 1270, 1308, 1360, 1351]}, {'name': 'rect', 'x': 488, 'y': 1019, 'width': 104, 'height': 64}, {'name': 'rect', 'x': 485, 'y': 1129, 'width': 107, 'height': 61}, {'name': 'rect', 'x': 655, 'y': 1654, 'width': 92, 'height': 69}, {'name': 'rect', 'x': 2041, 'y': 846, 'width': 64, 'height': 52}, {'name': 'rect', 'x': 1345, 'y': 355, 'width': 75, 'height': 52}, {'name': 'rect', 'x': 598, 'y': 346, 'width': 72, 'height': 69}, {'name': 'rect', 'x': 387, 'y': 557, 'width': 55, 'height': 46}, {'name': 'rect', 'x': 950, 'y': 1836, 'width': 66, 'height': 72}]}\n",
            "Traceback (most recent call last):\n",
            "  File \"/content/Mask_RCNN/mrcnn/model.py\", line 1709, in data_generator\n",
            "    use_mini_mask=config.USE_MINI_MASK)\n",
            "  File \"/content/Mask_RCNN/mrcnn/model.py\", line 1212, in load_image_gt\n",
            "    mask, class_ids = dataset.load_mask(image_id)\n",
            "  File \"<ipython-input-11-9a180a0f6e01>\", line 96, in load_mask\n",
            "    rr, cc = skimage.draw.polygon(p['y'], p['x'])\n",
            "KeyError: 'y'\n",
            "ERROR:root:Error processing image {'id': 'FP_12_CamScanner_mobil.jpg', 'source': 'barrier', 'path': '/content/Mask_RCNN/barrierDataset/train/FP_12_CamScanner_mobil.jpg', 'width': 2444, 'height': 3268, 'polygons': [{'name': 'polygon', 'all_points_x': [2142, 2054, 2065, 2102, 2098, 2135], 'all_points_y': [254, 258, 317, 320, 276, 280]}, {'name': 'polygon', 'all_points_x': [1977, 1980, 2024, 2024], 'all_points_y': [59, 188, 191, 48]}, {'name': 'polygon', 'all_points_x': [1071, 1141, 1145, 1093, 1067], 'all_points_y': [2433, 2433, 2481, 2481, 2426]}, {'name': 'polygon', 'all_points_x': [2069, 2135, 2131, 2098, 2102, 2058], 'all_points_y': [2091, 2098, 2076, 2072, 2032, 2032]}, {'name': 'rect', 'x': 1929, 'y': 920, 'width': 40, 'height': 33}, {'name': 'rect', 'x': 1918, 'y': 1031, 'width': 48, 'height': 48}, {'name': 'rect', 'x': 2017, 'y': 902, 'width': 52, 'height': 48}, {'name': 'rect', 'x': 2017, 'y': 732, 'width': 44, 'height': 55}, {'name': 'rect', 'x': 2017, 'y': 486, 'width': 44, 'height': 44}, {'name': 'rect', 'x': 1167, 'y': 357, 'width': 33, 'height': 48}, {'name': 'rect', 'x': 1388, 'y': 353, 'width': 77, 'height': 59}, {'name': 'rect', 'x': 1623, 'y': 368, 'width': 55, 'height': 52}, {'name': 'rect', 'x': 1870, 'y': 368, 'width': 63, 'height': 59}, {'name': 'rect', 'x': 1248, 'y': 2451, 'width': 66, 'height': 33}, {'name': 'rect', 'x': 1248, 'y': 2514, 'width': 70, 'height': 52}]}\n",
            "Traceback (most recent call last):\n",
            "  File \"/content/Mask_RCNN/mrcnn/model.py\", line 1709, in data_generator\n",
            "    use_mini_mask=config.USE_MINI_MASK)\n",
            "  File \"/content/Mask_RCNN/mrcnn/model.py\", line 1212, in load_image_gt\n",
            "    mask, class_ids = dataset.load_mask(image_id)\n",
            "  File \"<ipython-input-11-9a180a0f6e01>\", line 96, in load_mask\n",
            "    rr, cc = skimage.draw.polygon(p['y'], p['x'])\n",
            "KeyError: 'y'ERROR:root:Error processing image {'id': 'FP_5_CamScanner_mobil.jpg', 'source': 'barrier', 'path': '/content/Mask_RCNN/barrierDataset/train/FP_5_CamScanner_mobil.jpg', 'width': 2276, 'height': 2312, 'polygons': [{'name': 'rect', 'x': 651, 'y': 852, 'width': 91, 'height': 60}, {'name': 'rect', 'x': 654, 'y': 948, 'width': 91, 'height': 60}, {'name': 'rect', 'x': 1987, 'y': 576, 'width': 57, 'height': 62}, {'name': 'rect', 'x': 1992, 'y': 724, 'width': 47, 'height': 55}, {'name': 'rect', 'x': 1531, 'y': 1604, 'width': 68, 'height': 55}, {'name': 'rect', 'x': 1500, 'y': 1732, 'width': 65, 'height': 68}, {'name': 'rect', 'x': 492, 'y': 1758, 'width': 81, 'height': 52}, {'name': 'rect', 'x': 339, 'y': 1622, 'width': 60, 'height': 55}, {'name': 'rect', 'x': 945, 'y': 846, 'width': 146, 'height': 78}, {'name': 'rect', 'x': 943, 'y': 945, 'width': 138, 'height': 73}, {'name': 'circle', 'cx': 1820, 'cy': 1156, 'r': 75}, {'name': 'polygon', 'all_points_x': [2120, 2237, 2229, 2167, 2159, 2128], 'all_points_y': [1950, 1953, 1844, 1846, 1815, 1825]}, {'name': 'polygon', 'all_points_x': [896, 997, 1003, 984, 982, 917, 917, 898], 'all_points_y': [141, 143, 289, 281, 245, 242, 294, 286]}]}\n",
            "Traceback (most recent call last):\n",
            "  File \"/content/Mask_RCNN/mrcnn/model.py\", line 1709, in data_generator\n",
            "    use_mini_mask=config.USE_MINI_MASK)\n",
            "  File \"/content/Mask_RCNN/mrcnn/model.py\", line 1212, in load_image_gt\n",
            "    mask, class_ids = dataset.load_mask(image_id)\n",
            "  File \"<ipython-input-11-9a180a0f6e01>\", line 96, in load_mask\n",
            "    rr, cc = skimage.draw.polygon(p['y'], p['x'])\n",
            "  File \"/usr/local/lib/python3.6/dist-packages/skimage/draw/draw.py\", line 460, in polygon\n",
            "    return _polygon(r, c, shape)\n",
            "  File \"skimage/draw/_draw.pyx\", line 217, in skimage.draw._draw._polygon\n",
            "OverflowError: Python int too large to convert to C ssize_t\n",
            "\n",
            "ERROR:root:Error processing image {'id': 'FP_5_CamScanner_mobil.jpg', 'source': 'barrier', 'path': '/content/Mask_RCNN/barrierDataset/train/FP_5_CamScanner_mobil.jpg', 'width': 2276, 'height': 2312, 'polygons': [{'name': 'rect', 'x': 651, 'y': 852, 'width': 91, 'height': 60}, {'name': 'rect', 'x': 654, 'y': 948, 'width': 91, 'height': 60}, {'name': 'rect', 'x': 1987, 'y': 576, 'width': 57, 'height': 62}, {'name': 'rect', 'x': 1992, 'y': 724, 'width': 47, 'height': 55}, {'name': 'rect', 'x': 1531, 'y': 1604, 'width': 68, 'height': 55}, {'name': 'rect', 'x': 1500, 'y': 1732, 'width': 65, 'height': 68}, {'name': 'rect', 'x': 492, 'y': 1758, 'width': 81, 'height': 52}, {'name': 'rect', 'x': 339, 'y': 1622, 'width': 60, 'height': 55}, {'name': 'rect', 'x': 945, 'y': 846, 'width': 146, 'height': 78}, {'name': 'rect', 'x': 943, 'y': 945, 'width': 138, 'height': 73}, {'name': 'circle', 'cx': 1820, 'cy': 1156, 'r': 75}, {'name': 'polygon', 'all_points_x': [2120, 2237, 2229, 2167, 2159, 2128], 'all_points_y': [1950, 1953, 1844, 1846, 1815, 1825]}, {'name': 'polygon', 'all_points_x': [896, 997, 1003, 984, 982, 917, 917, 898], 'all_points_y': [141, 143, 289, 281, 245, 242, 294, 286]}]}\n",
            "Traceback (most recent call last):\n",
            "  File \"/content/Mask_RCNN/mrcnn/model.py\", line 1709, in data_generator\n",
            "    use_mini_mask=config.USE_MINI_MASK)\n",
            "  File \"/content/Mask_RCNN/mrcnn/model.py\", line 1212, in load_image_gt\n",
            "    mask, class_ids = dataset.load_mask(image_id)\n",
            "  File \"<ipython-input-11-9a180a0f6e01>\", line 96, in load_mask\n",
            "    rr, cc = skimage.draw.polygon(p['y'], p['x'])\n",
            "  File \"/usr/local/lib/python3.6/dist-packages/skimage/draw/draw.py\", line 460, in polygon\n",
            "    return _polygon(r, c, shape)\n",
            "  File \"skimage/draw/_draw.pyx\", line 217, in skimage.draw._draw._polygon\n",
            "OverflowError: Python int too large to convert to C ssize_t\n"
          ],
          "name": "stderr"
        },
        {
          "output_type": "error",
          "ename": "StopIteration",
          "evalue": "ignored",
          "traceback": [
            "\u001b[0;31m---------------------------------------------------------------------------\u001b[0m",
            "\u001b[0;31mStopIteration\u001b[0m                             Traceback (most recent call last)",
            "\u001b[0;32m<ipython-input-18-9f8e5038d063>\u001b[0m in \u001b[0;36m<module>\u001b[0;34m()\u001b[0m\n\u001b[1;32m      6\u001b[0m             \u001b[0mlearning_rate\u001b[0m\u001b[0;34m=\u001b[0m\u001b[0mconfig\u001b[0m\u001b[0;34m.\u001b[0m\u001b[0mLEARNING_RATE\u001b[0m \u001b[0;34m/\u001b[0m \u001b[0;36m10\u001b[0m\u001b[0;34m,\u001b[0m\u001b[0;34m\u001b[0m\u001b[0;34m\u001b[0m\u001b[0m\n\u001b[1;32m      7\u001b[0m             \u001b[0mepochs\u001b[0m\u001b[0;34m=\u001b[0m\u001b[0;36m2\u001b[0m\u001b[0;34m,\u001b[0m\u001b[0;34m\u001b[0m\u001b[0;34m\u001b[0m\u001b[0m\n\u001b[0;32m----> 8\u001b[0;31m             layers=\"all\")\n\u001b[0m",
            "\u001b[0;32m/content/Mask_RCNN/mrcnn/model.py\u001b[0m in \u001b[0;36mtrain\u001b[0;34m(self, train_dataset, val_dataset, learning_rate, epochs, layers, augmentation, custom_callbacks, no_augmentation_sources)\u001b[0m\n\u001b[1;32m   2372\u001b[0m             \u001b[0mmax_queue_size\u001b[0m\u001b[0;34m=\u001b[0m\u001b[0;36m100\u001b[0m\u001b[0;34m,\u001b[0m\u001b[0;34m\u001b[0m\u001b[0;34m\u001b[0m\u001b[0m\n\u001b[1;32m   2373\u001b[0m             \u001b[0mworkers\u001b[0m\u001b[0;34m=\u001b[0m\u001b[0mworkers\u001b[0m\u001b[0;34m,\u001b[0m\u001b[0;34m\u001b[0m\u001b[0;34m\u001b[0m\u001b[0m\n\u001b[0;32m-> 2374\u001b[0;31m             \u001b[0muse_multiprocessing\u001b[0m\u001b[0;34m=\u001b[0m\u001b[0;32mTrue\u001b[0m\u001b[0;34m,\u001b[0m\u001b[0;34m\u001b[0m\u001b[0;34m\u001b[0m\u001b[0m\n\u001b[0m\u001b[1;32m   2375\u001b[0m         )\n\u001b[1;32m   2376\u001b[0m         \u001b[0mself\u001b[0m\u001b[0;34m.\u001b[0m\u001b[0mepoch\u001b[0m \u001b[0;34m=\u001b[0m \u001b[0mmax\u001b[0m\u001b[0;34m(\u001b[0m\u001b[0mself\u001b[0m\u001b[0;34m.\u001b[0m\u001b[0mepoch\u001b[0m\u001b[0;34m,\u001b[0m \u001b[0mepochs\u001b[0m\u001b[0;34m)\u001b[0m\u001b[0;34m\u001b[0m\u001b[0;34m\u001b[0m\u001b[0m\n",
            "\u001b[0;32m/usr/local/lib/python3.6/dist-packages/keras/legacy/interfaces.py\u001b[0m in \u001b[0;36mwrapper\u001b[0;34m(*args, **kwargs)\u001b[0m\n\u001b[1;32m     85\u001b[0m                 warnings.warn('Update your `' + object_name +\n\u001b[1;32m     86\u001b[0m                               '` call to the Keras 2 API: ' + signature, stacklevel=2)\n\u001b[0;32m---> 87\u001b[0;31m             \u001b[0;32mreturn\u001b[0m \u001b[0mfunc\u001b[0m\u001b[0;34m(\u001b[0m\u001b[0;34m*\u001b[0m\u001b[0margs\u001b[0m\u001b[0;34m,\u001b[0m \u001b[0;34m**\u001b[0m\u001b[0mkwargs\u001b[0m\u001b[0;34m)\u001b[0m\u001b[0;34m\u001b[0m\u001b[0;34m\u001b[0m\u001b[0m\n\u001b[0m\u001b[1;32m     88\u001b[0m         \u001b[0mwrapper\u001b[0m\u001b[0;34m.\u001b[0m\u001b[0m_original_function\u001b[0m \u001b[0;34m=\u001b[0m \u001b[0mfunc\u001b[0m\u001b[0;34m\u001b[0m\u001b[0;34m\u001b[0m\u001b[0m\n\u001b[1;32m     89\u001b[0m         \u001b[0;32mreturn\u001b[0m \u001b[0mwrapper\u001b[0m\u001b[0;34m\u001b[0m\u001b[0;34m\u001b[0m\u001b[0m\n",
            "\u001b[0;32m/usr/local/lib/python3.6/dist-packages/keras/engine/training.py\u001b[0m in \u001b[0;36mfit_generator\u001b[0;34m(self, generator, steps_per_epoch, epochs, verbose, callbacks, validation_data, validation_steps, class_weight, max_queue_size, workers, use_multiprocessing, shuffle, initial_epoch)\u001b[0m\n\u001b[1;32m   2063\u001b[0m                 \u001b[0mbatch_index\u001b[0m \u001b[0;34m=\u001b[0m \u001b[0;36m0\u001b[0m\u001b[0;34m\u001b[0m\u001b[0;34m\u001b[0m\u001b[0m\n\u001b[1;32m   2064\u001b[0m                 \u001b[0;32mwhile\u001b[0m \u001b[0msteps_done\u001b[0m \u001b[0;34m<\u001b[0m \u001b[0msteps_per_epoch\u001b[0m\u001b[0;34m:\u001b[0m\u001b[0;34m\u001b[0m\u001b[0;34m\u001b[0m\u001b[0m\n\u001b[0;32m-> 2065\u001b[0;31m                     \u001b[0mgenerator_output\u001b[0m \u001b[0;34m=\u001b[0m \u001b[0mnext\u001b[0m\u001b[0;34m(\u001b[0m\u001b[0moutput_generator\u001b[0m\u001b[0;34m)\u001b[0m\u001b[0;34m\u001b[0m\u001b[0;34m\u001b[0m\u001b[0m\n\u001b[0m\u001b[1;32m   2066\u001b[0m \u001b[0;34m\u001b[0m\u001b[0m\n\u001b[1;32m   2067\u001b[0m                     \u001b[0;32mif\u001b[0m \u001b[0;32mnot\u001b[0m \u001b[0mhasattr\u001b[0m\u001b[0;34m(\u001b[0m\u001b[0mgenerator_output\u001b[0m\u001b[0;34m,\u001b[0m \u001b[0;34m'__len__'\u001b[0m\u001b[0;34m)\u001b[0m\u001b[0;34m:\u001b[0m\u001b[0;34m\u001b[0m\u001b[0;34m\u001b[0m\u001b[0m\n",
            "\u001b[0;31mStopIteration\u001b[0m: "
          ]
        }
      ]
    },
    {
      "cell_type": "code",
      "metadata": {
        "id": "OoEz2ghSurQb",
        "colab_type": "code",
        "colab": {}
      },
      "source": [
        "# Save weights\n",
        "# Typically not needed because callbacks save after every epoch\n",
        "# Uncomment to save manually\n",
        "# model_path = os.path.join(MODEL_DIR, \"mask_rcnn_shapes.h5\")\n",
        "# model.keras_model.save_weights(model_path)"
      ],
      "execution_count": 0,
      "outputs": []
    },
    {
      "cell_type": "markdown",
      "metadata": {
        "id": "y7wNxS2tuuSu",
        "colab_type": "text"
      },
      "source": [
        "DETECTION"
      ]
    },
    {
      "cell_type": "code",
      "metadata": {
        "id": "NNZ0iAA9uxg8",
        "colab_type": "code",
        "colab": {}
      },
      "source": [
        "class InferenceConfig(ShapesConfig):\n",
        "    GPU_COUNT = 1\n",
        "    IMAGES_PER_GPU = 1\n",
        "\n",
        "inference_config = InferenceConfig()\n",
        "\n",
        "# Recreate the model in inference mode\n",
        "model = modellib.MaskRCNN(mode=\"inference\", \n",
        "                          config=inference_config,\n",
        "                          model_dir=MODEL_DIR)\n",
        "\n",
        "# Get path to saved weights\n",
        "# Either set a specific path or find last trained weights\n",
        "# model_path = os.path.join(ROOT_DIR, \".h5 file name here\")\n",
        "model_path = model.find_last()\n",
        "\n",
        "# Load trained weights\n",
        "print(\"Loading weights from \", model_path)\n",
        "model.load_weights(model_path, by_name=True)"
      ],
      "execution_count": 0,
      "outputs": []
    },
    {
      "cell_type": "code",
      "metadata": {
        "id": "7Dtvp0jFuz47",
        "colab_type": "code",
        "colab": {}
      },
      "source": [
        "# Test on a random image\n",
        "image_id = random.choice(dataset_val.image_ids)\n",
        "original_image, image_meta, gt_class_id, gt_bbox, gt_mask =\\\n",
        "    modellib.load_image_gt(dataset_val, inference_config, \n",
        "                           image_id, use_mini_mask=False)\n",
        "\n",
        "log(\"original_image\", original_image)\n",
        "log(\"image_meta\", image_meta)\n",
        "log(\"gt_class_id\", gt_class_id)\n",
        "log(\"gt_bbox\", gt_bbox)\n",
        "log(\"gt_mask\", gt_mask)\n",
        "\n",
        "visualize.display_instances(original_image, gt_bbox, gt_mask, gt_class_id, \n",
        "                            dataset_train.class_names, figsize=(8, 8))"
      ],
      "execution_count": 0,
      "outputs": []
    },
    {
      "cell_type": "code",
      "metadata": {
        "id": "HwDQ1Z-eu6Km",
        "colab_type": "code",
        "colab": {}
      },
      "source": [
        "results = model.detect([original_image], verbose=1)\n",
        "\n",
        "r = results[0]\n",
        "visualize.display_instances(original_image, r['rois'], r['masks'], r['class_ids'], \n",
        "                            dataset_val.class_names, r['scores'], ax=get_ax())"
      ],
      "execution_count": 0,
      "outputs": []
    },
    {
      "cell_type": "markdown",
      "metadata": {
        "id": "z-hBvq1ou7a9",
        "colab_type": "text"
      },
      "source": [
        "EVALUATION"
      ]
    },
    {
      "cell_type": "code",
      "metadata": {
        "id": "3011PS9Xu9Xc",
        "colab_type": "code",
        "colab": {}
      },
      "source": [
        "# Compute VOC-Style mAP @ IoU=0.5\n",
        "# Running on 10 images. Increase for better accuracy.\n",
        "image_ids = np.random.choice(dataset_val.image_ids, 10)\n",
        "APs = []\n",
        "for image_id in image_ids:\n",
        "    # Load image and ground truth data\n",
        "    image, image_meta, gt_class_id, gt_bbox, gt_mask =\\\n",
        "        modellib.load_image_gt(dataset_val, inference_config,\n",
        "                               image_id, use_mini_mask=False)\n",
        "    molded_images = np.expand_dims(modellib.mold_image(image, inference_config), 0)\n",
        "    # Run object detection\n",
        "    results = model.detect([image], verbose=0)\n",
        "    r = results[0]\n",
        "    # Compute AP\n",
        "    AP, precisions, recalls, overlaps =\\\n",
        "        utils.compute_ap(gt_bbox, gt_class_id, gt_mask,\n",
        "                         r[\"rois\"], r[\"class_ids\"], r[\"scores\"], r['masks'])\n",
        "    APs.append(AP)\n",
        "    \n",
        "print(\"mAP: \", np.mean(APs))"
      ],
      "execution_count": 0,
      "outputs": []
    }
  ]
}