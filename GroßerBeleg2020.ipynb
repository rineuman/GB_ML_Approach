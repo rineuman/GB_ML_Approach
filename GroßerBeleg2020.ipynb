{
  "nbformat": 4,
  "nbformat_minor": 0,
  "metadata": {
    "colab": {
      "name": "GroßerBeleg2020.ipynb",
      "provenance": [],
      "authorship_tag": "ABX9TyPBnaLV2ouHychBmK8bp9Fb",
      "include_colab_link": true
    },
    "kernelspec": {
      "name": "python3",
      "display_name": "Python 3"
    }
  },
  "cells": [
    {
      "cell_type": "markdown",
      "metadata": {
        "id": "view-in-github",
        "colab_type": "text"
      },
      "source": [
        "<a href=\"https://colab.research.google.com/github/rineuman/GB_ML_Approach/blob/master/Gro%C3%9FerBeleg2020.ipynb\" target=\"_parent\"><img src=\"https://colab.research.google.com/assets/colab-badge.svg\" alt=\"Open In Colab\"/></a>"
      ]
    },
    {
      "cell_type": "markdown",
      "metadata": {
        "id": "VpX0S7Mip7kn",
        "colab_type": "text"
      },
      "source": [
        "INSTALL LIBRARIES"
      ]
    },
    {
      "cell_type": "code",
      "metadata": {
        "id": "FjczNeUln0YW",
        "colab_type": "code",
        "colab": {
          "base_uri": "https://localhost:8080/",
          "height": 557
        },
        "outputId": "3c5f2ed1-e344-4dda-fab0-fda6e72671db"
      },
      "source": [
        "!pip install imgaug\n",
        "!pip install Cython\n",
        "!pip install pycocotools\n",
        "!pip install kaggle"
      ],
      "execution_count": 1,
      "outputs": [
        {
          "output_type": "stream",
          "text": [
            "Requirement already satisfied: imgaug in /usr/local/lib/python3.6/dist-packages (0.2.9)\n",
            "Requirement already satisfied: Pillow in /usr/local/lib/python3.6/dist-packages (from imgaug) (7.0.0)\n",
            "Requirement already satisfied: matplotlib in /usr/local/lib/python3.6/dist-packages (from imgaug) (3.2.1)\n",
            "Requirement already satisfied: scikit-image>=0.11.0 in /usr/local/lib/python3.6/dist-packages (from imgaug) (0.16.2)\n",
            "Requirement already satisfied: opencv-python in /usr/local/lib/python3.6/dist-packages (from imgaug) (4.1.2.30)\n",
            "Requirement already satisfied: Shapely in /usr/local/lib/python3.6/dist-packages (from imgaug) (1.7.0)\n",
            "Requirement already satisfied: numpy>=1.15.0 in /usr/local/lib/python3.6/dist-packages (from imgaug) (1.18.4)\n",
            "Requirement already satisfied: scipy in /usr/local/lib/python3.6/dist-packages (from imgaug) (1.4.1)\n",
            "Requirement already satisfied: imageio in /usr/local/lib/python3.6/dist-packages (from imgaug) (2.4.1)\n",
            "Requirement already satisfied: six in /usr/local/lib/python3.6/dist-packages (from imgaug) (1.12.0)\n",
            "Requirement already satisfied: pyparsing!=2.0.4,!=2.1.2,!=2.1.6,>=2.0.1 in /usr/local/lib/python3.6/dist-packages (from matplotlib->imgaug) (2.4.7)\n",
            "Requirement already satisfied: python-dateutil>=2.1 in /usr/local/lib/python3.6/dist-packages (from matplotlib->imgaug) (2.8.1)\n",
            "Requirement already satisfied: cycler>=0.10 in /usr/local/lib/python3.6/dist-packages (from matplotlib->imgaug) (0.10.0)\n",
            "Requirement already satisfied: kiwisolver>=1.0.1 in /usr/local/lib/python3.6/dist-packages (from matplotlib->imgaug) (1.2.0)\n",
            "Requirement already satisfied: PyWavelets>=0.4.0 in /usr/local/lib/python3.6/dist-packages (from scikit-image>=0.11.0->imgaug) (1.1.1)\n",
            "Requirement already satisfied: networkx>=2.0 in /usr/local/lib/python3.6/dist-packages (from scikit-image>=0.11.0->imgaug) (2.4)\n",
            "Requirement already satisfied: decorator>=4.3.0 in /usr/local/lib/python3.6/dist-packages (from networkx>=2.0->scikit-image>=0.11.0->imgaug) (4.4.2)\n",
            "Requirement already satisfied: Cython in /usr/local/lib/python3.6/dist-packages (0.29.19)\n",
            "Requirement already satisfied: pycocotools in /usr/local/lib/python3.6/dist-packages (2.0.0)\n",
            "Requirement already satisfied: kaggle in /usr/local/lib/python3.6/dist-packages (1.5.6)\n",
            "Requirement already satisfied: six>=1.10 in /usr/local/lib/python3.6/dist-packages (from kaggle) (1.12.0)\n",
            "Requirement already satisfied: python-dateutil in /usr/local/lib/python3.6/dist-packages (from kaggle) (2.8.1)\n",
            "Requirement already satisfied: certifi in /usr/local/lib/python3.6/dist-packages (from kaggle) (2020.4.5.1)\n",
            "Requirement already satisfied: tqdm in /usr/local/lib/python3.6/dist-packages (from kaggle) (4.41.1)\n",
            "Requirement already satisfied: python-slugify in /usr/local/lib/python3.6/dist-packages (from kaggle) (4.0.0)\n",
            "Requirement already satisfied: urllib3<1.25,>=1.21.1 in /usr/local/lib/python3.6/dist-packages (from kaggle) (1.24.3)\n",
            "Requirement already satisfied: requests in /usr/local/lib/python3.6/dist-packages (from kaggle) (2.23.0)\n",
            "Requirement already satisfied: text-unidecode>=1.3 in /usr/local/lib/python3.6/dist-packages (from python-slugify->kaggle) (1.3)\n",
            "Requirement already satisfied: idna<3,>=2.5 in /usr/local/lib/python3.6/dist-packages (from requests->kaggle) (2.9)\n",
            "Requirement already satisfied: chardet<4,>=3.0.2 in /usr/local/lib/python3.6/dist-packages (from requests->kaggle) (3.0.4)\n"
          ],
          "name": "stdout"
        }
      ]
    },
    {
      "cell_type": "markdown",
      "metadata": {
        "id": "DauP4U4kqK5a",
        "colab_type": "text"
      },
      "source": [
        "CLONE MATTERPORT REPOSITORY"
      ]
    },
    {
      "cell_type": "code",
      "metadata": {
        "id": "Bs8vM7mZqGQG",
        "colab_type": "code",
        "colab": {
          "base_uri": "https://localhost:8080/",
          "height": 35
        },
        "outputId": "5703aebf-7002-4ecc-d352-78a7c1812390"
      },
      "source": [
        "!git clone https://github.com/matterport/Mask_RCNN"
      ],
      "execution_count": 2,
      "outputs": [
        {
          "output_type": "stream",
          "text": [
            "fatal: destination path 'Mask_RCNN' already exists and is not an empty directory.\n"
          ],
          "name": "stdout"
        }
      ]
    },
    {
      "cell_type": "code",
      "metadata": {
        "id": "-KlLr8Wdb_13",
        "colab_type": "code",
        "colab": {
          "base_uri": "https://localhost:8080/",
          "height": 35
        },
        "outputId": "7c3cb52c-41cc-478e-df30-cfced25de317"
      },
      "source": [
        "! pwd"
      ],
      "execution_count": 3,
      "outputs": [
        {
          "output_type": "stream",
          "text": [
            "/content\n"
          ],
          "name": "stdout"
        }
      ]
    },
    {
      "cell_type": "code",
      "metadata": {
        "id": "jbFSv_YqqNg4",
        "colab_type": "code",
        "colab": {}
      },
      "source": [
        "import os \n",
        "os.chdir('Mask_RCNN')"
      ],
      "execution_count": 0,
      "outputs": []
    },
    {
      "cell_type": "code",
      "metadata": {
        "id": "DBn7gVtjbQhd",
        "colab_type": "code",
        "colab": {
          "base_uri": "https://localhost:8080/",
          "height": 35
        },
        "outputId": "afdb19e9-e963-4dfa-d1e8-879583f85e72"
      },
      "source": [
        "!git clone https://github.com/rineuman/barrierDataset.git"
      ],
      "execution_count": 5,
      "outputs": [
        {
          "output_type": "stream",
          "text": [
            "fatal: destination path 'barrierDataset' already exists and is not an empty directory.\n"
          ],
          "name": "stdout"
        }
      ]
    },
    {
      "cell_type": "code",
      "metadata": {
        "id": "PsgW9H4SbHsT",
        "colab_type": "code",
        "colab": {}
      },
      "source": [
        "os.chdir('samples')"
      ],
      "execution_count": 0,
      "outputs": []
    },
    {
      "cell_type": "code",
      "metadata": {
        "id": "EuaQ0Yr2q3NI",
        "colab_type": "code",
        "colab": {
          "base_uri": "https://localhost:8080/",
          "height": 35
        },
        "outputId": "17a17222-cfed-41bf-9508-3ded882ac9c7"
      },
      "source": [
        "import sys\n",
        "import random\n",
        "import math\n",
        "import re\n",
        "import time\n",
        "import json\n",
        "import skimage.draw\n",
        "import numpy as np\n",
        "import cv2\n",
        "import matplotlib\n",
        "import matplotlib.pyplot as plt\n",
        "\n",
        "# Root directory of the project\n",
        "ROOT_DIR = os.path.abspath(\"../\")\n",
        "\n",
        "# Import Mask RCNN\n",
        "sys.path.append(ROOT_DIR)  # To find local version of the library\n",
        "from mrcnn.config import Config\n",
        "from mrcnn import utils\n",
        "import mrcnn.model as modellib\n",
        "from mrcnn import visualize\n",
        "from mrcnn.model import log\n",
        "\n",
        "%matplotlib inline \n",
        "\n",
        "# Directory to save logs and trained model\n",
        "MODEL_DIR = os.path.join(ROOT_DIR, \"logs\")\n",
        "\n",
        "# Local path to trained weights file\n",
        "COCO_MODEL_PATH = os.path.join(ROOT_DIR, \"mask_rcnn_coco.h5\")\n",
        "# Download COCO trained weights from Releases if needed\n",
        "if not os.path.exists(COCO_MODEL_PATH):\n",
        "    utils.download_trained_weights(COCO_MODEL_PATH)\n",
        "\n",
        "# Directory of images to run detection on\n",
        "IMAGE_DIR = os.path.join(ROOT_DIR, \"barrierDataset/val\")"
      ],
      "execution_count": 7,
      "outputs": [
        {
          "output_type": "stream",
          "text": [
            "Using TensorFlow backend.\n"
          ],
          "name": "stderr"
        }
      ]
    },
    {
      "cell_type": "markdown",
      "metadata": {
        "id": "6WEwSblUtME_",
        "colab_type": "text"
      },
      "source": [
        "CONFIGURATION"
      ]
    },
    {
      "cell_type": "code",
      "metadata": {
        "id": "UPzlNYsRr3ZS",
        "colab_type": "code",
        "colab": {
          "base_uri": "https://localhost:8080/",
          "height": 953
        },
        "outputId": "2955c6b6-e733-405a-a049-5e29fa8fbf93"
      },
      "source": [
        "class BarrierConfig(Config):\n",
        "    \"\"\"Configuration for training on the toy shapes dataset.\n",
        "    Derives from the base Config class and overrides values specific\n",
        "    to the toy shapes dataset.\n",
        "    \"\"\"\n",
        "    # Give the configuration a recognizable name\n",
        "    NAME = \"barriers\"\n",
        "\n",
        "    # Train on 1 GPU and 8 images per GPU. We can put multiple images on each\n",
        "    # GPU because the images are small. Batch size is 8 (GPUs * images/GPU).\n",
        "    GPU_COUNT = 1\n",
        "    IMAGES_PER_GPU = 1\n",
        "\n",
        "    # Number of classes (including background)\n",
        "    NUM_CLASSES = 1 + 3  # background + 3 barriers\n",
        "\n",
        "    # Use small images for faster training. Set the limits of the small side\n",
        "    # the large side, and that determines the image shape.\n",
        "    # IMAGE_MIN_DIM = 128\n",
        "    # IMAGE_MAX_DIM = 128\n",
        "\n",
        "    # Use smaller anchors because our image and objects are small\n",
        "    # RPN_ANCHOR_SCALES = (8, 16, 32, 64, 128)  # anchor side in pixels\n",
        "\n",
        "    # Reduce training ROIs per image because the images are small and have\n",
        "    # few objects. Aim to allow ROI sampling to pick 33% positive ROIs.\n",
        "    # TRAIN_ROIS_PER_IMAGE = 32\n",
        "\n",
        "    # Use a small epoch since the data is simple\n",
        "    STEPS_PER_EPOCH = 100\n",
        "\n",
        "    # use small validation steps since the epoch is small\n",
        "    # VALIDATION_STEPS = 5\n",
        "    \n",
        "config = BarrierConfig()\n",
        "config.display()"
      ],
      "execution_count": 8,
      "outputs": [
        {
          "output_type": "stream",
          "text": [
            "\n",
            "Configurations:\n",
            "BACKBONE                       resnet101\n",
            "BACKBONE_STRIDES               [4, 8, 16, 32, 64]\n",
            "BATCH_SIZE                     1\n",
            "BBOX_STD_DEV                   [0.1 0.1 0.2 0.2]\n",
            "COMPUTE_BACKBONE_SHAPE         None\n",
            "DETECTION_MAX_INSTANCES        100\n",
            "DETECTION_MIN_CONFIDENCE       0.7\n",
            "DETECTION_NMS_THRESHOLD        0.3\n",
            "FPN_CLASSIF_FC_LAYERS_SIZE     1024\n",
            "GPU_COUNT                      1\n",
            "GRADIENT_CLIP_NORM             5.0\n",
            "IMAGES_PER_GPU                 1\n",
            "IMAGE_CHANNEL_COUNT            3\n",
            "IMAGE_MAX_DIM                  1024\n",
            "IMAGE_META_SIZE                16\n",
            "IMAGE_MIN_DIM                  800\n",
            "IMAGE_MIN_SCALE                0\n",
            "IMAGE_RESIZE_MODE              square\n",
            "IMAGE_SHAPE                    [1024 1024    3]\n",
            "LEARNING_MOMENTUM              0.9\n",
            "LEARNING_RATE                  0.001\n",
            "LOSS_WEIGHTS                   {'rpn_class_loss': 1.0, 'rpn_bbox_loss': 1.0, 'mrcnn_class_loss': 1.0, 'mrcnn_bbox_loss': 1.0, 'mrcnn_mask_loss': 1.0}\n",
            "MASK_POOL_SIZE                 14\n",
            "MASK_SHAPE                     [28, 28]\n",
            "MAX_GT_INSTANCES               100\n",
            "MEAN_PIXEL                     [123.7 116.8 103.9]\n",
            "MINI_MASK_SHAPE                (56, 56)\n",
            "NAME                           barriers\n",
            "NUM_CLASSES                    4\n",
            "POOL_SIZE                      7\n",
            "POST_NMS_ROIS_INFERENCE        1000\n",
            "POST_NMS_ROIS_TRAINING         2000\n",
            "PRE_NMS_LIMIT                  6000\n",
            "ROI_POSITIVE_RATIO             0.33\n",
            "RPN_ANCHOR_RATIOS              [0.5, 1, 2]\n",
            "RPN_ANCHOR_SCALES              (32, 64, 128, 256, 512)\n",
            "RPN_ANCHOR_STRIDE              1\n",
            "RPN_BBOX_STD_DEV               [0.1 0.1 0.2 0.2]\n",
            "RPN_NMS_THRESHOLD              0.7\n",
            "RPN_TRAIN_ANCHORS_PER_IMAGE    256\n",
            "STEPS_PER_EPOCH                100\n",
            "TOP_DOWN_PYRAMID_SIZE          256\n",
            "TRAIN_BN                       False\n",
            "TRAIN_ROIS_PER_IMAGE           200\n",
            "USE_MINI_MASK                  True\n",
            "USE_RPN_ROIS                   True\n",
            "VALIDATION_STEPS               50\n",
            "WEIGHT_DECAY                   0.0001\n",
            "\n",
            "\n"
          ],
          "name": "stdout"
        }
      ]
    },
    {
      "cell_type": "markdown",
      "metadata": {
        "id": "ewQJZpEYuJl3",
        "colab_type": "text"
      },
      "source": [
        "DATASET"
      ]
    },
    {
      "cell_type": "code",
      "metadata": {
        "id": "vAqjdUq6uLRT",
        "colab_type": "code",
        "colab": {}
      },
      "source": [
        "class BarrierDataset(utils.Dataset):\n",
        "    \"\"\"Generates the shapes synthetic dataset. The dataset consists of simple\n",
        "    shapes (triangles, squares, circles) placed randomly on a blank surface.\n",
        "    The images are generated on the fly. No file access required.\n",
        "    \"\"\"\n",
        "\n",
        "    def load_barrier(self, dataset_dir, subset):\n",
        "        \"\"\"Generate the requested number of synthetic images.\n",
        "        count: number of images to generate.\n",
        "        height, width: the size of the generated images.\n",
        "        \"\"\"\n",
        "        # Add classes\n",
        "        self.add_class(\"barrier\", 1, \"door\")\n",
        "        self.add_class(\"barrier\", 2, \"stair\")\n",
        "        self.add_class(\"barrier\", 3, \"lift\")\n",
        "\n",
        "         # Train or validation dataset?\n",
        "        assert subset in [\"train\", \"val\"]\n",
        "        dataset_dir = os.path.join(dataset_dir, subset)\n",
        "\n",
        "        # Load annotations\n",
        "        # VGG Image Annotator saves each image in the form:\n",
        "        # { 'filename': '28503151_5b5b7ec140_b.jpg',\n",
        "        #   'regions': {\n",
        "        #       '0': {\n",
        "        #           'region_attributes': {},\n",
        "        #           'shape_attributes': {\n",
        "        #               'all_points_x': [...],\n",
        "        #               'all_points_y': [...],\n",
        "        #               'name': 'polygon'}},\n",
        "        #       ... more regions ...\n",
        "        #   },\n",
        "        #   'size': 100202\n",
        "        # }\n",
        "        # We mostly care about the x and y coordinates of each region\n",
        "        annotations1 = json.load(open(os.path.join(dataset_dir, \"via_export_json.json\")))\n",
        "        # print(annotations1)\n",
        "        annotations = list(annotations1.values())  # don't need the dict keys\n",
        "\n",
        "        # The VIA tool saves images in the JSON even if they don't have any\n",
        "        # annotations. Skip unannotated images.\n",
        "        annotations = [a for a in annotations if a['regions']]\n",
        "\n",
        "        # Add images\n",
        "        for a in annotations:\n",
        "            print(a)\n",
        "            # Get the x, y coordinaets of points of the polygons that make up\n",
        "            # the outline of each object instance. There are stores in the\n",
        "            # shape_attributes (see json format above)\n",
        "            polygons = [r['shape_attributes'] for r in a['regions']]\n",
        "\n",
        "            # load_mask() needs the image size to convert polygons to masks.\n",
        "            # Unfortunately, VIA doesn't include it in JSON, so we must read\n",
        "            # the image. This is only managable since the dataset is tiny.\n",
        "            image_path = os.path.join(dataset_dir, a['filename'])\n",
        "            image = skimage.io.imread(image_path)\n",
        "            height, width = image.shape[:2]\n",
        "\n",
        "            self.add_image(\n",
        "                \"barrier\",  ## for a single class just add the name here\n",
        "                image_id=a['filename'],  # use file name as a unique image id\n",
        "                path=image_path,\n",
        "                width=width, height=height,\n",
        "                polygons=polygons)\n",
        "\n",
        "    def image_reference(self, image_id):\n",
        "        \"\"\"Return the shapes data of the image.\"\"\"\n",
        "        info = self.image_info[image_id]\n",
        "        if info[\"source\"] == \"barrier\":\n",
        "            return info[\"path\"]\n",
        "        else:\n",
        "            super(self.__class__).image_reference(self, image_id)\n",
        "\n",
        "    def load_mask(self, image_id):\n",
        "        \"\"\"Generate instance masks for an image.\n",
        "       Returns:\n",
        "        masks: A bool array of shape [height, width, instance count] with\n",
        "            one mask per instance.\n",
        "        class_ids: a 1D array of class IDs of the instance masks.\n",
        "        \"\"\"\n",
        "        # If not a bottle dataset image, delegate to parent class.\n",
        "        image_info = self.image_info[image_id]\n",
        "        if image_info[\"source\"] != \"barrier\":\n",
        "            return super(self.__class__, self).load_mask(image_id)\n",
        "\n",
        "        # Convert polygons to a bitmap mask of shape\n",
        "        # [height, width, instance_count]\n",
        "        info = self.image_info[image_id]\n",
        "        mask = np.zeros([info[\"height\"], info[\"width\"], len(info[\"polygons\"])],\n",
        "                        dtype=np.uint8)\n",
        "        for i, p in enumerate(info[\"polygons\"]):\n",
        "            # Get indexes of pixels inside the polygon and set them to 1\n",
        "            rr, cc = skimage.draw.polygon(p['all_points_y'], p['all_points_x'])\n",
        "            mask[rr, cc, i] = 1\n",
        "\n",
        "        # Return mask, and array of class IDs of each instance. Since we have\n",
        "        # one class ID only, we return an array of 1s\n",
        "        return mask.astype(np.bool), np.ones([mask.shape[-1]], dtype=np.int32)"
      ],
      "execution_count": 0,
      "outputs": []
    },
    {
      "cell_type": "markdown",
      "metadata": {
        "id": "RKFQ59i1NwfH",
        "colab_type": "text"
      },
      "source": [
        "Extra functions\n"
      ]
    },
    {
      "cell_type": "code",
      "metadata": {
        "id": "1p-B82mVNqF2",
        "colab_type": "code",
        "colab": {}
      },
      "source": [
        "def color_splash(image, mask):\n",
        "    \"\"\"Apply color splash effect.\n",
        "    image: RGB image [height, width, 3]\n",
        "    mask: instance segmentation mask [height, width, instance count]\n",
        "    Returns result image.\n",
        "    \"\"\"\n",
        "    # Make a grayscale copy of the image. The grayscale copy still\n",
        "    # has 3 RGB channels, though.\n",
        "    gray = skimage.color.gray2rgb(skimage.color.rgb2gray(image)) * 255\n",
        "    # We're treating all instances as one, so collapse the mask into one layer\n",
        "    mask = (np.sum(mask, -1, keepdims=True) >= 1)\n",
        "    # Copy color pixels from the original color image where mask is set\n",
        "    if mask.shape[0] > 0:\n",
        "        splash = np.where(mask, image, gray).astype(np.uint8)\n",
        "    else:\n",
        "        splash = gray\n",
        "    return splash\n",
        "\n",
        "\n",
        "def detect_and_color_splash(model, image_path=None, video_path=None):\n",
        "    assert image_path or video_path\n",
        "\n",
        "    # Image or video?\n",
        "    if image_path:\n",
        "        # Run model detection and generate the color splash effect\n",
        "        print(\"Running on {}\".format(args.image))\n",
        "        # Read image\n",
        "        image = skimage.io.imread(args.image)\n",
        "        # Detect objects\n",
        "        r = model.detect([image], verbose=1)[0]\n",
        "        # Color splash\n",
        "        splash = color_splash(image, r['masks'])\n",
        "        # Save output\n",
        "        file_name = \"splash_{:%Y%m%dT%H%M%S}.png\".format(datetime.datetime.now())\n",
        "        skimage.io.imsave(file_name, splash)\n",
        "    elif video_path:\n",
        "        import cv2\n",
        "        # Video capture\n",
        "        vcapture = cv2.VideoCapture(video_path)\n",
        "        width = int(vcapture.get(cv2.CAP_PROP_FRAME_WIDTH))\n",
        "        height = int(vcapture.get(cv2.CAP_PROP_FRAME_HEIGHT))\n",
        "        fps = vcapture.get(cv2.CAP_PROP_FPS)\n",
        "\n",
        "        # Define codec and create video writer\n",
        "        file_name = \"splash_{:%Y%m%dT%H%M%S}.avi\".format(datetime.datetime.now())\n",
        "        vwriter = cv2.VideoWriter(file_name,\n",
        "                                  cv2.VideoWriter_fourcc(*'MJPG'),\n",
        "                                  fps, (width, height))\n",
        "\n",
        "        count = 0\n",
        "        success = True\n",
        "        while success:\n",
        "            print(\"frame: \", count)\n",
        "            # Read next image\n",
        "            success, image = vcapture.read()\n",
        "            if success:\n",
        "                # OpenCV returns images as BGR, convert to RGB\n",
        "                image = image[..., ::-1]\n",
        "                # Detect objects\n",
        "                r = model.detect([image], verbose=0)[0]\n",
        "                # Color splash\n",
        "                splash = color_splash(image, r['masks'])\n",
        "                # RGB -> BGR to save image to video\n",
        "                splash = splash[..., ::-1]\n",
        "                # Add image to video writer\n",
        "                vwriter.write(splash)\n",
        "                count += 1\n",
        "        vwriter.release()\n",
        "    print(\"Saved to \", file_name)"
      ],
      "execution_count": 0,
      "outputs": []
    },
    {
      "cell_type": "markdown",
      "metadata": {
        "id": "VvtdDOAsNzn-",
        "colab_type": "text"
      },
      "source": [
        "Train\n"
      ]
    },
    {
      "cell_type": "code",
      "metadata": {
        "id": "G--k4iFvuRC5",
        "colab_type": "code",
        "colab": {
          "base_uri": "https://localhost:8080/",
          "height": 450
        },
        "outputId": "de5afe63-b734-463e-f589-3be57f7bf3f6"
      },
      "source": [
        "# Training dataset\n",
        "dataset_train = BarrierDataset()\n",
        "dataset_train.load_barrier(\"/content/Mask_RCNN/barrierDataset\", \"train\")\n",
        "dataset_train.prepare()\n",
        "\n",
        "# Validation dataset\n",
        "dataset_val = BarrierDataset()\n",
        "dataset_val.load_barrier(\"/content/Mask_RCNN/barrierDataset\", \"val\")\n",
        "dataset_val.prepare()"
      ],
      "execution_count": 11,
      "outputs": [
        {
          "output_type": "stream",
          "text": [
            "{'filename': 'FP_Watzke_Pieschen_CamScanner_mobil.jpg', 'size': 544893, 'regions': [{'shape_attributes': {'name': 'polygon', 'all_points_x': [206, 448, 443, 301, 292, 190], 'all_points_y': [201, 201, 294, 292, 502, 507]}, 'region_attributes': {'barrier': 'stair'}}, {'shape_attributes': {'name': 'polygon', 'all_points_x': [517, 545, 552, 505, 483], 'all_points_y': [358, 391, 443, 441, 386]}, 'region_attributes': {'barrier': 'stair'}}, {'shape_attributes': {'name': 'polygon', 'all_points_x': [185, 24, 21, 180], 'all_points_y': [585, 585, 898, 901]}, 'region_attributes': {'barrier': 'stair'}}, {'shape_attributes': {'name': 'polygon', 'all_points_x': [249, 180, 185, 251], 'all_points_y': [732, 730, 792, 794]}, 'region_attributes': {'barrier': 'door'}}, {'shape_attributes': {'name': 'polygon', 'all_points_x': [526, 403, 403, 540], 'all_points_y': [839, 839, 910, 915]}, 'region_attributes': {'barrier': 'door'}}, {'shape_attributes': {'name': 'polygon', 'all_points_x': [768, 891, 886, 763], 'all_points_y': [924, 924, 851, 846]}, 'region_attributes': {'barrier': 'door'}}, {'shape_attributes': {'name': 'polygon', 'all_points_x': [386, 507, 507, 398], 'all_points_y': [1434, 1429, 1484, 1486]}, 'region_attributes': {'barrier': 'door'}}, {'shape_attributes': {'name': 'polygon', 'all_points_x': [751, 870, 867, 749], 'all_points_y': [1431, 1431, 1500, 1498]}, 'region_attributes': {'barrier': 'door'}}, {'shape_attributes': {'name': 'polygon', 'all_points_x': [1185, 1183, 1294, 1292], 'all_points_y': [1469, 1541, 1541, 1469]}, 'region_attributes': {'barrier': 'door'}}, {'shape_attributes': {'name': 'polygon', 'all_points_x': [1152, 1076, 1083, 1145], 'all_points_y': [1346, 1344, 1450, 1458]}, 'region_attributes': {'barrier': 'door'}}, {'shape_attributes': {'name': 'polygon', 'all_points_x': [766, 841, 917, 839], 'all_points_y': [1811, 1894, 1818, 1751]}, 'region_attributes': {'barrier': 'stair'}}, {'shape_attributes': {'name': 'rect', 'x': 1687, 'y': 865, 'width': 57, 'height': 71}, 'region_attributes': {'barrier': 'door'}}, {'shape_attributes': {'name': 'rect', 'x': 1770, 'y': 860, 'width': 64, 'height': 78}, 'region_attributes': {'barrier': 'door'}}, {'shape_attributes': {'name': 'rect', 'x': 1602, 'y': 419, 'width': 81, 'height': 114}, 'region_attributes': {'barrier': 'door'}}, {'shape_attributes': {'name': 'rect', 'x': 2171, 'y': 600, 'width': 69, 'height': 88}, 'region_attributes': {'barrier': 'door'}}, {'shape_attributes': {'name': 'polygon', 'all_points_x': [2344, 2557, 2524, 2311], 'all_points_y': [486, 517, 678, 645]}, 'region_attributes': {'barrier': 'stair'}}, {'shape_attributes': {'name': 'polygon', 'all_points_x': [2823, 2801, 2721, 2744], 'all_points_y': [446, 550, 540, 429]}, 'region_attributes': {'barrier': 'stair'}}, {'shape_attributes': {'name': 'polygon', 'all_points_x': [1870, 2022, 2003, 1844], 'all_points_y': [154, 182, 256, 232]}, 'region_attributes': {'barrier': 'stair'}}, {'shape_attributes': {'name': 'polygon', 'all_points_x': [2368, 2169, 2169, 2368], 'all_points_y': [1232, 1225, 1282, 1292]}, 'region_attributes': {'barrier': 'stair'}}, {'shape_attributes': {'name': 'rect', 'x': 1455, 'y': 1185, 'width': 119, 'height': 55}, 'region_attributes': {'barrier': 'door'}}, {'shape_attributes': {'name': 'rect', 'x': 1699, 'y': 1194, 'width': 104, 'height': 50}, 'region_attributes': {'barrier': 'door'}}, {'shape_attributes': {'name': 'rect', 'x': 1996, 'y': 813, 'width': 81, 'height': 71}, 'region_attributes': {'barrier': 'door'}}, {'shape_attributes': {'name': 'rect', 'x': 2323, 'y': 784, 'width': 64, 'height': 85}, 'region_attributes': {'barrier': 'door'}}, {'shape_attributes': {'name': 'rect', 'x': 2406, 'y': 808, 'width': 66, 'height': 73}, 'region_attributes': {'barrier': 'door'}}, {'shape_attributes': {'name': 'rect', 'x': 2486, 'y': 815, 'width': 62, 'height': 73}, 'region_attributes': {'barrier': 'door'}}, {'shape_attributes': {'name': 'rect', 'x': 2571, 'y': 711, 'width': 76, 'height': 78}, 'region_attributes': {'barrier': 'door'}}, {'shape_attributes': {'name': 'rect', 'x': 2358, 'y': 666, 'width': 55, 'height': 73}, 'region_attributes': {'barrier': 'door'}}, {'shape_attributes': {'name': 'rect', 'x': 1474, 'y': 1477, 'width': 71, 'height': 71}, 'region_attributes': {'barrier': 'door'}}, {'shape_attributes': {'name': 'rect', 'x': 1979, 'y': 1166, 'width': 71, 'height': 69}, 'region_attributes': {'barrier': 'door'}}, {'shape_attributes': {'name': 'rect', 'x': 2095, 'y': 853, 'width': 31, 'height': 130}, 'region_attributes': {'barrier': 'door'}}, {'shape_attributes': {'name': 'rect', 'x': 2121, 'y': 787, 'width': 192, 'height': 218}, 'region_attributes': {'barrier': 'lift'}}, {'shape_attributes': {'name': 'polygon', 'all_points_x': [1676, 1858, 1858, 1666], 'all_points_y': [308, 341, 450, 415]}, 'region_attributes': {'barrier': 'stair'}}, {'shape_attributes': {'name': 'polygon', 'all_points_x': [1958, 2015, 2114, 2116, 2036, 2022, 1962], 'all_points_y': [455, 472, 415, 391, 389, 377, 360]}, 'region_attributes': {'barrier': 'stair'}}, {'shape_attributes': {'name': 'polygon', 'all_points_x': [2519, 2593, 2583, 2515], 'all_points_y': [346, 358, 405, 398]}, 'region_attributes': {'barrier': 'stair'}}, {'shape_attributes': {'name': 'polygon', 'all_points_x': [2678, 2654, 2714, 2735], 'all_points_y': [415, 521, 538, 429]}, 'region_attributes': {'barrier': 'door'}}, {'shape_attributes': {'name': 'polygon', 'all_points_x': [2614, 2593, 2650, 2673], 'all_points_y': [529, 593, 616, 552]}, 'region_attributes': {'barrier': 'door'}}], 'file_attributes': {}}\n",
            "{'filename': 'FP_Societätstheater_3_CamScanner_mobil.jpg', 'size': 374638, 'regions': [{'shape_attributes': {'name': 'rect', 'x': 707, 'y': 166, 'width': 251, 'height': 149}, 'region_attributes': {'barrier': 'door'}}, {'shape_attributes': {'name': 'rect', 'x': 369, 'y': 394, 'width': 115, 'height': 124}, 'region_attributes': {'barrier': 'door'}}, {'shape_attributes': {'name': 'rect', 'x': 516, 'y': 518, 'width': 83, 'height': 89}, 'region_attributes': {'barrier': 'door'}}, {'shape_attributes': {'name': 'rect', 'x': 1189, 'y': 514, 'width': 107, 'height': 94}, 'region_attributes': {'barrier': 'door'}}, {'shape_attributes': {'name': 'rect', 'x': 200, 'y': 509, 'width': 124, 'height': 121}, 'region_attributes': {'barrier': 'door'}}, {'shape_attributes': {'name': 'rect', 'x': 1374, 'y': 1289, 'width': 141, 'height': 215}, 'region_attributes': {'barrier': 'door'}}, {'shape_attributes': {'name': 'rect', 'x': 1287, 'y': 1019, 'width': 115, 'height': 196}, 'region_attributes': {'barrier': 'door'}}, {'shape_attributes': {'name': 'rect', 'x': 2789, 'y': 430, 'width': 109, 'height': 121}, 'region_attributes': {'barrier': 'door'}}, {'shape_attributes': {'name': 'rect', 'x': 2610, 'y': 416, 'width': 89, 'height': 70}, 'region_attributes': {'barrier': 'door'}}, {'shape_attributes': {'name': 'rect', 'x': 2534, 'y': 428, 'width': 81, 'height': 87}, 'region_attributes': {'barrier': 'door'}}, {'shape_attributes': {'name': 'rect', 'x': 2276, 'y': 1097, 'width': 100, 'height': 104}, 'region_attributes': {'barrier': 'door'}}, {'shape_attributes': {'name': 'rect', 'x': 1300, 'y': 1585, 'width': 130, 'height': 215}, 'region_attributes': {'barrier': 'door'}}, {'shape_attributes': {'name': 'rect', 'x': 1585, 'y': 249, 'width': 89, 'height': 85}, 'region_attributes': {'barrier': 'door'}}, {'shape_attributes': {'name': 'rect', 'x': 1281, 'y': 326, 'width': 100, 'height': 92}, 'region_attributes': {'barrier': 'door'}}, {'shape_attributes': {'name': 'rect', 'x': 1125, 'y': 311, 'width': 89, 'height': 79}, 'region_attributes': {'barrier': 'door'}}, {'shape_attributes': {'name': 'rect', 'x': 1351, 'y': 816, 'width': 83, 'height': 130}, 'region_attributes': {'barrier': 'door'}}, {'shape_attributes': {'name': 'rect', 'x': 1458, 'y': 961, 'width': 158, 'height': 98}, 'region_attributes': {'barrier': 'door'}}, {'shape_attributes': {'name': 'polygon', 'all_points_x': [4, 153, 143, 149, 156, 251, 264, 2], 'all_points_y': [637, 646, 388, 388, 641, 648, 256, 262]}, 'region_attributes': {'barrier': 'stair'}}, {'shape_attributes': {'name': 'polygon', 'all_points_x': [1530, 1409, 1404, 1524], 'all_points_y': [786, 791, 514, 520]}, 'region_attributes': {'barrier': 'stair'}}, {'shape_attributes': {'name': 'polygon', 'all_points_x': [1558, 1564, 1664, 1658], 'all_points_y': [520, 780, 769, 516]}, 'region_attributes': {'barrier': 'stair'}}, {'shape_attributes': {'name': 'polygon', 'all_points_x': [2777, 2828, 2821, 2870, 2870, 2772], 'all_points_y': [980, 980, 812, 812, 654, 665]}, 'region_attributes': {'barrier': 'stair'}}, {'shape_attributes': {'name': 'polygon', 'all_points_x': [2887, 2962, 2953, 2881], 'all_points_y': [731, 739, 639, 656]}, 'region_attributes': {'barrier': 'stair'}}, {'shape_attributes': {'name': 'rect', 'x': 1726, 'y': 563, 'width': 107, 'height': 130}, 'region_attributes': {'barrier': 'lift'}}], 'file_attributes': {}}\n"
          ],
          "name": "stdout"
        },
        {
          "output_type": "error",
          "ename": "FileNotFoundError",
          "evalue": "ignored",
          "traceback": [
            "\u001b[0;31m---------------------------------------------------------------------------\u001b[0m",
            "\u001b[0;31mFileNotFoundError\u001b[0m                         Traceback (most recent call last)",
            "\u001b[0;32m<ipython-input-11-feaa0a213533>\u001b[0m in \u001b[0;36m<module>\u001b[0;34m()\u001b[0m\n\u001b[1;32m      1\u001b[0m \u001b[0;31m# Training dataset\u001b[0m\u001b[0;34m\u001b[0m\u001b[0;34m\u001b[0m\u001b[0;34m\u001b[0m\u001b[0m\n\u001b[1;32m      2\u001b[0m \u001b[0mdataset_train\u001b[0m \u001b[0;34m=\u001b[0m \u001b[0mBarrierDataset\u001b[0m\u001b[0;34m(\u001b[0m\u001b[0;34m)\u001b[0m\u001b[0;34m\u001b[0m\u001b[0;34m\u001b[0m\u001b[0m\n\u001b[0;32m----> 3\u001b[0;31m \u001b[0mdataset_train\u001b[0m\u001b[0;34m.\u001b[0m\u001b[0mload_barrier\u001b[0m\u001b[0;34m(\u001b[0m\u001b[0;34m\"/content/Mask_RCNN/barrierDataset\"\u001b[0m\u001b[0;34m,\u001b[0m \u001b[0;34m\"train\"\u001b[0m\u001b[0;34m)\u001b[0m\u001b[0;34m\u001b[0m\u001b[0;34m\u001b[0m\u001b[0m\n\u001b[0m\u001b[1;32m      4\u001b[0m \u001b[0mdataset_train\u001b[0m\u001b[0;34m.\u001b[0m\u001b[0mprepare\u001b[0m\u001b[0;34m(\u001b[0m\u001b[0;34m)\u001b[0m\u001b[0;34m\u001b[0m\u001b[0;34m\u001b[0m\u001b[0m\n\u001b[1;32m      5\u001b[0m \u001b[0;34m\u001b[0m\u001b[0m\n",
            "\u001b[0;32m<ipython-input-9-3d9815fcda76>\u001b[0m in \u001b[0;36mload_barrier\u001b[0;34m(self, dataset_dir, subset)\u001b[0m\n\u001b[1;32m     54\u001b[0m             \u001b[0;31m# the image. This is only managable since the dataset is tiny.\u001b[0m\u001b[0;34m\u001b[0m\u001b[0;34m\u001b[0m\u001b[0;34m\u001b[0m\u001b[0m\n\u001b[1;32m     55\u001b[0m             \u001b[0mimage_path\u001b[0m \u001b[0;34m=\u001b[0m \u001b[0mos\u001b[0m\u001b[0;34m.\u001b[0m\u001b[0mpath\u001b[0m\u001b[0;34m.\u001b[0m\u001b[0mjoin\u001b[0m\u001b[0;34m(\u001b[0m\u001b[0mdataset_dir\u001b[0m\u001b[0;34m,\u001b[0m \u001b[0ma\u001b[0m\u001b[0;34m[\u001b[0m\u001b[0;34m'filename'\u001b[0m\u001b[0;34m]\u001b[0m\u001b[0;34m)\u001b[0m\u001b[0;34m\u001b[0m\u001b[0;34m\u001b[0m\u001b[0m\n\u001b[0;32m---> 56\u001b[0;31m             \u001b[0mimage\u001b[0m \u001b[0;34m=\u001b[0m \u001b[0mskimage\u001b[0m\u001b[0;34m.\u001b[0m\u001b[0mio\u001b[0m\u001b[0;34m.\u001b[0m\u001b[0mimread\u001b[0m\u001b[0;34m(\u001b[0m\u001b[0mimage_path\u001b[0m\u001b[0;34m)\u001b[0m\u001b[0;34m\u001b[0m\u001b[0;34m\u001b[0m\u001b[0m\n\u001b[0m\u001b[1;32m     57\u001b[0m             \u001b[0mheight\u001b[0m\u001b[0;34m,\u001b[0m \u001b[0mwidth\u001b[0m \u001b[0;34m=\u001b[0m \u001b[0mimage\u001b[0m\u001b[0;34m.\u001b[0m\u001b[0mshape\u001b[0m\u001b[0;34m[\u001b[0m\u001b[0;34m:\u001b[0m\u001b[0;36m2\u001b[0m\u001b[0;34m]\u001b[0m\u001b[0;34m\u001b[0m\u001b[0;34m\u001b[0m\u001b[0m\n\u001b[1;32m     58\u001b[0m \u001b[0;34m\u001b[0m\u001b[0m\n",
            "\u001b[0;32m/usr/local/lib/python3.6/dist-packages/skimage/io/_io.py\u001b[0m in \u001b[0;36mimread\u001b[0;34m(fname, as_gray, plugin, **plugin_args)\u001b[0m\n\u001b[1;32m     46\u001b[0m \u001b[0;34m\u001b[0m\u001b[0m\n\u001b[1;32m     47\u001b[0m     \u001b[0;32mwith\u001b[0m \u001b[0mfile_or_url_context\u001b[0m\u001b[0;34m(\u001b[0m\u001b[0mfname\u001b[0m\u001b[0;34m)\u001b[0m \u001b[0;32mas\u001b[0m \u001b[0mfname\u001b[0m\u001b[0;34m:\u001b[0m\u001b[0;34m\u001b[0m\u001b[0;34m\u001b[0m\u001b[0m\n\u001b[0;32m---> 48\u001b[0;31m         \u001b[0mimg\u001b[0m \u001b[0;34m=\u001b[0m \u001b[0mcall_plugin\u001b[0m\u001b[0;34m(\u001b[0m\u001b[0;34m'imread'\u001b[0m\u001b[0;34m,\u001b[0m \u001b[0mfname\u001b[0m\u001b[0;34m,\u001b[0m \u001b[0mplugin\u001b[0m\u001b[0;34m=\u001b[0m\u001b[0mplugin\u001b[0m\u001b[0;34m,\u001b[0m \u001b[0;34m**\u001b[0m\u001b[0mplugin_args\u001b[0m\u001b[0;34m)\u001b[0m\u001b[0;34m\u001b[0m\u001b[0;34m\u001b[0m\u001b[0m\n\u001b[0m\u001b[1;32m     49\u001b[0m \u001b[0;34m\u001b[0m\u001b[0m\n\u001b[1;32m     50\u001b[0m     \u001b[0;32mif\u001b[0m \u001b[0;32mnot\u001b[0m \u001b[0mhasattr\u001b[0m\u001b[0;34m(\u001b[0m\u001b[0mimg\u001b[0m\u001b[0;34m,\u001b[0m \u001b[0;34m'ndim'\u001b[0m\u001b[0;34m)\u001b[0m\u001b[0;34m:\u001b[0m\u001b[0;34m\u001b[0m\u001b[0;34m\u001b[0m\u001b[0m\n",
            "\u001b[0;32m/usr/local/lib/python3.6/dist-packages/skimage/io/manage_plugins.py\u001b[0m in \u001b[0;36mcall_plugin\u001b[0;34m(kind, *args, **kwargs)\u001b[0m\n\u001b[1;32m    208\u001b[0m                                (plugin, kind))\n\u001b[1;32m    209\u001b[0m \u001b[0;34m\u001b[0m\u001b[0m\n\u001b[0;32m--> 210\u001b[0;31m     \u001b[0;32mreturn\u001b[0m \u001b[0mfunc\u001b[0m\u001b[0;34m(\u001b[0m\u001b[0;34m*\u001b[0m\u001b[0margs\u001b[0m\u001b[0;34m,\u001b[0m \u001b[0;34m**\u001b[0m\u001b[0mkwargs\u001b[0m\u001b[0;34m)\u001b[0m\u001b[0;34m\u001b[0m\u001b[0;34m\u001b[0m\u001b[0m\n\u001b[0m\u001b[1;32m    211\u001b[0m \u001b[0;34m\u001b[0m\u001b[0m\n\u001b[1;32m    212\u001b[0m \u001b[0;34m\u001b[0m\u001b[0m\n",
            "\u001b[0;32m/usr/local/lib/python3.6/dist-packages/skimage/io/_plugins/imageio_plugin.py\u001b[0m in \u001b[0;36mimread\u001b[0;34m(*args, **kwargs)\u001b[0m\n\u001b[1;32m      8\u001b[0m \u001b[0;34m@\u001b[0m\u001b[0mwraps\u001b[0m\u001b[0;34m(\u001b[0m\u001b[0mimageio_imread\u001b[0m\u001b[0;34m)\u001b[0m\u001b[0;34m\u001b[0m\u001b[0;34m\u001b[0m\u001b[0m\n\u001b[1;32m      9\u001b[0m \u001b[0;32mdef\u001b[0m \u001b[0mimread\u001b[0m\u001b[0;34m(\u001b[0m\u001b[0;34m*\u001b[0m\u001b[0margs\u001b[0m\u001b[0;34m,\u001b[0m \u001b[0;34m**\u001b[0m\u001b[0mkwargs\u001b[0m\u001b[0;34m)\u001b[0m\u001b[0;34m:\u001b[0m\u001b[0;34m\u001b[0m\u001b[0;34m\u001b[0m\u001b[0m\n\u001b[0;32m---> 10\u001b[0;31m     \u001b[0;32mreturn\u001b[0m \u001b[0mnp\u001b[0m\u001b[0;34m.\u001b[0m\u001b[0masarray\u001b[0m\u001b[0;34m(\u001b[0m\u001b[0mimageio_imread\u001b[0m\u001b[0;34m(\u001b[0m\u001b[0;34m*\u001b[0m\u001b[0margs\u001b[0m\u001b[0;34m,\u001b[0m \u001b[0;34m**\u001b[0m\u001b[0mkwargs\u001b[0m\u001b[0;34m)\u001b[0m\u001b[0;34m)\u001b[0m\u001b[0;34m\u001b[0m\u001b[0;34m\u001b[0m\u001b[0m\n\u001b[0m",
            "\u001b[0;32m/usr/local/lib/python3.6/dist-packages/imageio/core/functions.py\u001b[0m in \u001b[0;36mimread\u001b[0;34m(uri, format, **kwargs)\u001b[0m\n\u001b[1;32m    219\u001b[0m \u001b[0;34m\u001b[0m\u001b[0m\n\u001b[1;32m    220\u001b[0m     \u001b[0;31m# Get reader and read first\u001b[0m\u001b[0;34m\u001b[0m\u001b[0;34m\u001b[0m\u001b[0;34m\u001b[0m\u001b[0m\n\u001b[0;32m--> 221\u001b[0;31m     \u001b[0mreader\u001b[0m \u001b[0;34m=\u001b[0m \u001b[0mread\u001b[0m\u001b[0;34m(\u001b[0m\u001b[0muri\u001b[0m\u001b[0;34m,\u001b[0m \u001b[0mformat\u001b[0m\u001b[0;34m,\u001b[0m \u001b[0;34m\"i\"\u001b[0m\u001b[0;34m,\u001b[0m \u001b[0;34m**\u001b[0m\u001b[0mkwargs\u001b[0m\u001b[0;34m)\u001b[0m\u001b[0;34m\u001b[0m\u001b[0;34m\u001b[0m\u001b[0m\n\u001b[0m\u001b[1;32m    222\u001b[0m     \u001b[0;32mwith\u001b[0m \u001b[0mreader\u001b[0m\u001b[0;34m:\u001b[0m\u001b[0;34m\u001b[0m\u001b[0;34m\u001b[0m\u001b[0m\n\u001b[1;32m    223\u001b[0m         \u001b[0;32mreturn\u001b[0m \u001b[0mreader\u001b[0m\u001b[0;34m.\u001b[0m\u001b[0mget_data\u001b[0m\u001b[0;34m(\u001b[0m\u001b[0;36m0\u001b[0m\u001b[0;34m)\u001b[0m\u001b[0;34m\u001b[0m\u001b[0;34m\u001b[0m\u001b[0m\n",
            "\u001b[0;32m/usr/local/lib/python3.6/dist-packages/imageio/core/functions.py\u001b[0m in \u001b[0;36mget_reader\u001b[0;34m(uri, format, mode, **kwargs)\u001b[0m\n\u001b[1;32m    128\u001b[0m \u001b[0;34m\u001b[0m\u001b[0m\n\u001b[1;32m    129\u001b[0m     \u001b[0;31m# Create request object\u001b[0m\u001b[0;34m\u001b[0m\u001b[0;34m\u001b[0m\u001b[0;34m\u001b[0m\u001b[0m\n\u001b[0;32m--> 130\u001b[0;31m     \u001b[0mrequest\u001b[0m \u001b[0;34m=\u001b[0m \u001b[0mRequest\u001b[0m\u001b[0;34m(\u001b[0m\u001b[0muri\u001b[0m\u001b[0;34m,\u001b[0m \u001b[0;34m\"r\"\u001b[0m \u001b[0;34m+\u001b[0m \u001b[0mmode\u001b[0m\u001b[0;34m,\u001b[0m \u001b[0;34m**\u001b[0m\u001b[0mkwargs\u001b[0m\u001b[0;34m)\u001b[0m\u001b[0;34m\u001b[0m\u001b[0;34m\u001b[0m\u001b[0m\n\u001b[0m\u001b[1;32m    131\u001b[0m \u001b[0;34m\u001b[0m\u001b[0m\n\u001b[1;32m    132\u001b[0m     \u001b[0;31m# Get format\u001b[0m\u001b[0;34m\u001b[0m\u001b[0;34m\u001b[0m\u001b[0;34m\u001b[0m\u001b[0m\n",
            "\u001b[0;32m/usr/local/lib/python3.6/dist-packages/imageio/core/request.py\u001b[0m in \u001b[0;36m__init__\u001b[0;34m(self, uri, mode, **kwargs)\u001b[0m\n\u001b[1;32m    123\u001b[0m \u001b[0;34m\u001b[0m\u001b[0m\n\u001b[1;32m    124\u001b[0m         \u001b[0;31m# Parse what was given\u001b[0m\u001b[0;34m\u001b[0m\u001b[0;34m\u001b[0m\u001b[0;34m\u001b[0m\u001b[0m\n\u001b[0;32m--> 125\u001b[0;31m         \u001b[0mself\u001b[0m\u001b[0;34m.\u001b[0m\u001b[0m_parse_uri\u001b[0m\u001b[0;34m(\u001b[0m\u001b[0muri\u001b[0m\u001b[0;34m)\u001b[0m\u001b[0;34m\u001b[0m\u001b[0;34m\u001b[0m\u001b[0m\n\u001b[0m\u001b[1;32m    126\u001b[0m \u001b[0;34m\u001b[0m\u001b[0m\n\u001b[1;32m    127\u001b[0m         \u001b[0;31m# Set extension\u001b[0m\u001b[0;34m\u001b[0m\u001b[0;34m\u001b[0m\u001b[0;34m\u001b[0m\u001b[0m\n",
            "\u001b[0;32m/usr/local/lib/python3.6/dist-packages/imageio/core/request.py\u001b[0m in \u001b[0;36m_parse_uri\u001b[0;34m(self, uri)\u001b[0m\n\u001b[1;32m    271\u001b[0m                 \u001b[0;31m# Reading: check that the file exists (but is allowed a dir)\u001b[0m\u001b[0;34m\u001b[0m\u001b[0;34m\u001b[0m\u001b[0;34m\u001b[0m\u001b[0m\n\u001b[1;32m    272\u001b[0m                 \u001b[0;32mif\u001b[0m \u001b[0;32mnot\u001b[0m \u001b[0mos\u001b[0m\u001b[0;34m.\u001b[0m\u001b[0mpath\u001b[0m\u001b[0;34m.\u001b[0m\u001b[0mexists\u001b[0m\u001b[0;34m(\u001b[0m\u001b[0mfn\u001b[0m\u001b[0;34m)\u001b[0m\u001b[0;34m:\u001b[0m\u001b[0;34m\u001b[0m\u001b[0;34m\u001b[0m\u001b[0m\n\u001b[0;32m--> 273\u001b[0;31m                     \u001b[0;32mraise\u001b[0m \u001b[0mFileNotFoundError\u001b[0m\u001b[0;34m(\u001b[0m\u001b[0;34m\"No such file: '%s'\"\u001b[0m \u001b[0;34m%\u001b[0m \u001b[0mfn\u001b[0m\u001b[0;34m)\u001b[0m\u001b[0;34m\u001b[0m\u001b[0;34m\u001b[0m\u001b[0m\n\u001b[0m\u001b[1;32m    274\u001b[0m             \u001b[0;32melse\u001b[0m\u001b[0;34m:\u001b[0m\u001b[0;34m\u001b[0m\u001b[0;34m\u001b[0m\u001b[0m\n\u001b[1;32m    275\u001b[0m                 \u001b[0;31m# Writing: check that the directory to write to does exist\u001b[0m\u001b[0;34m\u001b[0m\u001b[0;34m\u001b[0m\u001b[0;34m\u001b[0m\u001b[0m\n",
            "\u001b[0;31mFileNotFoundError\u001b[0m: No such file: '/content/Mask_RCNN/barrierDataset/train/FP_Societätstheater_3_CamScanner_mobil.jpg'"
          ]
        }
      ]
    },
    {
      "cell_type": "code",
      "metadata": {
        "id": "LtgLf149uUzX",
        "colab_type": "code",
        "colab": {}
      },
      "source": [
        "# Load and display random samples\n",
        "image_ids = np.random.choice(dataset_train.image_ids, 4)\n",
        "for image_id in image_ids:\n",
        "    image = dataset_train.load_image(image_id)\n",
        "    mask, class_ids = dataset_train.load_mask(image_id)\n",
        "    visualize.display_top_masks(image, mask, class_ids, dataset_train.class_names)"
      ],
      "execution_count": 0,
      "outputs": []
    },
    {
      "cell_type": "markdown",
      "metadata": {
        "id": "uFg7A2bFuWYK",
        "colab_type": "text"
      },
      "source": [
        "CREATE MODEL"
      ]
    },
    {
      "cell_type": "code",
      "metadata": {
        "id": "QIf2AuVkuaat",
        "colab_type": "code",
        "colab": {}
      },
      "source": [
        "# Create model in training mode\n",
        "model = modellib.MaskRCNN(mode=\"training\", config=config,\n",
        "                          model_dir=MODEL_DIR)"
      ],
      "execution_count": 0,
      "outputs": []
    },
    {
      "cell_type": "code",
      "metadata": {
        "id": "q4iVzvkjuccX",
        "colab_type": "code",
        "colab": {}
      },
      "source": [
        "# Which weights to start with?\n",
        "init_with = \"coco\"  # imagenet, coco, or last\n",
        "\n",
        "if init_with == \"imagenet\":\n",
        "    model.load_weights(model.get_imagenet_weights(), by_name=True)\n",
        "elif init_with == \"coco\":\n",
        "    # Load weights trained on MS COCO, but skip layers that\n",
        "    # are different due to the different number of classes\n",
        "    # See README for instructions to download the COCO weights\n",
        "    model.load_weights(COCO_MODEL_PATH, by_name=True,\n",
        "                       exclude=[\"mrcnn_class_logits\", \"mrcnn_bbox_fc\", \n",
        "                                \"mrcnn_bbox\", \"mrcnn_mask\"])\n",
        "elif init_with == \"last\":\n",
        "    # Load the last model you trained and continue training\n",
        "    model.load_weights(model.find_last(), by_name=True)"
      ],
      "execution_count": 0,
      "outputs": []
    },
    {
      "cell_type": "markdown",
      "metadata": {
        "id": "715Nr9I3ufhx",
        "colab_type": "text"
      },
      "source": [
        "TRAINING"
      ]
    },
    {
      "cell_type": "code",
      "metadata": {
        "id": "Gv4eBr6auhYd",
        "colab_type": "code",
        "colab": {}
      },
      "source": [
        "# Train the head branches\n",
        "# Passing layers=\"heads\" freezes all layers except the head\n",
        "# layers. You can also pass a regular expression to select\n",
        "# which layers to train by name pattern.\n",
        "model.train(dataset_train, dataset_val, \n",
        "            learning_rate=config.LEARNING_RATE, \n",
        "            epochs=1, \n",
        "            layers='heads')"
      ],
      "execution_count": 0,
      "outputs": []
    },
    {
      "cell_type": "code",
      "metadata": {
        "id": "jmlJ9GQpuoSj",
        "colab_type": "code",
        "colab": {}
      },
      "source": [
        "# Fine tune all layers\n",
        "# Passing layers=\"all\" trains all layers. You can also \n",
        "# pass a regular expression to select which layers to\n",
        "# train by name pattern.\n",
        "model.train(dataset_train, dataset_val, \n",
        "            learning_rate=config.LEARNING_RATE / 10,\n",
        "            epochs=2, \n",
        "            layers=\"all\")"
      ],
      "execution_count": 0,
      "outputs": []
    },
    {
      "cell_type": "code",
      "metadata": {
        "id": "OoEz2ghSurQb",
        "colab_type": "code",
        "colab": {}
      },
      "source": [
        "# Save weights\n",
        "# Typically not needed because callbacks save after every epoch\n",
        "# Uncomment to save manually\n",
        "# model_path = os.path.join(MODEL_DIR, \"mask_rcnn_shapes.h5\")\n",
        "# model.keras_model.save_weights(model_path)"
      ],
      "execution_count": 0,
      "outputs": []
    },
    {
      "cell_type": "markdown",
      "metadata": {
        "id": "y7wNxS2tuuSu",
        "colab_type": "text"
      },
      "source": [
        "DETECTION"
      ]
    },
    {
      "cell_type": "code",
      "metadata": {
        "id": "NNZ0iAA9uxg8",
        "colab_type": "code",
        "colab": {}
      },
      "source": [
        "class InferenceConfig(ShapesConfig):\n",
        "    GPU_COUNT = 1\n",
        "    IMAGES_PER_GPU = 1\n",
        "\n",
        "inference_config = InferenceConfig()\n",
        "\n",
        "# Recreate the model in inference mode\n",
        "model = modellib.MaskRCNN(mode=\"inference\", \n",
        "                          config=inference_config,\n",
        "                          model_dir=MODEL_DIR)\n",
        "\n",
        "# Get path to saved weights\n",
        "# Either set a specific path or find last trained weights\n",
        "# model_path = os.path.join(ROOT_DIR, \".h5 file name here\")\n",
        "model_path = model.find_last()\n",
        "\n",
        "# Load trained weights\n",
        "print(\"Loading weights from \", model_path)\n",
        "model.load_weights(model_path, by_name=True)"
      ],
      "execution_count": 0,
      "outputs": []
    },
    {
      "cell_type": "code",
      "metadata": {
        "id": "7Dtvp0jFuz47",
        "colab_type": "code",
        "colab": {}
      },
      "source": [
        "# Test on a random image\n",
        "image_id = random.choice(dataset_val.image_ids)\n",
        "original_image, image_meta, gt_class_id, gt_bbox, gt_mask =\\\n",
        "    modellib.load_image_gt(dataset_val, inference_config, \n",
        "                           image_id, use_mini_mask=False)\n",
        "\n",
        "log(\"original_image\", original_image)\n",
        "log(\"image_meta\", image_meta)\n",
        "log(\"gt_class_id\", gt_class_id)\n",
        "log(\"gt_bbox\", gt_bbox)\n",
        "log(\"gt_mask\", gt_mask)\n",
        "\n",
        "visualize.display_instances(original_image, gt_bbox, gt_mask, gt_class_id, \n",
        "                            dataset_train.class_names, figsize=(8, 8))"
      ],
      "execution_count": 0,
      "outputs": []
    },
    {
      "cell_type": "code",
      "metadata": {
        "id": "HwDQ1Z-eu6Km",
        "colab_type": "code",
        "colab": {}
      },
      "source": [
        "results = model.detect([original_image], verbose=1)\n",
        "\n",
        "r = results[0]\n",
        "visualize.display_instances(original_image, r['rois'], r['masks'], r['class_ids'], \n",
        "                            dataset_val.class_names, r['scores'], ax=get_ax())"
      ],
      "execution_count": 0,
      "outputs": []
    },
    {
      "cell_type": "markdown",
      "metadata": {
        "id": "z-hBvq1ou7a9",
        "colab_type": "text"
      },
      "source": [
        "EVALUATION"
      ]
    },
    {
      "cell_type": "code",
      "metadata": {
        "id": "3011PS9Xu9Xc",
        "colab_type": "code",
        "colab": {}
      },
      "source": [
        "# Compute VOC-Style mAP @ IoU=0.5\n",
        "# Running on 10 images. Increase for better accuracy.\n",
        "image_ids = np.random.choice(dataset_val.image_ids, 10)\n",
        "APs = []\n",
        "for image_id in image_ids:\n",
        "    # Load image and ground truth data\n",
        "    image, image_meta, gt_class_id, gt_bbox, gt_mask =\\\n",
        "        modellib.load_image_gt(dataset_val, inference_config,\n",
        "                               image_id, use_mini_mask=False)\n",
        "    molded_images = np.expand_dims(modellib.mold_image(image, inference_config), 0)\n",
        "    # Run object detection\n",
        "    results = model.detect([image], verbose=0)\n",
        "    r = results[0]\n",
        "    # Compute AP\n",
        "    AP, precisions, recalls, overlaps =\\\n",
        "        utils.compute_ap(gt_bbox, gt_class_id, gt_mask,\n",
        "                         r[\"rois\"], r[\"class_ids\"], r[\"scores\"], r['masks'])\n",
        "    APs.append(AP)\n",
        "    \n",
        "print(\"mAP: \", np.mean(APs))"
      ],
      "execution_count": 0,
      "outputs": []
    }
  ]
}